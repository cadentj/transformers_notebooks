{
  "cells": [
    {
      "cell_type": "markdown",
      "metadata": {
        "id": "LZF3H9yfU7MV"
      },
      "source": [
        "# Introduction to Transformers"
      ]
    },
    {
      "cell_type": "code",
      "execution_count": 1,
      "metadata": {},
      "outputs": [
        {
          "name": "stdout",
          "output_type": "stream",
          "text": [
            "Requirement already satisfied: nnsight in /share/u/caden/.conda/envs/work/lib/python3.10/site-packages (0.2.19)\n",
            "Requirement already satisfied: transformers in /share/u/caden/.conda/envs/work/lib/python3.10/site-packages (from nnsight) (4.41.2)\n",
            "Requirement already satisfied: protobuf in /share/u/caden/.conda/envs/work/lib/python3.10/site-packages (from nnsight) (5.27.1)\n",
            "Requirement already satisfied: python-socketio[client] in /share/u/caden/.conda/envs/work/lib/python3.10/site-packages (from nnsight) (5.11.2)\n",
            "Requirement already satisfied: tokenizers>=0.13.0 in /share/u/caden/.conda/envs/work/lib/python3.10/site-packages (from nnsight) (0.19.1)\n",
            "Requirement already satisfied: pydantic>=2.4.0 in /share/u/caden/.conda/envs/work/lib/python3.10/site-packages (from nnsight) (2.7.4)\n",
            "Requirement already satisfied: torch>=2.1.0 in /share/u/caden/.conda/envs/work/lib/python3.10/site-packages (from nnsight) (2.1.2)\n",
            "Requirement already satisfied: sentencepiece in /share/u/caden/.conda/envs/work/lib/python3.10/site-packages (from nnsight) (0.2.0)\n",
            "Requirement already satisfied: torchvision in /share/u/caden/.conda/envs/work/lib/python3.10/site-packages (from nnsight) (0.18.1)\n",
            "Requirement already satisfied: accelerate in /share/u/caden/.conda/envs/work/lib/python3.10/site-packages (from nnsight) (0.31.0)\n",
            "Requirement already satisfied: diffusers in /share/u/caden/.conda/envs/work/lib/python3.10/site-packages (from nnsight) (0.29.0)\n",
            "Requirement already satisfied: einops in /share/u/caden/.conda/envs/work/lib/python3.10/site-packages (from nnsight) (0.8.0)\n",
            "Requirement already satisfied: annotated-types>=0.4.0 in /share/u/caden/.conda/envs/work/lib/python3.10/site-packages (from pydantic>=2.4.0->nnsight) (0.7.0)\n",
            "Requirement already satisfied: pydantic-core==2.18.4 in /share/u/caden/.conda/envs/work/lib/python3.10/site-packages (from pydantic>=2.4.0->nnsight) (2.18.4)\n",
            "Requirement already satisfied: typing-extensions>=4.6.1 in /share/u/caden/.conda/envs/work/lib/python3.10/site-packages (from pydantic>=2.4.0->nnsight) (4.12.2)\n",
            "Requirement already satisfied: huggingface-hub<1.0,>=0.16.4 in /share/u/caden/.conda/envs/work/lib/python3.10/site-packages (from tokenizers>=0.13.0->nnsight) (0.23.4)\n",
            "Requirement already satisfied: filelock in /share/u/caden/.conda/envs/work/lib/python3.10/site-packages (from torch>=2.1.0->nnsight) (3.15.1)\n",
            "Requirement already satisfied: sympy in /share/u/caden/.conda/envs/work/lib/python3.10/site-packages (from torch>=2.1.0->nnsight) (1.12.1)\n",
            "Requirement already satisfied: networkx in /share/u/caden/.conda/envs/work/lib/python3.10/site-packages (from torch>=2.1.0->nnsight) (3.3)\n",
            "Requirement already satisfied: jinja2 in /share/u/caden/.conda/envs/work/lib/python3.10/site-packages (from torch>=2.1.0->nnsight) (3.1.4)\n",
            "Requirement already satisfied: fsspec in /share/u/caden/.conda/envs/work/lib/python3.10/site-packages (from torch>=2.1.0->nnsight) (2024.6.0)\n",
            "Requirement already satisfied: nvidia-cuda-nvrtc-cu12==12.1.105 in /share/u/caden/.conda/envs/work/lib/python3.10/site-packages (from torch>=2.1.0->nnsight) (12.1.105)\n",
            "Requirement already satisfied: nvidia-cuda-runtime-cu12==12.1.105 in /share/u/caden/.conda/envs/work/lib/python3.10/site-packages (from torch>=2.1.0->nnsight) (12.1.105)\n",
            "Requirement already satisfied: nvidia-cuda-cupti-cu12==12.1.105 in /share/u/caden/.conda/envs/work/lib/python3.10/site-packages (from torch>=2.1.0->nnsight) (12.1.105)\n",
            "Requirement already satisfied: nvidia-cudnn-cu12==8.9.2.26 in /share/u/caden/.conda/envs/work/lib/python3.10/site-packages (from torch>=2.1.0->nnsight) (8.9.2.26)\n",
            "Requirement already satisfied: nvidia-cublas-cu12==12.1.3.1 in /share/u/caden/.conda/envs/work/lib/python3.10/site-packages (from torch>=2.1.0->nnsight) (12.1.3.1)\n",
            "Requirement already satisfied: nvidia-cufft-cu12==11.0.2.54 in /share/u/caden/.conda/envs/work/lib/python3.10/site-packages (from torch>=2.1.0->nnsight) (11.0.2.54)\n",
            "Requirement already satisfied: nvidia-curand-cu12==10.3.2.106 in /share/u/caden/.conda/envs/work/lib/python3.10/site-packages (from torch>=2.1.0->nnsight) (10.3.2.106)\n",
            "Requirement already satisfied: nvidia-cusolver-cu12==11.4.5.107 in /share/u/caden/.conda/envs/work/lib/python3.10/site-packages (from torch>=2.1.0->nnsight) (11.4.5.107)\n",
            "Requirement already satisfied: nvidia-cusparse-cu12==12.1.0.106 in /share/u/caden/.conda/envs/work/lib/python3.10/site-packages (from torch>=2.1.0->nnsight) (12.1.0.106)\n",
            "Requirement already satisfied: nvidia-nccl-cu12==2.18.1 in /share/u/caden/.conda/envs/work/lib/python3.10/site-packages (from torch>=2.1.0->nnsight) (2.18.1)\n",
            "Requirement already satisfied: nvidia-nvtx-cu12==12.1.105 in /share/u/caden/.conda/envs/work/lib/python3.10/site-packages (from torch>=2.1.0->nnsight) (12.1.105)\n",
            "Requirement already satisfied: triton==2.1.0 in /share/u/caden/.conda/envs/work/lib/python3.10/site-packages (from torch>=2.1.0->nnsight) (2.1.0)\n",
            "Requirement already satisfied: nvidia-nvjitlink-cu12 in /share/u/caden/.conda/envs/work/lib/python3.10/site-packages (from nvidia-cusolver-cu12==11.4.5.107->torch>=2.1.0->nnsight) (12.5.40)\n",
            "Requirement already satisfied: numpy>=1.17 in /share/u/caden/.conda/envs/work/lib/python3.10/site-packages (from accelerate->nnsight) (2.0.0)\n",
            "Requirement already satisfied: packaging>=20.0 in /share/u/caden/.conda/envs/work/lib/python3.10/site-packages (from accelerate->nnsight) (24.1)\n",
            "Requirement already satisfied: psutil in /share/u/caden/.conda/envs/work/lib/python3.10/site-packages (from accelerate->nnsight) (5.9.8)\n",
            "Requirement already satisfied: pyyaml in /share/u/caden/.conda/envs/work/lib/python3.10/site-packages (from accelerate->nnsight) (6.0.1)\n",
            "Requirement already satisfied: safetensors>=0.3.1 in /share/u/caden/.conda/envs/work/lib/python3.10/site-packages (from accelerate->nnsight) (0.4.3)\n",
            "Requirement already satisfied: importlib-metadata in /share/u/caden/.conda/envs/work/lib/python3.10/site-packages (from diffusers->nnsight) (7.1.0)\n",
            "Requirement already satisfied: regex!=2019.12.17 in /share/u/caden/.conda/envs/work/lib/python3.10/site-packages (from diffusers->nnsight) (2024.5.15)\n",
            "Requirement already satisfied: requests in /share/u/caden/.conda/envs/work/lib/python3.10/site-packages (from diffusers->nnsight) (2.32.3)\n",
            "Requirement already satisfied: Pillow in /share/u/caden/.conda/envs/work/lib/python3.10/site-packages (from diffusers->nnsight) (10.3.0)\n",
            "Requirement already satisfied: bidict>=0.21.0 in /share/u/caden/.conda/envs/work/lib/python3.10/site-packages (from python-socketio[client]->nnsight) (0.23.1)\n",
            "Requirement already satisfied: python-engineio>=4.8.0 in /share/u/caden/.conda/envs/work/lib/python3.10/site-packages (from python-socketio[client]->nnsight) (4.9.1)\n",
            "Requirement already satisfied: websocket-client>=0.54.0 in /share/u/caden/.conda/envs/work/lib/python3.10/site-packages (from python-socketio[client]->nnsight) (1.8.0)\n",
            "Collecting torch>=2.1.0 (from nnsight)\n",
            "  Using cached torch-2.3.1-cp310-cp310-manylinux1_x86_64.whl.metadata (26 kB)\n",
            "Collecting nvidia-nccl-cu12==2.20.5 (from torch>=2.1.0->nnsight)\n",
            "  Using cached nvidia_nccl_cu12-2.20.5-py3-none-manylinux2014_x86_64.whl.metadata (1.8 kB)\n",
            "Collecting triton==2.3.1 (from torch>=2.1.0->nnsight)\n",
            "  Using cached triton-2.3.1-cp310-cp310-manylinux_2_17_x86_64.manylinux2014_x86_64.whl.metadata (1.4 kB)\n",
            "Requirement already satisfied: tqdm>=4.27 in /share/u/caden/.conda/envs/work/lib/python3.10/site-packages (from transformers->nnsight) (4.66.4)\n",
            "Requirement already satisfied: simple-websocket>=0.10.0 in /share/u/caden/.conda/envs/work/lib/python3.10/site-packages (from python-engineio>=4.8.0->python-socketio[client]->nnsight) (1.0.0)\n",
            "Requirement already satisfied: charset-normalizer<4,>=2 in /share/u/caden/.conda/envs/work/lib/python3.10/site-packages (from requests->diffusers->nnsight) (3.3.2)\n",
            "Requirement already satisfied: idna<4,>=2.5 in /share/u/caden/.conda/envs/work/lib/python3.10/site-packages (from requests->diffusers->nnsight) (3.7)\n",
            "Requirement already satisfied: urllib3<3,>=1.21.1 in /share/u/caden/.conda/envs/work/lib/python3.10/site-packages (from requests->diffusers->nnsight) (2.2.2)\n",
            "Requirement already satisfied: certifi>=2017.4.17 in /share/u/caden/.conda/envs/work/lib/python3.10/site-packages (from requests->diffusers->nnsight) (2024.6.2)\n",
            "Requirement already satisfied: zipp>=0.5 in /share/u/caden/.conda/envs/work/lib/python3.10/site-packages (from importlib-metadata->diffusers->nnsight) (3.19.2)\n",
            "Requirement already satisfied: MarkupSafe>=2.0 in /share/u/caden/.conda/envs/work/lib/python3.10/site-packages (from jinja2->torch>=2.1.0->nnsight) (2.1.5)\n",
            "Requirement already satisfied: mpmath<1.4.0,>=1.1.0 in /share/u/caden/.conda/envs/work/lib/python3.10/site-packages (from sympy->torch>=2.1.0->nnsight) (1.3.0)\n",
            "Requirement already satisfied: wsproto in /share/u/caden/.conda/envs/work/lib/python3.10/site-packages (from simple-websocket>=0.10.0->python-engineio>=4.8.0->python-socketio[client]->nnsight) (1.2.0)\n",
            "Requirement already satisfied: h11<1,>=0.9.0 in /share/u/caden/.conda/envs/work/lib/python3.10/site-packages (from wsproto->simple-websocket>=0.10.0->python-engineio>=4.8.0->python-socketio[client]->nnsight) (0.14.0)\n",
            "Using cached torch-2.3.1-cp310-cp310-manylinux1_x86_64.whl (779.1 MB)\n",
            "Using cached nvidia_nccl_cu12-2.20.5-py3-none-manylinux2014_x86_64.whl (176.2 MB)\n",
            "Using cached triton-2.3.1-cp310-cp310-manylinux_2_17_x86_64.manylinux2014_x86_64.whl (168.1 MB)\n",
            "Installing collected packages: triton, nvidia-nccl-cu12, torch\n",
            "  Attempting uninstall: triton\n",
            "    Found existing installation: triton 2.1.0\n",
            "    Uninstalling triton-2.1.0:\n",
            "      Successfully uninstalled triton-2.1.0\n",
            "  Attempting uninstall: nvidia-nccl-cu12\n",
            "    Found existing installation: nvidia-nccl-cu12 2.18.1\n",
            "    Uninstalling nvidia-nccl-cu12-2.18.1:\n",
            "      Successfully uninstalled nvidia-nccl-cu12-2.18.1\n",
            "  Attempting uninstall: torch\n",
            "    Found existing installation: torch 2.1.2\n",
            "    Uninstalling torch-2.1.2:\n",
            "      Successfully uninstalled torch-2.1.2\n",
            "\u001b[31mERROR: pip's dependency resolver does not currently take into account all the packages that are installed. This behaviour is the source of the following dependency conflicts.\n",
            "circuitsvis 1.43.2 requires nvidia-nccl-cu12==2.18.1; platform_system == \"Linux\" and platform_machine == \"x86_64\", but you have nvidia-nccl-cu12 2.20.5 which is incompatible.\n",
            "circuitsvis 1.43.2 requires triton==2.1.0; platform_system == \"Linux\" and platform_machine == \"x86_64\", but you have triton 2.3.1 which is incompatible.\u001b[0m\u001b[31m\n",
            "\u001b[0mSuccessfully installed nvidia-nccl-cu12-2.20.5 torch-2.3.1 triton-2.3.1\n"
          ]
        }
      ],
      "source": [
        "! pip install nnsight"
      ]
    },
    {
      "cell_type": "markdown",
      "metadata": {
        "id": "B5NSy5hPU7Mi"
      },
      "source": [
        "## Table of Contents\n",
        "\n",
        "**1 - Introduction to NNsight**\n",
        "\n",
        "We'll start the day by learning the basic syntax of the NNsight and PyTorch libraries.\n",
        "\n",
        "NNsight is a library for editing and intervening on model internals. PyTorch, a popular library for building deep learning models, enables this with a functionality called hooks. At the output and input of every component in a PyTorch model, hooks enable users to access and set activations.\n",
        "\n",
        "Specifically, we'll demonstrate NNsight syntax on a simple, two layer neural network. Then, we'll review some concepts in previous weeks and ground our understanding by playing around with a real model using NNsight.\n",
        "\n",
        "**2 - Logit Lens: A Prelude to Transformers**\n",
        "\n",
        "To build an intuition for how transformers work, we'll start with a pretty basic experiment using NNsight. The \"logit lens\" transforms the residual stream of a transformer into token space, allowing us to observe how the probability on certain tokens changes throughout a model. You can read more about the logit lens [here](https://www.lesswrong.com/posts/AcKRB8wDpdaN6v6ru/interpreting-gpt-the-logit-lens).\n",
        "\n",
        "If that sentence was a little jargon-y, don't worry. This section will start with a primer on the Transformer architecture and tokenization."
      ]
    },
    {
      "cell_type": "markdown",
      "metadata": {
        "id": "Skg0zhSsU7Mj"
      },
      "source": [
        "# 1 - Introduction to NNsight"
      ]
    },
    {
      "cell_type": "markdown",
      "metadata": {
        "id": "qrZcgR0pU7Mk"
      },
      "source": [
        "To demonstrate the core functionality and syntax of nnsight, we’ll define and use a tiny two layer neural network."
      ]
    },
    {
      "cell_type": "code",
      "execution_count": 2,
      "metadata": {
        "id": "VrVDMV-5U7Ml"
      },
      "outputs": [],
      "source": [
        "from collections import OrderedDict\n",
        "import torch\n",
        "\n",
        "input_size = 5\n",
        "hidden_dims = 10\n",
        "output_size = 2\n",
        "\n",
        "net = torch.nn.Sequential(\n",
        "    OrderedDict(\n",
        "        [\n",
        "            (\"layer1\", torch.nn.Linear(input_size, hidden_dims)),\n",
        "            (\"layer2\", torch.nn.Linear(hidden_dims, output_size)),\n",
        "        ]\n",
        "    )\n",
        ").requires_grad_(False)"
      ]
    },
    {
      "cell_type": "markdown",
      "metadata": {
        "id": "bgPAtPmBU7Mm"
      },
      "source": [
        "We'll be using a popular deep learning called PyTorch. PyTorch is pretty similar to MyGrad, which we used in previous weeks.\n",
        "\n",
        "Let's break down what we did in the previous cell.\n",
        "\n",
        "```python\n",
        "from collections import OrderedDict\n",
        "\n",
        "OrderedDict(...)\n",
        "```\n",
        "\n",
        "The OrderedDict is no different from a normal Python dictionary, except it retains its keys in the order in which they were inserted.\n",
        "\n",
        "```python\n",
        "net = torch.nn.Sequential(\n",
        "    OrderedDict(\n",
        "        [\n",
        "            (\"layer1\", torch.nn.Linear(input_size, hidden_dims)),\n",
        "            (\"layer2\", torch.nn.Linear(hidden_dims, output_size)),\n",
        "        ]\n",
        "    )\n",
        ").requires_grad_(False)\n",
        "\n",
        "```\n",
        "\n",
        "This module contains a bunch of elegantly designed building blocks for creating neural networks. You can read more about `torch.nn` [here](https://pytorch.org/tutorials/beginner/nn_tutorial.html).\n",
        "\n",
        "Specifically, we'll use the `torch.nn.Sequential` container which automatically connects the modules passed in by our ordered dict in a sequential way.\n",
        "\n",
        "The `torch.nn.Linear` layer applies a linear transformation to the incoming data: $y=A^T+b$. By defauly, the bias in a linear layer is not initalized. We'll keep it that way to simplify our observations of this model.\n",
        "\n"
      ]
    },
    {
      "cell_type": "markdown",
      "metadata": {
        "id": "KKMbuL2SU7Mo"
      },
      "source": [
        "We can print the model to see its underlying modules."
      ]
    },
    {
      "cell_type": "code",
      "execution_count": 3,
      "metadata": {
        "colab": {
          "base_uri": "https://localhost:8080/"
        },
        "id": "CmzyENAyU7Mo",
        "outputId": "f624bad3-00b6-473f-f06a-55c2504490eb"
      },
      "outputs": [
        {
          "name": "stdout",
          "output_type": "stream",
          "text": [
            "Sequential(\n",
            "  (layer1): Linear(in_features=5, out_features=10, bias=True)\n",
            "  (layer2): Linear(in_features=10, out_features=2, bias=True)\n",
            ")\n"
          ]
        }
      ],
      "source": [
        "print(net)"
      ]
    },
    {
      "cell_type": "markdown",
      "metadata": {
        "id": "ZIrP8u1aU7Mq"
      },
      "source": [
        "Now, let's get started with NNsight. The core object of the nnsight package is the NNsight model (just imported as NNsight). This wraps around a given pytorch model to enable the capabilities nnsight provides."
      ]
    },
    {
      "cell_type": "code",
      "execution_count": 4,
      "metadata": {
        "id": "LjaAguDCU7Mq"
      },
      "outputs": [
        {
          "name": "stderr",
          "output_type": "stream",
          "text": [
            "/share/u/caden/.conda/envs/work/lib/python3.10/site-packages/tqdm/auto.py:21: TqdmWarning: IProgress not found. Please update jupyter and ipywidgets. See https://ipywidgets.readthedocs.io/en/stable/user_install.html\n",
            "  from .autonotebook import tqdm as notebook_tqdm\n"
          ]
        }
      ],
      "source": [
        "from nnsight import NNsight\n",
        "\n",
        "model = NNsight(net)"
      ]
    },
    {
      "cell_type": "markdown",
      "metadata": {
        "id": "wM8Qb3kiU7Mr"
      },
      "source": [
        "We can print the model just like before."
      ]
    },
    {
      "cell_type": "code",
      "execution_count": 5,
      "metadata": {
        "colab": {
          "base_uri": "https://localhost:8080/"
        },
        "id": "nDbVI8P0U7Mr",
        "outputId": "c30fef1e-16e9-4256-d482-4f3540ac715f"
      },
      "outputs": [
        {
          "name": "stdout",
          "output_type": "stream",
          "text": [
            "Sequential(\n",
            "  (layer1): Linear(in_features=5, out_features=10, bias=True)\n",
            "  (layer2): Linear(in_features=10, out_features=2, bias=True)\n",
            ")\n"
          ]
        }
      ],
      "source": [
        "print(net)"
      ]
    },
    {
      "cell_type": "markdown",
      "metadata": {
        "id": "0EdF9p9uU7Ms"
      },
      "source": [
        "## Aside: Context Blocks"
      ]
    },
    {
      "cell_type": "markdown",
      "metadata": {
        "id": "rYHBJXZ6U7Ms"
      },
      "source": [
        "Python contexts define a scope using the with statement and are often used to create some object, or initiate some logic, that you later want to destroy or conclude. The most common application is opening files like the following example:"
      ]
    },
    {
      "cell_type": "code",
      "execution_count": 6,
      "metadata": {
        "colab": {
          "base_uri": "https://localhost:8080/"
        },
        "id": "I8I8ne6VU7Mt",
        "outputId": "f0c90437-6084-42f1-ade6-679d00e57c02"
      },
      "outputs": [
        {
          "name": "stdout",
          "output_type": "stream",
          "text": [
            "File not found\n"
          ]
        }
      ],
      "source": [
        "try:\n",
        "    # We use a context block here to close\n",
        "    # the IO stream (file var) once the file is read\n",
        "    with open('myfile.txt', 'r') as file:\n",
        "        test = file.read()\n",
        "\n",
        "\n",
        "except FileNotFoundError:\n",
        "    print('File not found')"
      ]
    },
    {
      "cell_type": "markdown",
      "metadata": {
        "id": "geLpnGJgU7Mu"
      },
      "source": [
        "# Getting Activations"
      ]
    },
    {
      "cell_type": "markdown",
      "metadata": {
        "id": "VCFGoMqDU7Mu"
      },
      "source": [
        "Earlier, when we wrapped our little neural net with the NNsight class. This added a couple properties to each module in the model (including the root model itself). The two most important ones are .input and .output.\n",
        "\n",
        "```python\n",
        "model.input\n",
        "model.output\n",
        "```"
      ]
    },
    {
      "cell_type": "markdown",
      "metadata": {
        "id": "A4h52b-fU7Mv"
      },
      "source": [
        "We can use these attributes inside the trace context to save the outputs of certain modules. Torch also provides a bunch of useful utilities. We'll use `torch.rand` to generate a tensor shape `[1, input_size]` to pass into the model."
      ]
    },
    {
      "cell_type": "code",
      "execution_count": 7,
      "metadata": {
        "id": "R-nZXNNXU7Mw"
      },
      "outputs": [],
      "source": [
        "input = torch.rand((1, input_size))\n",
        "\n",
        "with model.trace(input) as tracer:\n",
        "\n",
        "    output = model.output.save()"
      ]
    },
    {
      "cell_type": "markdown",
      "metadata": {
        "id": "r6YF-AAwU7Mw"
      },
      "source": [
        "Now, print the value!"
      ]
    },
    {
      "cell_type": "code",
      "execution_count": 8,
      "metadata": {
        "colab": {
          "base_uri": "https://localhost:8080/"
        },
        "id": "eaCULPJnU7Mx",
        "outputId": "e45095f0-2818-4ac6-a82c-391bc70c690b"
      },
      "outputs": [
        {
          "name": "stdout",
          "output_type": "stream",
          "text": [
            "tensor([[ 0.0408, -0.1807]])\n"
          ]
        }
      ],
      "source": [
        "print(output.value)"
      ]
    },
    {
      "cell_type": "markdown",
      "metadata": {
        "id": "mp_qSjXMU7Mx"
      },
      "source": [
        "# Working with Gradients"
      ]
    },
    {
      "cell_type": "markdown",
      "metadata": {
        "id": "HdawiN2tU7My"
      },
      "source": [
        "Now that we have a basic understanding of both Torch and NNsight, let's scale up to a larger model."
      ]
    },
    {
      "cell_type": "markdown",
      "metadata": {
        "id": "PoCSfKZLU7My"
      },
      "source": [
        "<img src=\"https://colah.github.io/posts/2015-08-Backprop/img/tree-def.png\" alt=\"computational_graph\" width=\"500\"/>"
      ]
    },
    {
      "cell_type": "markdown",
      "metadata": {
        "id": "lYNIDP08U7My"
      },
      "source": [
        "The directed graph above represents the computation for a simple model. You can read more \"technical\" details at Chris Olah's blog, [here](https://colah.github.io/posts/2015-08-Backprop/).\n",
        "\n",
        "Let's build some torch modules to represent the operations that are going on in this graph."
      ]
    },
    {
      "cell_type": "markdown",
      "metadata": {
        "id": "ANa_vslQU7Mz"
      },
      "source": [
        "We can start with the an addition module, to represent the operation $c=a+b$.\n",
        "\n",
        "Note the use of the `.forward()` method. This method is present in every `torch.nn.Module`. It defines how a model is going to be run, from input to output, on certain inputs passed into the forward function.\n",
        "\n",
        "We'll create a really simple torch Module to represent our addition operation. By wrapping these simple operations inside of torch modules, we can save/intervene on operations using NNsight and underlying torch hooks."
      ]
    },
    {
      "cell_type": "code",
      "execution_count": 9,
      "metadata": {
        "id": "fNu1dAlBU7M0"
      },
      "outputs": [],
      "source": [
        "import torch\n",
        "import torch.nn as nn\n",
        "\n",
        "\n",
        "# Custom addition module\n",
        "class AddOperation(nn.Module):\n",
        "    def forward(self, input1, input2):\n",
        "        return input1 + input2"
      ]
    },
    {
      "cell_type": "markdown",
      "metadata": {
        "id": "b9VzlERbU7M1"
      },
      "source": [
        "Now lets create a bunch of other simple operations."
      ]
    },
    {
      "cell_type": "code",
      "execution_count": 10,
      "metadata": {
        "id": "EIoca6mXU7M1"
      },
      "outputs": [],
      "source": [
        "# Custom increment module\n",
        "class IncrementOperation(nn.Module):\n",
        "    def forward(self, input):\n",
        "        return input + 1\n",
        "\n",
        "class MultiplyOperation(nn.Module):\n",
        "    def forward(self, input1, input2):\n",
        "        return input1 * input2"
      ]
    },
    {
      "cell_type": "markdown",
      "metadata": {
        "id": "SHxp-k0gU7M2"
      },
      "source": [
        "And we can put these modules together inside of our simple model.\n",
        "\n",
        "Just like before, we define the model's behavior inside of its `forward` method. Note the `__init__` method of the model. Here, we initialize the submodules of the model so that we can call them later, as objects, within the `forward` method. Modules declared here are also visible in the model's module tree - when we print the model, we'll see these modules listed."
      ]
    },
    {
      "cell_type": "code",
      "execution_count": 11,
      "metadata": {
        "id": "PSnowsueU7M3"
      },
      "outputs": [],
      "source": [
        "# Updated neural network with the custom modules\n",
        "class SimpleNet(nn.Module):\n",
        "    def __init__(self):\n",
        "        super(SimpleNet, self).__init__()\n",
        "        self.add = AddOperation()  # Addition operation module\n",
        "        self.increment = IncrementOperation()  # Increment operation module\n",
        "        self.multiply = MultiplyOperation()\n",
        "\n",
        "    def forward(self, a,b):\n",
        "        c = self.add(a, b)          # c = a + b\n",
        "        d = self.increment(b)       # d = b + 1\n",
        "        e = self.multiply(c,d)      # e = c * d\n",
        "        return e"
      ]
    },
    {
      "cell_type": "code",
      "execution_count": 12,
      "metadata": {
        "id": "So7XKBnLU7M4"
      },
      "outputs": [],
      "source": [
        "net = SimpleNet()\n",
        "\n",
        "model = NNsight(net)"
      ]
    },
    {
      "cell_type": "markdown",
      "metadata": {
        "id": "RDYJ-CRHU7M5"
      },
      "source": [
        "Just like before, we can print the model to see its submodules."
      ]
    },
    {
      "cell_type": "code",
      "execution_count": 13,
      "metadata": {
        "colab": {
          "base_uri": "https://localhost:8080/"
        },
        "id": "HgIg04QYU7M6",
        "outputId": "7b2bea6c-8a34-4eaa-d13b-02be4faaed93"
      },
      "outputs": [
        {
          "name": "stdout",
          "output_type": "stream",
          "text": [
            "SimpleNet(\n",
            "  (add): AddOperation()\n",
            "  (increment): IncrementOperation()\n",
            "  (multiply): MultiplyOperation()\n",
            ")\n"
          ]
        }
      ],
      "source": [
        "print(model)"
      ]
    },
    {
      "cell_type": "markdown",
      "metadata": {
        "id": "A63AzxZIU7M8"
      },
      "source": [
        "Awesome! Now, let's create a couple inputs and run a trace on the model.\n",
        "\n",
        "Note how we set the kwarg `requires_grad=True`. This tells PyTorch that we want to calculate gradients on these tensors at some point, and calling `.grad` will enable us to see those gradients."
      ]
    },
    {
      "cell_type": "code",
      "execution_count": 14,
      "metadata": {
        "id": "nhwmx5LdU7M9"
      },
      "outputs": [],
      "source": [
        "a = torch.tensor([2.0], requires_grad=True)\n",
        "b = torch.tensor([1.0], requires_grad=True)\n",
        "\n",
        "with model.trace(a,b) as tracer:\n",
        "\n",
        "    c = model.add.input.save() # (a,b)\n",
        "\n",
        "    d = model.increment.output.save()\n",
        "\n",
        "    e = model.multiply.output.save()\n",
        "\n",
        "    e = model.output.save()\n",
        "\n",
        "a,b = c[0]"
      ]
    },
    {
      "cell_type": "markdown",
      "metadata": {
        "id": "G2w77Gk9U7M9"
      },
      "source": [
        "If we print out the modules that we saved in the trace above, we'll see that these are the expected values for each module!"
      ]
    },
    {
      "cell_type": "markdown",
      "metadata": {
        "id": "fAS5szE1U7M-"
      },
      "source": [
        "<img src=\"https://colah.github.io/posts/2015-08-Backprop/img/tree-eval.png\" alt=\"computational_graph\" width=\"500\"/>"
      ]
    },
    {
      "cell_type": "code",
      "execution_count": 15,
      "metadata": {
        "colab": {
          "base_uri": "https://localhost:8080/"
        },
        "id": "ODsfKg33U7M_",
        "outputId": "d28f5c20-ad8c-468e-a4d6-7db7252ad3cc"
      },
      "outputs": [
        {
          "name": "stdout",
          "output_type": "stream",
          "text": [
            "2.0 1.0 2.0 6.0\n"
          ]
        }
      ],
      "source": [
        "print(a.item(), b.item(), d.item(), e.item())"
      ]
    },
    {
      "cell_type": "markdown",
      "metadata": {
        "id": "6MMYhs6YU7NA"
      },
      "source": [
        "What about gradients? Using our knowledge from a couple weeks ago, we can find can calculate the gradients at each module with respect to the output e."
      ]
    },
    {
      "cell_type": "markdown",
      "metadata": {
        "id": "6PdB-kE9U7NB"
      },
      "source": [
        "<img src=\"https://colah.github.io/posts/2015-08-Backprop/img/tree-backprop.png\" alt=\"computational_graph\" width=\"500\"/>"
      ]
    },
    {
      "cell_type": "code",
      "execution_count": 16,
      "metadata": {
        "colab": {
          "base_uri": "https://localhost:8080/"
        },
        "id": "NcGjdq6GU7NE",
        "outputId": "912af1bd-a78b-4471-d503-7f36d1f5ca35"
      },
      "outputs": [
        {
          "name": "stdout",
          "output_type": "stream",
          "text": [
            "2.0 5.0 2.0 3.0 1.0\n"
          ]
        }
      ],
      "source": [
        "a = torch.tensor([2.0], requires_grad=True)\n",
        "b = torch.tensor([1.0], requires_grad=True)\n",
        "\n",
        "with model.trace(a,b) as tracer:\n",
        "\n",
        "    c = model.add.output.grad.save() # (a,b)\n",
        "\n",
        "    d = model.increment.output.grad.save()\n",
        "\n",
        "    e = model.multiply.output.grad.save()\n",
        "\n",
        "    e = model.output.grad.save()\n",
        "\n",
        "    value = model.output\n",
        "    value.backward()\n",
        "\n",
        "print(a.grad.item(), b.grad.item(), c.item(), d.item(), e.item())"
      ]
    },
    {
      "cell_type": "markdown",
      "metadata": {
        "id": "Nx711uN0U7NG"
      },
      "source": [
        "# Transformer Basics"
      ]
    },
    {
      "cell_type": "markdown",
      "metadata": {
        "id": "4bssGVyJU7NH"
      },
      "source": [
        "## What is the point of a transformer?\n",
        "\n",
        "**Transformers exist to model text!**\n",
        "\n",
        "We're going to focus GPT-2 style transformers. Key feature: They generate text! You feed in language, and the model generates a probability distribution over tokens. And you can repeatedly sample from this to generate text!\n",
        "\n",
        "(To explain this in more detail - you feed in a sequence of length $N$, then sample from the probability distribution over the $N+1$-th word, use this to construct a new sequence of length $N+1$, then feed this new sequence into the model to get a probability distribution over the $N+2$-th word, and so on.)\n",
        "\n",
        "### How is the model trained?\n",
        "\n",
        "You give it a bunch of text, and train it to predict the next token.\n",
        "\n",
        "Importantly, if you give a model 100 tokens in a sequence, it predicts the next token for *each* prefix, i.e. it produces 100 logit vectors (= probability distributions) over the set of all words in our vocabulary, with the `i`-th logit vector representing the probability distribution over the token *following* the `i`-th token in the sequence.\n",
        "\n",
        "<details>\n",
        "<summary>Aside - logits</summary>\n",
        "\n",
        "If you haven't encountered the term \"logits\" before, here's a quick refresher.\n",
        "\n",
        "Given an arbitrary vector $x$, we can turn it into a probability distribution via the **softmax** function: $x_i \\to \\frac{e^{x_i}}{\\sum e^{x_j}}$. The exponential makes everything positive; the normalization makes it add to one.\n",
        "\n",
        "The model's output is the vector $x$ (one for each prediction it makes). We call this vector a logit because it represents a probability distribution, and it is related to the actual probabilities via the softmax function.\n",
        "</details>\n",
        "\n",
        "How do we stop the transformer by \"cheating\" by just looking at the tokens it's trying to predict? Answer - we make the transformer have *causal attention* (as opposed to *bidirectional attention*). Causal attention only allows information to move forwards in the sequence, never backwards. The prediction of what comes after token 50 is only a function of the first 50 tokens, *not* of token 51. We say the transformer is **autoregressive**, because it only predicts future words based on past data.\n",
        "\n",
        "<img src=\"https://raw.githubusercontent.com/callummcdougall/computational-thread-art/master/example_images/misc/transformer-overview-new.png\" width=\"900\">\n",
        "\n",
        "## Tokens - Transformer Inputs\n",
        "\n",
        "Our tranformer's input is natural language (i.e. a sequence of characters, strings, etc). But ML models generally take vectors as input, not language. How do we convert language to vectors?\n",
        "\n",
        "We can factor this into 2 questions:\n",
        "\n",
        "1. How do we split up language into small sub-units?\n",
        "2. How do we convert these sub-units into vectors?\n",
        "\n",
        "Let's start with the second of these questions.\n",
        "\n",
        "### Converting sub-units to vectors\n",
        "\n",
        "We basically make a massive lookup table, which is called an **embedding**. It has one vector for each possible sub-unit of language we might get (we call this set of all sub-units our **vocabulary**). We label every element in our vocabulary with an integer (this labelling never changes), and we use this integer to index into the embedding.\n",
        "\n",
        "A key intuition is that one-hot encodings let you think about each integer independently. We don't bake in any relation between words when we perform our embedding, because every word has a completely separate embedding vector.\n",
        "\n",
        "<details>\n",
        "<summary>Aside - one-hot encodings</summary>\n",
        "\n",
        "We sometimes think about **one-hot encodings** of words. These are vectors with zeros everywhere, except for a single one in the position corresponding to the word's index in the vocabulary. This means that indexing into the embedding is equivalent to multiplying the **embedding matrix** by the one-hot encoding (where the embedding matrix is the matrix we get by stacking all the embedding vectors on top of each other).\n",
        "\n",
        "$$\n",
        "\\begin{aligned}\n",
        "W_E &= \\begin{bmatrix}\n",
        "\\leftarrow v_0 \\rightarrow \\\\\n",
        "\\leftarrow v_1 \\rightarrow \\\\\n",
        "\\vdots \\\\\n",
        "\\leftarrow v_{d_{vocab}-1} \\rightarrow \\\\\n",
        "\\end{bmatrix} \\quad \\text{is the embedding matrix (size }d_{vocab} \\times d_{embed}\\text{),} \\\\\n",
        "\\\\\n",
        "t_i &= (0, \\dots, 0, 1, 0, \\dots, 0) \\quad \\text{is the one-hot encoding for the }i\\text{th word (length }d_{vocab}\\text{)} \\\\\n",
        "\\\\\n",
        "v_i &= t_i W_E \\quad \\text{is the embedding vector for the }i\\text{th word (length }d_{embed}\\text{).} \\\\\n",
        "\\end{aligned}\n",
        "$$\n",
        "\n",
        "</details>\n",
        "\n",
        "Now, let's answer the first question - how do we split language into sub-units?\n",
        "\n",
        "### Splitting language into sub-units\n",
        "\n",
        "We need to define a standard way of splitting up language into a series of substrings, where each substring is a member of our **vocabulary** set.\n",
        "\n",
        "Could we use a dictionary, and have our vocabulary be the set of all words in the dictionary? No, because this couldn't handle arbitrary text (e.g. URLs, punctuation, etc). We need a more general way of splitting up language.\n",
        "\n",
        "Could we just use the 256 ASCII characters? This fixes the previous problem, but it loses structure of language - some sequences of characters are more meaningful than others. For example, \"language\" is a lot more meaningful than \"hjksdfiu\". We want \"language\" to be a single token, but not \"hjksdfiu\" - this is a more efficient use of our vocab.\n",
        "\n",
        "What actually happens? The most common strategy is called **Byte-Pair encodings**.\n",
        "\n",
        "We begin with the 256 ASCII characters as our tokens, and then find the most common pair of tokens, and merge that into a new token. Note that we do have a space character as one of our 256 tokens, and merges using space are very common. For instance, here are the five first merges for the tokenizer used by GPT-2 (you'll be able to verify this below).\n",
        "\n",
        "```\n",
        "\" t\"\n",
        "\" a\"\n",
        "\"he\"\n",
        "\"in\"\n",
        "\"re\"\n",
        "```\n",
        "\n",
        "Note - you might see the character `Ġ` in front of some tokens. This is a special token that indicates that the token begins with a space. Tokens with a leading space vs not are different.\n",
        "\n",
        "You can run the code below to see some more of GPT-2's tokenizer's vocabulary:"
      ]
    },
    {
      "cell_type": "code",
      "execution_count": 17,
      "metadata": {
        "colab": {
          "base_uri": "https://localhost:8080/",
          "height": 345,
          "referenced_widgets": [
            "cd1e9dcf156e4f85ac22864e32fca01d",
            "43423441d55346c7ad195c649d474042",
            "2d628fb2314940c2a4032f88812c23f3",
            "9048d209fd884dd9b2bd21d1dbfb6e7d",
            "5d16e3122183496d825838d635c591a4",
            "f18ccdb340ac4fa98d683f53a218c898",
            "b23c342ad0594280a07d07616e8d982e",
            "b08f61d5dcaa47a183fe7be037532531",
            "6d3a3ace308d4ba7ae04e8dd9d627785",
            "487ea35bfd7147bd9fb65b0a8273dc82",
            "00c236ff110845aca58acd113c777570",
            "dc457368fdee41a1bde0cbc04ef39aa0",
            "e08916a9254e417884258657b7e4446b",
            "9f434d6801c04fbd9ef850631bf76f3b",
            "9672a40909aa4fe682799de42f251b36",
            "4288547692614775b8bb4abc1f629a73",
            "c8ceb327e1b64ee5913f6652a7254a0b",
            "635d60319e5a40eba4f6ac14d7e73661",
            "492ed2ac0a914a45838b1b618ae1f877",
            "84e0add9f08f4bc9a94ad0c7f3a877e7",
            "354f7d74391f44ddae1759979ab72306",
            "235a9c1478a74e6599275952b73be444",
            "319f3c64ed71411b9926b0ba0d94eff4",
            "0ff0e2781ae34e35927d4d27b77f8acb",
            "5dea80d989b644059fd0043c429dc2f0",
            "ea656f589b314253bf28bf41fa240e27",
            "5dc63e5860674061aaff46aa4154a134",
            "449d7eaf8e444ce6882746dbfe2b6be7",
            "a4e527936ba74059b03314203b2719d7",
            "24d6b3b322d44a2996464e5b7db67d12",
            "33d6059fa0aa494695d87e32553e9f6a",
            "765934f12c374ad8b8d08835bf1551e6",
            "c5450069b42b4ea3b06bb059b56c1640",
            "39a88c13e9e84543a75eeb7e85a78fbd",
            "134d00fbd4764104be4d4189d477aeaf",
            "f2e60754879c416a8c8ea23ed68756c4",
            "71e471d11f56453f9968cd40f649e9b5",
            "21623970c7c545be99b9e32a8c494868",
            "384c4440766d45cc91a448b71f04547e",
            "fafab7d857a248f0ac1796d77af92c0a",
            "af5a1cbe607f4e7180850cbc8a3869a9",
            "2a2cc12f03a5448ca7a97bf2e1333460",
            "a4dc07914b2849a592bf859c2faa9906",
            "2c439eba618b49308ec4091cb93dbea2",
            "20ddeb4db7c24ecc9ab7f2846b272349",
            "db75343ab08a4aafad34a1fb1133048e",
            "fc35996c99ca491d8ab661a281382127",
            "4b43a897d9274a699e5f2597126f1a1e",
            "d0651bfffcad49b7b37afa39482c7fd7",
            "df5b640751ec40e78f2217173875860f",
            "a5f96a23df0440fe98f624be34f68230",
            "ca40461e81d541d083e7312783f4bad7",
            "eeb54ec75ea34d52bf515048412a2b7f",
            "0d8cc71fc35046cc9e027b8fc856a51d",
            "f3d8754103494b6cbd258c5c40f7277e",
            "87158ab8ff12471e99cd519524323534",
            "b72d0c1c664f43bf815e70e18000840f",
            "a6b0c0b906f9451eae85c47186fc0f0f",
            "564d7d290e5547029e5b21ec9116c143",
            "55ddbf1db3df4fd8b34ad688749f98c9",
            "ecd6d0d5df4c4a48afb1ff238fe8c741",
            "bdf2c2bc44ed47549727d605f5441743",
            "2d9b5b7ab0344793bcee553de29fedcc",
            "0dc6404aeb274054bc494cb017e788a1",
            "857948168c84415ab8df105a0defb365",
            "6d2e9f6bcbd3449bba1d62c295ca93b8",
            "f4ea65221b394f80931e0a2fe52e87b4",
            "5438e04cd0d74082964344b63877fc45",
            "97733dcbaed64c899e06d5011056310b",
            "e4335883dc4c4c17b62cc1b2afbf38c4",
            "2cad057aa8f74bc6ab103463aed0320d",
            "3f5f281b59fa4d8fa0abacce7f601585",
            "b8ea490791bb4d31aa1de207c9844fbd",
            "a06f8d151e7149049c13fcbe2030202a",
            "7d40c576a46740988a7580aa9c11676e",
            "0e51f13d2f384eaa97b8e83a7e71b13a",
            "11856c5a061c43e6afe67a3b83f9b3ff"
          ]
        },
        "id": "9BnX8bysU7NI",
        "outputId": "90b10880-799f-4c52-a4ab-08b24a8a79c7"
      },
      "outputs": [
        {
          "name": "stderr",
          "output_type": "stream",
          "text": [
            "/share/u/caden/.conda/envs/work/lib/python3.10/site-packages/huggingface_hub/file_download.py:1132: FutureWarning: `resume_download` is deprecated and will be removed in version 1.0.0. Downloads always resume when possible. If you want to force a new download, use `force_download=True`.\n",
            "  warnings.warn(\n"
          ]
        }
      ],
      "source": [
        "from nnsight import LanguageModel\n",
        "\n",
        "model = LanguageModel(\"openai-community/gpt2\", device_map=\"cuda\", dispatch=True)\n",
        "tokenizer = model.tokenizer\n",
        "\n",
        "def to_str_tokens(string: str):\n",
        "    tokens = tokenizer.encode(string)\n",
        "    return [tokenizer.decode([token]) for token in tokens]"
      ]
    },
    {
      "cell_type": "code",
      "execution_count": 18,
      "metadata": {
        "colab": {
          "base_uri": "https://localhost:8080/"
        },
        "id": "yZ2yfKqDU7NJ",
        "outputId": "516e378a-ac37-4cb7-bf87-b24d173bb9be"
      },
      "outputs": [
        {
          "name": "stdout",
          "output_type": "stream",
          "text": [
            "[('!', 0), ('\"', 1), ('#', 2), ('$', 3), ('%', 4), ('&', 5), (\"'\", 6), ('(', 7), (')', 8), ('*', 9), ('+', 10), (',', 11), ('-', 12), ('.', 13), ('/', 14), ('0', 15), ('1', 16), ('2', 17), ('3', 18), ('4', 19)]\n",
            "\n",
            "[('ľ', 250), ('Ŀ', 251), ('ŀ', 252), ('Ł', 253), ('ł', 254), ('Ń', 255), ('Ġt', 256), ('Ġa', 257), ('he', 258), ('in', 259), ('re', 260), ('on', 261), ('Ġthe', 262), ('er', 263), ('Ġs', 264), ('at', 265), ('Ġw', 266), ('Ġo', 267), ('en', 268), ('Ġc', 269)]\n",
            "\n",
            "[('Ġprodu', 990), ('Ġstill', 991), ('led', 992), ('ah', 993), ('Ġhere', 994), ('Ġworld', 995), ('Ġthough', 996), ('Ġnum', 997), ('arch', 998), ('imes', 999), ('ale', 1000), ('ĠSe', 1001), ('ĠIf', 1002), ('//', 1003), ('ĠLe', 1004), ('Ġret', 1005), ('Ġref', 1006), ('Ġtrans', 1007), ('ner', 1008), ('ution', 1009)]\n",
            "\n"
          ]
        }
      ],
      "source": [
        "sorted_vocab = sorted(list(tokenizer.vocab.items()), key=lambda n: n[1])\n",
        "print(sorted_vocab[:20])\n",
        "print()\n",
        "print(sorted_vocab[250:270])\n",
        "print()\n",
        "print(sorted_vocab[990:1010])\n",
        "print()"
      ]
    },
    {
      "cell_type": "markdown",
      "metadata": {
        "id": "QtLKv5CWU7NK"
      },
      "source": [
        "As you get to the end of the vocabulary, you'll be producing some pretty weird-looking esoteric tokens (because you'll already have exhausted all of the short frequently-occurring ones):\n"
      ]
    },
    {
      "cell_type": "code",
      "execution_count": 19,
      "metadata": {
        "colab": {
          "base_uri": "https://localhost:8080/"
        },
        "id": "wcIJPjRaU7NK",
        "outputId": "37b31a30-ef70-49ea-9bd6-e3cc96ad0081"
      },
      "outputs": [
        {
          "name": "stdout",
          "output_type": "stream",
          "text": [
            "[('Revolution', 50237), ('Ġsnipers', 50238), ('Ġreverted', 50239), ('Ġconglomerate', 50240), ('Terry', 50241), ('794', 50242), ('Ġharsher', 50243), ('Ġdesolate', 50244), ('ĠHitman', 50245), ('Commission', 50246), ('Ġ(/', 50247), ('âĢ¦.\"', 50248), ('Compar', 50249), ('Ġamplification', 50250), ('ominated', 50251), ('Ġregress', 50252), ('ĠCollider', 50253), ('Ġinformants', 50254), ('Ġgazed', 50255), ('<|endoftext|>', 50256)]\n"
          ]
        }
      ],
      "source": [
        "print(sorted_vocab[-20:])"
      ]
    },
    {
      "cell_type": "markdown",
      "metadata": {
        "id": "sn3CWcStU7NM"
      },
      "source": [
        "Transformers in the `transformer_lens` library have a `to_tokens` method that converts text to numbers. It also prepends them with a special token called BOS (beginning of sequence) to indicate the start of a sequence. You can disable this with the `prepend_bos=False` argument.\n",
        "\n",
        "## BOS Token\n",
        "\n",
        "The beginning of sequence (BOS) token is a special token used to mark the beginning of the sequence. Confusingly, in GPT-2, the End of Sequence (EOS), Beginning of Sequence (BOS) and Padding (PAD) tokens are all the same, `<|endoftext|>` with index `50256`.\n",
        "\n",
        "Why is this token added? Some basic intuitions are:\n",
        "\n",
        "* It provides context that this is the start of a sequence, which can help the model generate more appropriate text.\n",
        "* It can act as a \"rest position\" for attention heads (more on this later, when we discuss attention).\n",
        "\n",
        "TransformerLens adds this token automatically (including in forward passes of transformer models, e.g. it's implicitly added when you call `model(\"Hello World\")`). You can disable this behaviour by setting the flag `prepend_bos=False` in `to_tokens`, `to_str_tokens`, `model.forward` and any other function that converts strings to multi-token tensors.\n",
        "\n",
        "**Key Point: *If you get weird off-by-one errors, check whether there's an unexpected `prepend_bos`!***\n",
        "\n",
        "Why are the BOS, EOS and PAD tokens the same? This is because GPT-2 is an autoregressive model, and uses these kinds of tokens in a slightly different way to other transformer families (e.g. BERT). For instance, GPT has no need to distinguish between BOS and EOS tokens, because it only processes text from left to right.\n"
      ]
    },
    {
      "cell_type": "markdown",
      "metadata": {
        "id": "Pavlv14IU7NO"
      },
      "source": [
        "### Some tokenization annoyances\n",
        "\n",
        "There are a few funky and frustrating things about tokenization, which causes it to behave differently than you might expect. For instance:\n",
        "\n",
        "#### Whether a word begins with a capital or space matters!"
      ]
    },
    {
      "cell_type": "code",
      "execution_count": 20,
      "metadata": {
        "colab": {
          "base_uri": "https://localhost:8080/"
        },
        "id": "RT0XrkaLU7NO",
        "outputId": "d183e7fc-0315-444d-fc7a-157ab79e72c0"
      },
      "outputs": [
        {
          "name": "stdout",
          "output_type": "stream",
          "text": [
            "['R', 'alph']\n",
            "[' Ralph']\n",
            "[' r', 'alph']\n",
            "['ral', 'ph']\n"
          ]
        }
      ],
      "source": [
        "print(to_str_tokens(\"Ralph\"))\n",
        "print(to_str_tokens(\" Ralph\"))\n",
        "print(to_str_tokens(\" ralph\"))\n",
        "print(to_str_tokens(\"ralph\"))"
      ]
    },
    {
      "cell_type": "markdown",
      "metadata": {
        "id": "0KtP1RBoU7NP"
      },
      "source": [
        "#### Arithmetic is a mess.\n",
        "\n",
        "Length is inconsistent, common numbers bundle together."
      ]
    },
    {
      "cell_type": "code",
      "execution_count": 21,
      "metadata": {
        "colab": {
          "base_uri": "https://localhost:8080/"
        },
        "id": "VsrNvmUSU7NP",
        "outputId": "6d7245ec-c6eb-404d-8936-83a4fb31dd9b"
      },
      "outputs": [
        {
          "name": "stdout",
          "output_type": "stream",
          "text": [
            "['568', '73', '+', '318', '46', '23', '=', '123', '45', '67', '89', '-', '1', '000000', '000']\n"
          ]
        }
      ],
      "source": [
        "print(to_str_tokens(\"56873+3184623=123456789-1000000000\"))"
      ]
    },
    {
      "cell_type": "markdown",
      "metadata": {
        "id": "eNKb-iGkU7NP"
      },
      "source": [
        "> ### Key Takeaways\n",
        ">\n",
        "> * We learn a dictionary of vocab of tokens (sub-words).\n",
        "> * We (approx) losslessly convert language to integers via tokenizing it.\n",
        "> * We convert integers to vectors via a lookup table.\n",
        "> * Note: input to the transformer is a sequence of *tokens* (ie integers), not vectors"
      ]
    },
    {
      "cell_type": "markdown",
      "metadata": {
        "id": "1g8AB9RWU7NQ"
      },
      "source": [
        "## Text generation\n",
        "\n",
        "Now that we understand the basic ideas here, let's go through the entire process of text generation, from our original string to a new token which we can append to our string and plug back into the model.\n",
        "\n",
        "#### **Step 1:** Convert text to tokens\n",
        "\n",
        "The sequence gets tokenized, so it has shape `[batch, seq_len]`. Here, the batch dimension is just one (because we only have one sequence).\n"
      ]
    },
    {
      "cell_type": "code",
      "execution_count": 22,
      "metadata": {
        "colab": {
          "base_uri": "https://localhost:8080/"
        },
        "id": "CVLdQ4kOU7NQ",
        "outputId": "8d2f253a-4762-4464-c30c-94107b7043b5"
      },
      "outputs": [
        {
          "name": "stdout",
          "output_type": "stream",
          "text": [
            "tensor([[   40,   716,   281,  4998,  1960,   382, 19741,    11,   875, 12342,\n",
            "            12,  8807,    11,   402, 11571,    12,    17,  3918, 47385,    13,\n",
            "          1881,  1110,   314,   481,  7074,  1692,  1241,  4430,   290,  1011,\n",
            "           625,   262,   995,     0]], device='cuda:0')\n",
            "torch.Size([1, 34])\n",
            "['I', ' am', ' an', ' amazing', ' aut', 'ore', 'gressive', ',', ' dec', 'oder', '-', 'only', ',', ' G', 'PT', '-', '2', ' style', ' transformer', '.', ' One', ' day', ' I', ' will', ' exceed', ' human', ' level', ' intelligence', ' and', ' take', ' over', ' the', ' world', '!']\n"
          ]
        }
      ],
      "source": [
        "reference_text = \"I am an amazing autoregressive, decoder-only, GPT-2 style transformer. One day I will exceed human level intelligence and take over the world!\"\n",
        "tokens = tokenizer.encode(reference_text, return_tensors=\"pt\").to(model.device)\n",
        "\n",
        "print(tokens)\n",
        "print(tokens.shape)\n",
        "print(to_str_tokens(reference_text))"
      ]
    },
    {
      "cell_type": "markdown",
      "metadata": {
        "id": "bBxS31JCU7NQ"
      },
      "source": [
        "#### **Step 2:** Map tokens to logits\n",
        "\n",
        "From our input of shape `[batch, seq_len]`, we get output of shape `[batch, seq_len, vocab_size]`. The `[i, j, :]`-th element of our output is a vector of logits representing our prediction for the `j+1`-th token in the `i`-th sequence."
      ]
    },
    {
      "cell_type": "code",
      "execution_count": 23,
      "metadata": {
        "colab": {
          "base_uri": "https://localhost:8080/"
        },
        "id": "gx09ATDfU7NR",
        "outputId": "62ae9963-d413-4ef0-f537-5f033dbce562"
      },
      "outputs": [
        {
          "name": "stderr",
          "output_type": "stream",
          "text": [
            "You're using a GPT2TokenizerFast tokenizer. Please note that with a fast tokenizer, using the `__call__` method is faster than using a method to encode the text followed by a call to the `pad` method to get a padded encoding.\n"
          ]
        }
      ],
      "source": [
        "logits = model.trace(tokens, trace=False).logits"
      ]
    },
    {
      "cell_type": "markdown",
      "metadata": {
        "id": "cQqKvea0U7NS"
      },
      "source": [
        "(`run_with_cache` tells the model to cache all intermediate activations. This isn't important right now; we'll look at it in more detail later.)\n",
        "\n",
        "#### **Step 3:** Convert the logits to a distribution with a softmax\n",
        "\n",
        "This doesn't change the shape, it is still `[batch, seq_len, vocab_size]`."
      ]
    },
    {
      "cell_type": "code",
      "execution_count": 24,
      "metadata": {
        "colab": {
          "base_uri": "https://localhost:8080/"
        },
        "id": "hCufj5VmU7NS",
        "outputId": "5dcf92c9-e96e-426b-9e2d-77f0a761f881"
      },
      "outputs": [
        {
          "name": "stdout",
          "output_type": "stream",
          "text": [
            "torch.Size([1, 34, 50257])\n"
          ]
        }
      ],
      "source": [
        "probs = logits.softmax(dim=-1)\n",
        "print(probs.shape)"
      ]
    },
    {
      "cell_type": "markdown",
      "metadata": {
        "id": "h4gIj9mLU7NT"
      },
      "source": [
        "#### **Bonus step:** What is the most likely next token at each position?"
      ]
    },
    {
      "cell_type": "code",
      "execution_count": 25,
      "metadata": {
        "colab": {
          "base_uri": "https://localhost:8080/"
        },
        "id": "U9U2pxQnU7NT",
        "outputId": "08ab6d02-e459-4d8e-bfaa-157aa8425087"
      },
      "outputs": [
        {
          "name": "stdout",
          "output_type": "stream",
          "text": [
            "[('I', '.'), (' am', ' not'), (' an', ' American'), (' amazing', ' person'), (' aut', 'ograph'), ('ore', 'sp'), ('gressive', ','), (',', ' and'), (' dec', 'ently'), ('oder', ','), ('-', 'driven'), ('only', ','), (',', ' and'), (' G', 'IM'), ('PT', '-'), ('-', 'only'), ('2', '.'), (' style', ','), (' transformer', '.'), ('.', ' I'), (' One', ' of'), (' day', ' I'), (' I', ' will'), (' will', ' be'), (' exceed', ' my'), (' human', 'ly'), (' level', ' of'), (' intelligence', ' and'), (' and', ' I'), (' take', ' over'), (' over', ' the'), (' the', ' world'), (' world', '.'), ('!', ' I')]\n"
          ]
        }
      ],
      "source": [
        "most_likely_next_tokens = tokenizer.batch_decode(logits.argmax(dim=-1)[0])\n",
        "\n",
        "print(list(zip(to_str_tokens(reference_text), most_likely_next_tokens)))"
      ]
    },
    {
      "cell_type": "markdown",
      "metadata": {
        "id": "qsXYsRW1U7NT"
      },
      "source": [
        "We can see that, in a few cases (particularly near the end of the sequence), the model accurately predicts the next token in the sequence. We might guess that `\"take over the world\"` is a common phrase that the model has seen in training, which is why the model can predict it.\n",
        "\n",
        "#### **Step 4:** Map distribution to a token"
      ]
    },
    {
      "cell_type": "code",
      "execution_count": 26,
      "metadata": {
        "colab": {
          "base_uri": "https://localhost:8080/"
        },
        "id": "_B7LbTHBU7NU",
        "outputId": "eb07906e-3a68-434e-fe21-d1871ad59312"
      },
      "outputs": [
        {
          "name": "stdout",
          "output_type": "stream",
          "text": [
            "' I'\n"
          ]
        }
      ],
      "source": [
        "next_token = logits[0, -1].argmax(dim=-1)\n",
        "next_char = tokenizer.decode(next_token)\n",
        "print(repr(next_char))"
      ]
    },
    {
      "cell_type": "markdown",
      "metadata": {
        "id": "rrgRmz9cU7NU"
      },
      "source": [
        "Note that we're indexing `logits[0, -1]`. This is because logits have shape `[1, sequence_length, vocab_size]`, so this indexing returns the vector of length `vocab_size` representing the model's prediction for what token follows the **last** token in the input sequence.\n",
        "\n",
        "In this case, we can see that the model predicts the token `' I'`.\n",
        "\n",
        "### **Step 5:** Add this to the end of the input, re-run\n",
        "\n",
        "There are more efficient ways to do this (e.g. where we cache some of the values each time we run our input, so we don't have to do as much calculation each time we generate a new value), but this doesn't matter conceptually right now."
      ]
    },
    {
      "cell_type": "code",
      "execution_count": 27,
      "metadata": {
        "colab": {
          "base_uri": "https://localhost:8080/"
        },
        "id": "WrWjDuGGU7NU",
        "outputId": "e02387fa-5766-4cb4-9ff0-952e522eee94"
      },
      "outputs": [
        {
          "name": "stdout",
          "output_type": "stream",
          "text": [
            "Sequence so far: 'I am an amazing autoregressive, decoder-only, GPT-2 style transformer. One day I will exceed human level intelligence and take over the world!'\n",
            "35th char = ' I'\n",
            "36th char = ' am'\n",
            "37th char = ' a'\n",
            "38th char = ' true'\n",
            "39th char = ' believer'\n",
            "40th char = ' in'\n",
            "41th char = ' the'\n",
            "42th char = ' power'\n",
            "43th char = ' of'\n",
            "44th char = ' the'\n"
          ]
        }
      ],
      "source": [
        "print(f\"Sequence so far: {tokenizer.batch_decode(tokens)[0]!r}\")\n",
        "\n",
        "for i in range(10):\n",
        "    print(f\"{tokens.shape[-1]+1}th char = {next_char!r}\")\n",
        "    # Define new input sequence, by appending the previously generated token\n",
        "    tokens = torch.cat([tokens, next_token[None, None]], dim=-1)\n",
        "    # Pass our new sequence through the model, to get new output\n",
        "    logits = model.trace(tokens, trace=False).logits\n",
        "    # Get the predicted token at the end of our sequence\n",
        "    next_token = logits[0, -1].argmax(dim=-1)\n",
        "    # Decode and print the result\n",
        "    next_char = tokenizer.decode(next_token)"
      ]
    },
    {
      "cell_type": "markdown",
      "metadata": {
        "id": "nLk3rDt0U7NV"
      },
      "source": [
        "## Key takeaways\n",
        "\n",
        "* Transformer takes in language, predicts next token (for *each* token in a causal way)\n",
        "* We convert language to a sequence of integers with a tokenizer.\n",
        "* We convert integers to vectors with a lookup table.\n",
        "* Output is a vector of logits (one for each input token), we convert to a probability distn with a softmax, and can then convert this to a token (eg taking the largest logit, or sampling).\n",
        "* We append this to the input + run again to generate more text (Jargon: *autoregressive*)\n",
        "* Meta level point: Transformers are sequence operation models, they take in a sequence, do processing in parallel at each position, and use attention to move information between positions!"
      ]
    },
    {
      "cell_type": "markdown",
      "metadata": {
        "id": "LaM5JCDxU7NV"
      },
      "source": [
        "# Logit Lens"
      ]
    },
    {
      "cell_type": "code",
      "execution_count": 28,
      "metadata": {
        "id": "UJ6dslhPU7NW"
      },
      "outputs": [
        {
          "name": "stderr",
          "output_type": "stream",
          "text": [
            "/share/u/caden/.conda/envs/work/lib/python3.10/site-packages/huggingface_hub/file_download.py:1132: FutureWarning: `resume_download` is deprecated and will be removed in version 1.0.0. Downloads always resume when possible. If you want to force a new download, use `force_download=True`.\n",
            "  warnings.warn(\n"
          ]
        }
      ],
      "source": [
        "from nnsight import LanguageModel\n",
        "\n",
        "model = LanguageModel(\"openai-community/gpt2\", device_map=\"cuda\", dispatch=True)\n",
        "tokenizer = model.tokenizer"
      ]
    },
    {
      "cell_type": "markdown",
      "metadata": {
        "id": "KsSenJt-U7NX"
      },
      "source": [
        "Okay, so now we've seen how transformers are used to autoregressively generate text. How do they work internally?"
      ]
    },
    {
      "cell_type": "markdown",
      "metadata": {
        "id": "RLMog1MyU7NX"
      },
      "source": [
        "<img src=\"https://raw.githubusercontent.com/callummcdougall/computational-thread-art/master/example_images/misc/transformer-new.png\" width=\"850\">"
      ]
    },
    {
      "cell_type": "markdown",
      "metadata": {
        "id": "18ezDFvyU7NX"
      },
      "source": [
        "### Tokenization & Embedding\n",
        "\n",
        "The input tokens $t$ are integers. We get them from taking a sequence, and tokenizing it (like we saw in the previous section).\n",
        "\n",
        "The token embedding is a lookup table mapping tokens to vectors, which is implemented as a matrix $W_E$. The matrix consists of a stack of token embedding vectors (one for each token).\n",
        "\n",
        "### Residual stream\n",
        "\n",
        "The residual stream is the sum of all previous outputs of layers of the model, is the input to each new layer. It has shape `[batch, seq_len, d_model]` (where `d_model` is the length of a single embedding vector).\n",
        "\n",
        "The initial value of the residual stream is denoted $x_0$ in the diagram, and $x_i$ are later values of the residual stream (after more attention and MLP layers have been applied to the residual stream).\n",
        "\n",
        "The residual stream is *really* fundamental. It's the central object of the transformer. It's how model remembers things, moves information between layers for composition, and it's the medium used to store the information that attention moves between positions."
      ]
    },
    {
      "cell_type": "markdown",
      "metadata": {
        "id": "Wqj4YcG-U7NY"
      },
      "source": [
        "## Logit Lens: Decoding the Residual Stream into Token Space\n",
        "\n",
        "A key idea of transformers is the [residual stream as output accumulation](https://www.lesswrong.com/posts/X26ksz4p3wSyycKNB/gears-level-mental-models-of-transformer-interpretability#Residual_Stream_as_Output_Accumulation:~:text=The%20Models-,Residual%20Stream%20as%20Output%20Accumulation,-The%20residual%20stream). As we move through the layers of the model, shifting information around and processing it, the values in the residual stream represent the accumulation of all the inferences made by the transformer up to that point.\n",
        "\n",
        "This is neatly illustrated by the **logit lens**. Rather than getting predictions from the residual stream at the very end of the model, we can take the value of the residual stream midway through the model and convert it to a distribution over tokens. When we do this, we find surprisingly coherent predictions, especially in the last few layers before the end."
      ]
    },
    {
      "cell_type": "markdown",
      "metadata": {
        "id": "mncP73qrU7NZ"
      },
      "source": [
        "Let's start simple, printing out our model architecture."
      ]
    },
    {
      "cell_type": "code",
      "execution_count": 29,
      "metadata": {
        "colab": {
          "base_uri": "https://localhost:8080/"
        },
        "id": "OoCYAufNU7NZ",
        "outputId": "7a465788-f264-4dcb-c803-89e7a7ce7338"
      },
      "outputs": [
        {
          "name": "stdout",
          "output_type": "stream",
          "text": [
            "GPT2LMHeadModel(\n",
            "  (transformer): GPT2Model(\n",
            "    (wte): Embedding(50257, 768)\n",
            "    (wpe): Embedding(1024, 768)\n",
            "    (drop): Dropout(p=0.1, inplace=False)\n",
            "    (h): ModuleList(\n",
            "      (0-11): 12 x GPT2Block(\n",
            "        (ln_1): LayerNorm((768,), eps=1e-05, elementwise_affine=True)\n",
            "        (attn): GPT2Attention(\n",
            "          (c_attn): Conv1D()\n",
            "          (c_proj): Conv1D()\n",
            "          (attn_dropout): Dropout(p=0.1, inplace=False)\n",
            "          (resid_dropout): Dropout(p=0.1, inplace=False)\n",
            "        )\n",
            "        (ln_2): LayerNorm((768,), eps=1e-05, elementwise_affine=True)\n",
            "        (mlp): GPT2MLP(\n",
            "          (c_fc): Conv1D()\n",
            "          (c_proj): Conv1D()\n",
            "          (act): NewGELUActivation()\n",
            "          (dropout): Dropout(p=0.1, inplace=False)\n",
            "        )\n",
            "      )\n",
            "    )\n",
            "    (ln_f): LayerNorm((768,), eps=1e-05, elementwise_affine=True)\n",
            "  )\n",
            "  (lm_head): Linear(in_features=768, out_features=50257, bias=False)\n",
            "  (generator): WrapperModule()\n",
            ")\n"
          ]
        }
      ],
      "source": [
        "print(model)"
      ]
    },
    {
      "cell_type": "markdown",
      "metadata": {
        "id": "RlLIgwGqU7NZ"
      },
      "source": [
        "GPT2 is a little more complicated than our previous models, having a nested lists of modules - or transformer blocks - to process information.\n",
        "\n",
        "Luckily, we can just use NNsight to save the activations after each layer. Let's peek at some shapes."
      ]
    },
    {
      "cell_type": "code",
      "execution_count": 30,
      "metadata": {
        "colab": {
          "base_uri": "https://localhost:8080/"
        },
        "id": "WRfGcXVUU7Na",
        "outputId": "e964d727-91e0-45aa-bf43-4630d2db4525"
      },
      "outputs": [
        {
          "name": "stderr",
          "output_type": "stream",
          "text": [
            "You're using a GPT2TokenizerFast tokenizer. Please note that with a fast tokenizer, using the `__call__` method is faster than using a method to encode the text followed by a call to the `pad` method to get a padded encoding.\n"
          ]
        }
      ],
      "source": [
        "prompt= \"The Eiffel Tower is in the city of\"\n",
        "\n",
        "with model.trace(prompt) as tracer:\n",
        "\n",
        "    l0_out = model.transformer.h[0].output.save()\n",
        "\n",
        "    output = model.output.save()"
      ]
    },
    {
      "cell_type": "code",
      "execution_count": 31,
      "metadata": {
        "colab": {
          "base_uri": "https://localhost:8080/"
        },
        "id": "aizHKWaoU7Na",
        "outputId": "ef749a47-55f9-46a5-90b4-b0b3ac6a37e0"
      },
      "outputs": [
        {
          "name": "stdout",
          "output_type": "stream",
          "text": [
            "l0_out shape:  (torch.Size([1, 10, 768]), (torch.Size([1, 12, 10, 64]), torch.Size([1, 12, 10, 64])))\n",
            "output shape:  torch.Size([1, 10, 50257])\n"
          ]
        }
      ],
      "source": [
        "print(\"l0_out shape: \", l0_out.shape)\n",
        "print(\"output shape: \", output.logits.shape)"
      ]
    },
    {
      "cell_type": "markdown",
      "metadata": {
        "id": "yJqX7AkBU7Na"
      },
      "source": [
        "It looks like the output of our transformer blocks are tuples. We're interested in the 0th index, shape `[batch_size, sequence_length, model_dimensions]`. How can we decode this into token space?\n",
        "\n",
        "Using our lessons from above, let's convert the logits into probabilities and find out the model's next token prediction."
      ]
    },
    {
      "cell_type": "code",
      "execution_count": 32,
      "metadata": {
        "colab": {
          "base_uri": "https://localhost:8080/"
        },
        "id": "ieKNLcrHU7Nb",
        "outputId": "83ba2b2c-718d-4a83-c6d0-d1cb61d6a9f8"
      },
      "outputs": [
        {
          "name": "stdout",
          "output_type": "stream",
          "text": [
            "Next token: | Paris|\n"
          ]
        }
      ],
      "source": [
        "softmax_logits = output.logits.softmax(dim=-1)\n",
        "next_tok_logit = softmax_logits[0, -1].argmax(-1)\n",
        "next_tok = tokenizer.decode(next_tok_logit)\n",
        "\n",
        "print(f\"Next token: |{next_tok}|\")"
      ]
    },
    {
      "cell_type": "markdown",
      "metadata": {
        "id": "vXkQx3aVU7Nc"
      },
      "source": [
        "Torch also provides a `topk` function. This allows us to check what other tokens had a high probability."
      ]
    },
    {
      "cell_type": "code",
      "execution_count": 33,
      "metadata": {
        "colab": {
          "base_uri": "https://localhost:8080/"
        },
        "id": "S6p2kmMNU7Nc",
        "outputId": "da163f33-5ac2-45d6-e97f-0510a378f3ce"
      },
      "outputs": [
        {
          "name": "stdout",
          "output_type": "stream",
          "text": [
            "Next token 0: | Paris| with prob: 0.06996810436248779\n",
            "Next token 1: | London| with prob: 0.05835448578000069\n",
            "Next token 2: | New| with prob: 0.03101927414536476\n",
            "Next token 3: | Amsterdam| with prob: 0.029201336205005646\n",
            "Next token 4: | Berlin| with prob: 0.023509806022047997\n"
          ]
        }
      ],
      "source": [
        "softmax_logits = output.logits.softmax(dim=-1)\n",
        "next_tok_logit = softmax_logits[0, -1].topk(5)\n",
        "\n",
        "for i in range(5):\n",
        "    next_tok = tokenizer.decode(next_tok_logit.indices[i])\n",
        "    print(f\"Next token {i}: |{next_tok}| with prob: {next_tok_logit.values[i]}\")"
      ]
    },
    {
      "cell_type": "markdown",
      "metadata": {
        "id": "USN-jXEXU7Nd"
      },
      "source": [
        "Now we know what the model predicts. How does this prediction change across layers?\n",
        "\n",
        "We can use logit lens to decode a model's predictions into token space. Let's build a simple decoder which just takes in an output, then runs it through a final layer norm and unembed."
      ]
    },
    {
      "cell_type": "code",
      "execution_count": 34,
      "metadata": {
        "id": "-Wol0ld0U7Nd"
      },
      "outputs": [],
      "source": [
        "prompt= \"The Eiffel Tower is in the city of\"\n",
        "\n",
        "decoder = lambda x : model.lm_head(model.transformer.ln_f(x))"
      ]
    },
    {
      "cell_type": "markdown",
      "metadata": {
        "id": "URYJdp0PU7Ne"
      },
      "source": [
        "We want to see the probability on the token `| Paris|`, so let's encode that token and use that to get the logit and softmax probability."
      ]
    },
    {
      "cell_type": "code",
      "execution_count": 35,
      "metadata": {
        "id": "IZQ6fg7OU7Ne"
      },
      "outputs": [],
      "source": [
        "tok = tokenizer.encode(\" Paris\")"
      ]
    },
    {
      "cell_type": "markdown",
      "metadata": {
        "id": "Jay6YTq8U7Nf"
      },
      "source": [
        "Finally, let's get the probability over the token for `| Paris|` at every layer, then plot it."
      ]
    },
    {
      "cell_type": "code",
      "execution_count": 36,
      "metadata": {
        "id": "9zSmRP-DU7Ng"
      },
      "outputs": [],
      "source": [
        "predictions = []\n",
        "\n",
        "with model.trace(prompt) as tracer:\n",
        "\n",
        "    for layer in model.transformer.h:\n",
        "        block_out = layer.output[0]\n",
        "        decoded = decoder(block_out)\n",
        "\n",
        "        probs = decoded[0,-1,:].softmax(dim=-1)\n",
        "        predictions.append(probs[tok].save())\n",
        "\n",
        "# quickly convert list items to items\n",
        "predictions = [item.item() for item in predictions]"
      ]
    },
    {
      "cell_type": "code",
      "execution_count": 37,
      "metadata": {
        "colab": {
          "base_uri": "https://localhost:8080/",
          "height": 542
        },
        "id": "X-fcxS-UU7Nh",
        "outputId": "5d2f8f6f-c873-4dfe-a864-94c4f82c99bd"
      },
      "outputs": [
        {
          "data": {
            "image/png": "[encoded data removed]",
            "text/plain": [
              "<Figure size 640x480 with 1 Axes>"
            ]
          },
          "metadata": {},
          "output_type": "display_data"
        }
      ],
      "source": [
        "import matplotlib.pyplot as plt\n",
        "\n",
        "plt.figure()\n",
        "\n",
        "plt.plot(predictions, label=f'Layer {i}')\n",
        "\n",
        "plt.title('Token Probability at each Transformer Layer')\n",
        "plt.xlabel('Layer')\n",
        "plt.ylabel('Probability')\n",
        "\n",
        "plt.legend()\n",
        "\n",
        "plt.show()"
      ]
    }
  ],
  "metadata": {
    "accelerator": "GPU",
    "colab": {
      "gpuType": "T4",
      "provenance": []
    },
    "kernelspec": {
      "display_name": "Python 3",
      "name": "python3"
    },
    "language_info": {
      "codemirror_mode": {
        "name": "ipython",
        "version": 3
      },
      "file_extension": ".py",
      "mimetype": "text/x-python",
      "name": "python",
      "nbconvert_exporter": "python",
      "pygments_lexer": "ipython3",
      "version": "3.10.14"
    },
    "widgets": {
      "application/vnd.jupyter.widget-state+json": {
        "00c236ff110845aca58acd113c777570": {
          "model_module": "@jupyter-widgets/controls",
          "model_module_version": "1.5.0",
          "model_name": "DescriptionStyleModel",
          "state": {
            "_model_module": "@jupyter-widgets/controls",
            "_model_module_version": "1.5.0",
            "_model_name": "DescriptionStyleModel",
            "_view_count": null,
            "_view_module": "@jupyter-widgets/base",
            "_view_module_version": "1.2.0",
            "_view_name": "StyleView",
            "description_width": ""
          }
        },
        "0d8cc71fc35046cc9e027b8fc856a51d": {
          "model_module": "@jupyter-widgets/base",
          "model_module_version": "1.2.0",
          "model_name": "LayoutModel",
          "state": {
            "_model_module": "@jupyter-widgets/base",
            "_model_module_version": "1.2.0",
            "_model_name": "LayoutModel",
            "_view_count": null,
            "_view_module": "@jupyter-widgets/base",
            "_view_module_version": "1.2.0",
            "_view_name": "LayoutView",
            "align_content": null,
            "align_items": null,
            "align_self": null,
            "border": null,
            "bottom": null,
            "display": null,
            "flex": null,
            "flex_flow": null,
            "grid_area": null,
            "grid_auto_columns": null,
            "grid_auto_flow": null,
            "grid_auto_rows": null,
            "grid_column": null,
            "grid_gap": null,
            "grid_row": null,
            "grid_template_areas": null,
            "grid_template_columns": null,
            "grid_template_rows": null,
            "height": null,
            "justify_content": null,
            "justify_items": null,
            "left": null,
            "margin": null,
            "max_height": null,
            "max_width": null,
            "min_height": null,
            "min_width": null,
            "object_fit": null,
            "object_position": null,
            "order": null,
            "overflow": null,
            "overflow_x": null,
            "overflow_y": null,
            "padding": null,
            "right": null,
            "top": null,
            "visibility": null,
            "width": null
          }
        },
        "0dc6404aeb274054bc494cb017e788a1": {
          "model_module": "@jupyter-widgets/controls",
          "model_module_version": "1.5.0",
          "model_name": "ProgressStyleModel",
          "state": {
            "_model_module": "@jupyter-widgets/controls",
            "_model_module_version": "1.5.0",
            "_model_name": "ProgressStyleModel",
            "_view_count": null,
            "_view_module": "@jupyter-widgets/base",
            "_view_module_version": "1.2.0",
            "_view_name": "StyleView",
            "bar_color": null,
            "description_width": ""
          }
        },
        "0e51f13d2f384eaa97b8e83a7e71b13a": {
          "model_module": "@jupyter-widgets/base",
          "model_module_version": "1.2.0",
          "model_name": "LayoutModel",
          "state": {
            "_model_module": "@jupyter-widgets/base",
            "_model_module_version": "1.2.0",
            "_model_name": "LayoutModel",
            "_view_count": null,
            "_view_module": "@jupyter-widgets/base",
            "_view_module_version": "1.2.0",
            "_view_name": "LayoutView",
            "align_content": null,
            "align_items": null,
            "align_self": null,
            "border": null,
            "bottom": null,
            "display": null,
            "flex": null,
            "flex_flow": null,
            "grid_area": null,
            "grid_auto_columns": null,
            "grid_auto_flow": null,
            "grid_auto_rows": null,
            "grid_column": null,
            "grid_gap": null,
            "grid_row": null,
            "grid_template_areas": null,
            "grid_template_columns": null,
            "grid_template_rows": null,
            "height": null,
            "justify_content": null,
            "justify_items": null,
            "left": null,
            "margin": null,
            "max_height": null,
            "max_width": null,
            "min_height": null,
            "min_width": null,
            "object_fit": null,
            "object_position": null,
            "order": null,
            "overflow": null,
            "overflow_x": null,
            "overflow_y": null,
            "padding": null,
            "right": null,
            "top": null,
            "visibility": null,
            "width": null
          }
        },
        "0ff0e2781ae34e35927d4d27b77f8acb": {
          "model_module": "@jupyter-widgets/controls",
          "model_module_version": "1.5.0",
          "model_name": "HTMLModel",
          "state": {
            "_dom_classes": [],
            "_model_module": "@jupyter-widgets/controls",
            "_model_module_version": "1.5.0",
            "_model_name": "HTMLModel",
            "_view_count": null,
            "_view_module": "@jupyter-widgets/controls",
            "_view_module_version": "1.5.0",
            "_view_name": "HTMLView",
            "description": "",
            "description_tooltip": null,
            "layout": "IPY_MODEL_449d7eaf8e444ce6882746dbfe2b6be7",
            "placeholder": "​",
            "style": "IPY_MODEL_a4e527936ba74059b03314203b2719d7",
            "value": "vocab.json: 100%"
          }
        },
        "11856c5a061c43e6afe67a3b83f9b3ff": {
          "model_module": "@jupyter-widgets/controls",
          "model_module_version": "1.5.0",
          "model_name": "DescriptionStyleModel",
          "state": {
            "_model_module": "@jupyter-widgets/controls",
            "_model_module_version": "1.5.0",
            "_model_name": "DescriptionStyleModel",
            "_view_count": null,
            "_view_module": "@jupyter-widgets/base",
            "_view_module_version": "1.2.0",
            "_view_name": "StyleView",
            "description_width": ""
          }
        },
        "134d00fbd4764104be4d4189d477aeaf": {
          "model_module": "@jupyter-widgets/controls",
          "model_module_version": "1.5.0",
          "model_name": "HTMLModel",
          "state": {
            "_dom_classes": [],
            "_model_module": "@jupyter-widgets/controls",
            "_model_module_version": "1.5.0",
            "_model_name": "HTMLModel",
            "_view_count": null,
            "_view_module": "@jupyter-widgets/controls",
            "_view_module_version": "1.5.0",
            "_view_name": "HTMLView",
            "description": "",
            "description_tooltip": null,
            "layout": "IPY_MODEL_384c4440766d45cc91a448b71f04547e",
            "placeholder": "​",
            "style": "IPY_MODEL_fafab7d857a248f0ac1796d77af92c0a",
            "value": "merges.txt: 100%"
          }
        },
        "20ddeb4db7c24ecc9ab7f2846b272349": {
          "model_module": "@jupyter-widgets/controls",
          "model_module_version": "1.5.0",
          "model_name": "HBoxModel",
          "state": {
            "_dom_classes": [],
            "_model_module": "@jupyter-widgets/controls",
            "_model_module_version": "1.5.0",
            "_model_name": "HBoxModel",
            "_view_count": null,
            "_view_module": "@jupyter-widgets/controls",
            "_view_module_version": "1.5.0",
            "_view_name": "HBoxView",
            "box_style": "",
            "children": [
              "IPY_MODEL_db75343ab08a4aafad34a1fb1133048e",
              "IPY_MODEL_fc35996c99ca491d8ab661a281382127",
              "IPY_MODEL_4b43a897d9274a699e5f2597126f1a1e"
            ],
            "layout": "IPY_MODEL_d0651bfffcad49b7b37afa39482c7fd7"
          }
        },
        "21623970c7c545be99b9e32a8c494868": {
          "model_module": "@jupyter-widgets/base",
          "model_module_version": "1.2.0",
          "model_name": "LayoutModel",
          "state": {
            "_model_module": "@jupyter-widgets/base",
            "_model_module_version": "1.2.0",
            "_model_name": "LayoutModel",
            "_view_count": null,
            "_view_module": "@jupyter-widgets/base",
            "_view_module_version": "1.2.0",
            "_view_name": "LayoutView",
            "align_content": null,
            "align_items": null,
            "align_self": null,
            "border": null,
            "bottom": null,
            "display": null,
            "flex": null,
            "flex_flow": null,
            "grid_area": null,
            "grid_auto_columns": null,
            "grid_auto_flow": null,
            "grid_auto_rows": null,
            "grid_column": null,
            "grid_gap": null,
            "grid_row": null,
            "grid_template_areas": null,
            "grid_template_columns": null,
            "grid_template_rows": null,
            "height": null,
            "justify_content": null,
            "justify_items": null,
            "left": null,
            "margin": null,
            "max_height": null,
            "max_width": null,
            "min_height": null,
            "min_width": null,
            "object_fit": null,
            "object_position": null,
            "order": null,
            "overflow": null,
            "overflow_x": null,
            "overflow_y": null,
            "padding": null,
            "right": null,
            "top": null,
            "visibility": null,
            "width": null
          }
        },
        "235a9c1478a74e6599275952b73be444": {
          "model_module": "@jupyter-widgets/controls",
          "model_module_version": "1.5.0",
          "model_name": "DescriptionStyleModel",
          "state": {
            "_model_module": "@jupyter-widgets/controls",
            "_model_module_version": "1.5.0",
            "_model_name": "DescriptionStyleModel",
            "_view_count": null,
            "_view_module": "@jupyter-widgets/base",
            "_view_module_version": "1.2.0",
            "_view_name": "StyleView",
            "description_width": ""
          }
        },
        "24d6b3b322d44a2996464e5b7db67d12": {
          "model_module": "@jupyter-widgets/base",
          "model_module_version": "1.2.0",
          "model_name": "LayoutModel",
          "state": {
            "_model_module": "@jupyter-widgets/base",
            "_model_module_version": "1.2.0",
            "_model_name": "LayoutModel",
            "_view_count": null,
            "_view_module": "@jupyter-widgets/base",
            "_view_module_version": "1.2.0",
            "_view_name": "LayoutView",
            "align_content": null,
            "align_items": null,
            "align_self": null,
            "border": null,
            "bottom": null,
            "display": null,
            "flex": null,
            "flex_flow": null,
            "grid_area": null,
            "grid_auto_columns": null,
            "grid_auto_flow": null,
            "grid_auto_rows": null,
            "grid_column": null,
            "grid_gap": null,
            "grid_row": null,
            "grid_template_areas": null,
            "grid_template_columns": null,
            "grid_template_rows": null,
            "height": null,
            "justify_content": null,
            "justify_items": null,
            "left": null,
            "margin": null,
            "max_height": null,
            "max_width": null,
            "min_height": null,
            "min_width": null,
            "object_fit": null,
            "object_position": null,
            "order": null,
            "overflow": null,
            "overflow_x": null,
            "overflow_y": null,
            "padding": null,
            "right": null,
            "top": null,
            "visibility": null,
            "width": null
          }
        },
        "2a2cc12f03a5448ca7a97bf2e1333460": {
          "model_module": "@jupyter-widgets/controls",
          "model_module_version": "1.5.0",
          "model_name": "ProgressStyleModel",
          "state": {
            "_model_module": "@jupyter-widgets/controls",
            "_model_module_version": "1.5.0",
            "_model_name": "ProgressStyleModel",
            "_view_count": null,
            "_view_module": "@jupyter-widgets/base",
            "_view_module_version": "1.2.0",
            "_view_name": "StyleView",
            "bar_color": null,
            "description_width": ""
          }
        },
        "2c439eba618b49308ec4091cb93dbea2": {
          "model_module": "@jupyter-widgets/controls",
          "model_module_version": "1.5.0",
          "model_name": "DescriptionStyleModel",
          "state": {
            "_model_module": "@jupyter-widgets/controls",
            "_model_module_version": "1.5.0",
            "_model_name": "DescriptionStyleModel",
            "_view_count": null,
            "_view_module": "@jupyter-widgets/base",
            "_view_module_version": "1.2.0",
            "_view_name": "StyleView",
            "description_width": ""
          }
        },
        "2cad057aa8f74bc6ab103463aed0320d": {
          "model_module": "@jupyter-widgets/base",
          "model_module_version": "1.2.0",
          "model_name": "LayoutModel",
          "state": {
            "_model_module": "@jupyter-widgets/base",
            "_model_module_version": "1.2.0",
            "_model_name": "LayoutModel",
            "_view_count": null,
            "_view_module": "@jupyter-widgets/base",
            "_view_module_version": "1.2.0",
            "_view_name": "LayoutView",
            "align_content": null,
            "align_items": null,
            "align_self": null,
            "border": null,
            "bottom": null,
            "display": null,
            "flex": null,
            "flex_flow": null,
            "grid_area": null,
            "grid_auto_columns": null,
            "grid_auto_flow": null,
            "grid_auto_rows": null,
            "grid_column": null,
            "grid_gap": null,
            "grid_row": null,
            "grid_template_areas": null,
            "grid_template_columns": null,
            "grid_template_rows": null,
            "height": null,
            "justify_content": null,
            "justify_items": null,
            "left": null,
            "margin": null,
            "max_height": null,
            "max_width": null,
            "min_height": null,
            "min_width": null,
            "object_fit": null,
            "object_position": null,
            "order": null,
            "overflow": null,
            "overflow_x": null,
            "overflow_y": null,
            "padding": null,
            "right": null,
            "top": null,
            "visibility": null,
            "width": null
          }
        },
        "2d628fb2314940c2a4032f88812c23f3": {
          "model_module": "@jupyter-widgets/controls",
          "model_module_version": "1.5.0",
          "model_name": "FloatProgressModel",
          "state": {
            "_dom_classes": [],
            "_model_module": "@jupyter-widgets/controls",
            "_model_module_version": "1.5.0",
            "_model_name": "FloatProgressModel",
            "_view_count": null,
            "_view_module": "@jupyter-widgets/controls",
            "_view_module_version": "1.5.0",
            "_view_name": "ProgressView",
            "bar_style": "success",
            "description": "",
            "description_tooltip": null,
            "layout": "IPY_MODEL_b08f61d5dcaa47a183fe7be037532531",
            "max": 665,
            "min": 0,
            "orientation": "horizontal",
            "style": "IPY_MODEL_6d3a3ace308d4ba7ae04e8dd9d627785",
            "value": 665
          }
        },
        "2d9b5b7ab0344793bcee553de29fedcc": {
          "model_module": "@jupyter-widgets/base",
          "model_module_version": "1.2.0",
          "model_name": "LayoutModel",
          "state": {
            "_model_module": "@jupyter-widgets/base",
            "_model_module_version": "1.2.0",
            "_model_name": "LayoutModel",
            "_view_count": null,
            "_view_module": "@jupyter-widgets/base",
            "_view_module_version": "1.2.0",
            "_view_name": "LayoutView",
            "align_content": null,
            "align_items": null,
            "align_self": null,
            "border": null,
            "bottom": null,
            "display": null,
            "flex": null,
            "flex_flow": null,
            "grid_area": null,
            "grid_auto_columns": null,
            "grid_auto_flow": null,
            "grid_auto_rows": null,
            "grid_column": null,
            "grid_gap": null,
            "grid_row": null,
            "grid_template_areas": null,
            "grid_template_columns": null,
            "grid_template_rows": null,
            "height": null,
            "justify_content": null,
            "justify_items": null,
            "left": null,
            "margin": null,
            "max_height": null,
            "max_width": null,
            "min_height": null,
            "min_width": null,
            "object_fit": null,
            "object_position": null,
            "order": null,
            "overflow": null,
            "overflow_x": null,
            "overflow_y": null,
            "padding": null,
            "right": null,
            "top": null,
            "visibility": null,
            "width": null
          }
        },
        "319f3c64ed71411b9926b0ba0d94eff4": {
          "model_module": "@jupyter-widgets/controls",
          "model_module_version": "1.5.0",
          "model_name": "HBoxModel",
          "state": {
            "_dom_classes": [],
            "_model_module": "@jupyter-widgets/controls",
            "_model_module_version": "1.5.0",
            "_model_name": "HBoxModel",
            "_view_count": null,
            "_view_module": "@jupyter-widgets/controls",
            "_view_module_version": "1.5.0",
            "_view_name": "HBoxView",
            "box_style": "",
            "children": [
              "IPY_MODEL_0ff0e2781ae34e35927d4d27b77f8acb",
              "IPY_MODEL_5dea80d989b644059fd0043c429dc2f0",
              "IPY_MODEL_ea656f589b314253bf28bf41fa240e27"
            ],
            "layout": "IPY_MODEL_5dc63e5860674061aaff46aa4154a134"
          }
        },
        "33d6059fa0aa494695d87e32553e9f6a": {
          "model_module": "@jupyter-widgets/controls",
          "model_module_version": "1.5.0",
          "model_name": "ProgressStyleModel",
          "state": {
            "_model_module": "@jupyter-widgets/controls",
            "_model_module_version": "1.5.0",
            "_model_name": "ProgressStyleModel",
            "_view_count": null,
            "_view_module": "@jupyter-widgets/base",
            "_view_module_version": "1.2.0",
            "_view_name": "StyleView",
            "bar_color": null,
            "description_width": ""
          }
        },
        "354f7d74391f44ddae1759979ab72306": {
          "model_module": "@jupyter-widgets/base",
          "model_module_version": "1.2.0",
          "model_name": "LayoutModel",
          "state": {
            "_model_module": "@jupyter-widgets/base",
            "_model_module_version": "1.2.0",
            "_model_name": "LayoutModel",
            "_view_count": null,
            "_view_module": "@jupyter-widgets/base",
            "_view_module_version": "1.2.0",
            "_view_name": "LayoutView",
            "align_content": null,
            "align_items": null,
            "align_self": null,
            "border": null,
            "bottom": null,
            "display": null,
            "flex": null,
            "flex_flow": null,
            "grid_area": null,
            "grid_auto_columns": null,
            "grid_auto_flow": null,
            "grid_auto_rows": null,
            "grid_column": null,
            "grid_gap": null,
            "grid_row": null,
            "grid_template_areas": null,
            "grid_template_columns": null,
            "grid_template_rows": null,
            "height": null,
            "justify_content": null,
            "justify_items": null,
            "left": null,
            "margin": null,
            "max_height": null,
            "max_width": null,
            "min_height": null,
            "min_width": null,
            "object_fit": null,
            "object_position": null,
            "order": null,
            "overflow": null,
            "overflow_x": null,
            "overflow_y": null,
            "padding": null,
            "right": null,
            "top": null,
            "visibility": null,
            "width": null
          }
        },
        "384c4440766d45cc91a448b71f04547e": {
          "model_module": "@jupyter-widgets/base",
          "model_module_version": "1.2.0",
          "model_name": "LayoutModel",
          "state": {
            "_model_module": "@jupyter-widgets/base",
            "_model_module_version": "1.2.0",
            "_model_name": "LayoutModel",
            "_view_count": null,
            "_view_module": "@jupyter-widgets/base",
            "_view_module_version": "1.2.0",
            "_view_name": "LayoutView",
            "align_content": null,
            "align_items": null,
            "align_self": null,
            "border": null,
            "bottom": null,
            "display": null,
            "flex": null,
            "flex_flow": null,
            "grid_area": null,
            "grid_auto_columns": null,
            "grid_auto_flow": null,
            "grid_auto_rows": null,
            "grid_column": null,
            "grid_gap": null,
            "grid_row": null,
            "grid_template_areas": null,
            "grid_template_columns": null,
            "grid_template_rows": null,
            "height": null,
            "justify_content": null,
            "justify_items": null,
            "left": null,
            "margin": null,
            "max_height": null,
            "max_width": null,
            "min_height": null,
            "min_width": null,
            "object_fit": null,
            "object_position": null,
            "order": null,
            "overflow": null,
            "overflow_x": null,
            "overflow_y": null,
            "padding": null,
            "right": null,
            "top": null,
            "visibility": null,
            "width": null
          }
        },
        "39a88c13e9e84543a75eeb7e85a78fbd": {
          "model_module": "@jupyter-widgets/controls",
          "model_module_version": "1.5.0",
          "model_name": "HBoxModel",
          "state": {
            "_dom_classes": [],
            "_model_module": "@jupyter-widgets/controls",
            "_model_module_version": "1.5.0",
            "_model_name": "HBoxModel",
            "_view_count": null,
            "_view_module": "@jupyter-widgets/controls",
            "_view_module_version": "1.5.0",
            "_view_name": "HBoxView",
            "box_style": "",
            "children": [
              "IPY_MODEL_134d00fbd4764104be4d4189d477aeaf",
              "IPY_MODEL_f2e60754879c416a8c8ea23ed68756c4",
              "IPY_MODEL_71e471d11f56453f9968cd40f649e9b5"
            ],
            "layout": "IPY_MODEL_21623970c7c545be99b9e32a8c494868"
          }
        },
        "3f5f281b59fa4d8fa0abacce7f601585": {
          "model_module": "@jupyter-widgets/base",
          "model_module_version": "1.2.0",
          "model_name": "LayoutModel",
          "state": {
            "_model_module": "@jupyter-widgets/base",
            "_model_module_version": "1.2.0",
            "_model_name": "LayoutModel",
            "_view_count": null,
            "_view_module": "@jupyter-widgets/base",
            "_view_module_version": "1.2.0",
            "_view_name": "LayoutView",
            "align_content": null,
            "align_items": null,
            "align_self": null,
            "border": null,
            "bottom": null,
            "display": null,
            "flex": null,
            "flex_flow": null,
            "grid_area": null,
            "grid_auto_columns": null,
            "grid_auto_flow": null,
            "grid_auto_rows": null,
            "grid_column": null,
            "grid_gap": null,
            "grid_row": null,
            "grid_template_areas": null,
            "grid_template_columns": null,
            "grid_template_rows": null,
            "height": null,
            "justify_content": null,
            "justify_items": null,
            "left": null,
            "margin": null,
            "max_height": null,
            "max_width": null,
            "min_height": null,
            "min_width": null,
            "object_fit": null,
            "object_position": null,
            "order": null,
            "overflow": null,
            "overflow_x": null,
            "overflow_y": null,
            "padding": null,
            "right": null,
            "top": null,
            "visibility": null,
            "width": null
          }
        },
        "4288547692614775b8bb4abc1f629a73": {
          "model_module": "@jupyter-widgets/base",
          "model_module_version": "1.2.0",
          "model_name": "LayoutModel",
          "state": {
            "_model_module": "@jupyter-widgets/base",
            "_model_module_version": "1.2.0",
            "_model_name": "LayoutModel",
            "_view_count": null,
            "_view_module": "@jupyter-widgets/base",
            "_view_module_version": "1.2.0",
            "_view_name": "LayoutView",
            "align_content": null,
            "align_items": null,
            "align_self": null,
            "border": null,
            "bottom": null,
            "display": null,
            "flex": null,
            "flex_flow": null,
            "grid_area": null,
            "grid_auto_columns": null,
            "grid_auto_flow": null,
            "grid_auto_rows": null,
            "grid_column": null,
            "grid_gap": null,
            "grid_row": null,
            "grid_template_areas": null,
            "grid_template_columns": null,
            "grid_template_rows": null,
            "height": null,
            "justify_content": null,
            "justify_items": null,
            "left": null,
            "margin": null,
            "max_height": null,
            "max_width": null,
            "min_height": null,
            "min_width": null,
            "object_fit": null,
            "object_position": null,
            "order": null,
            "overflow": null,
            "overflow_x": null,
            "overflow_y": null,
            "padding": null,
            "right": null,
            "top": null,
            "visibility": null,
            "width": null
          }
        },
        "43423441d55346c7ad195c649d474042": {
          "model_module": "@jupyter-widgets/controls",
          "model_module_version": "1.5.0",
          "model_name": "HTMLModel",
          "state": {
            "_dom_classes": [],
            "_model_module": "@jupyter-widgets/controls",
            "_model_module_version": "1.5.0",
            "_model_name": "HTMLModel",
            "_view_count": null,
            "_view_module": "@jupyter-widgets/controls",
            "_view_module_version": "1.5.0",
            "_view_name": "HTMLView",
            "description": "",
            "description_tooltip": null,
            "layout": "IPY_MODEL_f18ccdb340ac4fa98d683f53a218c898",
            "placeholder": "​",
            "style": "IPY_MODEL_b23c342ad0594280a07d07616e8d982e",
            "value": "config.json: 100%"
          }
        },
        "449d7eaf8e444ce6882746dbfe2b6be7": {
          "model_module": "@jupyter-widgets/base",
          "model_module_version": "1.2.0",
          "model_name": "LayoutModel",
          "state": {
            "_model_module": "@jupyter-widgets/base",
            "_model_module_version": "1.2.0",
            "_model_name": "LayoutModel",
            "_view_count": null,
            "_view_module": "@jupyter-widgets/base",
            "_view_module_version": "1.2.0",
            "_view_name": "LayoutView",
            "align_content": null,
            "align_items": null,
            "align_self": null,
            "border": null,
            "bottom": null,
            "display": null,
            "flex": null,
            "flex_flow": null,
            "grid_area": null,
            "grid_auto_columns": null,
            "grid_auto_flow": null,
            "grid_auto_rows": null,
            "grid_column": null,
            "grid_gap": null,
            "grid_row": null,
            "grid_template_areas": null,
            "grid_template_columns": null,
            "grid_template_rows": null,
            "height": null,
            "justify_content": null,
            "justify_items": null,
            "left": null,
            "margin": null,
            "max_height": null,
            "max_width": null,
            "min_height": null,
            "min_width": null,
            "object_fit": null,
            "object_position": null,
            "order": null,
            "overflow": null,
            "overflow_x": null,
            "overflow_y": null,
            "padding": null,
            "right": null,
            "top": null,
            "visibility": null,
            "width": null
          }
        },
        "487ea35bfd7147bd9fb65b0a8273dc82": {
          "model_module": "@jupyter-widgets/base",
          "model_module_version": "1.2.0",
          "model_name": "LayoutModel",
          "state": {
            "_model_module": "@jupyter-widgets/base",
            "_model_module_version": "1.2.0",
            "_model_name": "LayoutModel",
            "_view_count": null,
            "_view_module": "@jupyter-widgets/base",
            "_view_module_version": "1.2.0",
            "_view_name": "LayoutView",
            "align_content": null,
            "align_items": null,
            "align_self": null,
            "border": null,
            "bottom": null,
            "display": null,
            "flex": null,
            "flex_flow": null,
            "grid_area": null,
            "grid_auto_columns": null,
            "grid_auto_flow": null,
            "grid_auto_rows": null,
            "grid_column": null,
            "grid_gap": null,
            "grid_row": null,
            "grid_template_areas": null,
            "grid_template_columns": null,
            "grid_template_rows": null,
            "height": null,
            "justify_content": null,
            "justify_items": null,
            "left": null,
            "margin": null,
            "max_height": null,
            "max_width": null,
            "min_height": null,
            "min_width": null,
            "object_fit": null,
            "object_position": null,
            "order": null,
            "overflow": null,
            "overflow_x": null,
            "overflow_y": null,
            "padding": null,
            "right": null,
            "top": null,
            "visibility": null,
            "width": null
          }
        },
        "492ed2ac0a914a45838b1b618ae1f877": {
          "model_module": "@jupyter-widgets/base",
          "model_module_version": "1.2.0",
          "model_name": "LayoutModel",
          "state": {
            "_model_module": "@jupyter-widgets/base",
            "_model_module_version": "1.2.0",
            "_model_name": "LayoutModel",
            "_view_count": null,
            "_view_module": "@jupyter-widgets/base",
            "_view_module_version": "1.2.0",
            "_view_name": "LayoutView",
            "align_content": null,
            "align_items": null,
            "align_self": null,
            "border": null,
            "bottom": null,
            "display": null,
            "flex": null,
            "flex_flow": null,
            "grid_area": null,
            "grid_auto_columns": null,
            "grid_auto_flow": null,
            "grid_auto_rows": null,
            "grid_column": null,
            "grid_gap": null,
            "grid_row": null,
            "grid_template_areas": null,
            "grid_template_columns": null,
            "grid_template_rows": null,
            "height": null,
            "justify_content": null,
            "justify_items": null,
            "left": null,
            "margin": null,
            "max_height": null,
            "max_width": null,
            "min_height": null,
            "min_width": null,
            "object_fit": null,
            "object_position": null,
            "order": null,
            "overflow": null,
            "overflow_x": null,
            "overflow_y": null,
            "padding": null,
            "right": null,
            "top": null,
            "visibility": null,
            "width": null
          }
        },
        "4b43a897d9274a699e5f2597126f1a1e": {
          "model_module": "@jupyter-widgets/controls",
          "model_module_version": "1.5.0",
          "model_name": "HTMLModel",
          "state": {
            "_dom_classes": [],
            "_model_module": "@jupyter-widgets/controls",
            "_model_module_version": "1.5.0",
            "_model_name": "HTMLModel",
            "_view_count": null,
            "_view_module": "@jupyter-widgets/controls",
            "_view_module_version": "1.5.0",
            "_view_name": "HTMLView",
            "description": "",
            "description_tooltip": null,
            "layout": "IPY_MODEL_0d8cc71fc35046cc9e027b8fc856a51d",
            "placeholder": "​",
            "style": "IPY_MODEL_f3d8754103494b6cbd258c5c40f7277e",
            "value": " 1.36M/1.36M [00:00&lt;00:00, 29.4MB/s]"
          }
        },
        "5438e04cd0d74082964344b63877fc45": {
          "model_module": "@jupyter-widgets/controls",
          "model_module_version": "1.5.0",
          "model_name": "HTMLModel",
          "state": {
            "_dom_classes": [],
            "_model_module": "@jupyter-widgets/controls",
            "_model_module_version": "1.5.0",
            "_model_name": "HTMLModel",
            "_view_count": null,
            "_view_module": "@jupyter-widgets/controls",
            "_view_module_version": "1.5.0",
            "_view_name": "HTMLView",
            "description": "",
            "description_tooltip": null,
            "layout": "IPY_MODEL_3f5f281b59fa4d8fa0abacce7f601585",
            "placeholder": "​",
            "style": "IPY_MODEL_b8ea490791bb4d31aa1de207c9844fbd",
            "value": "generation_config.json: 100%"
          }
        },
        "55ddbf1db3df4fd8b34ad688749f98c9": {
          "model_module": "@jupyter-widgets/base",
          "model_module_version": "1.2.0",
          "model_name": "LayoutModel",
          "state": {
            "_model_module": "@jupyter-widgets/base",
            "_model_module_version": "1.2.0",
            "_model_name": "LayoutModel",
            "_view_count": null,
            "_view_module": "@jupyter-widgets/base",
            "_view_module_version": "1.2.0",
            "_view_name": "LayoutView",
            "align_content": null,
            "align_items": null,
            "align_self": null,
            "border": null,
            "bottom": null,
            "display": null,
            "flex": null,
            "flex_flow": null,
            "grid_area": null,
            "grid_auto_columns": null,
            "grid_auto_flow": null,
            "grid_auto_rows": null,
            "grid_column": null,
            "grid_gap": null,
            "grid_row": null,
            "grid_template_areas": null,
            "grid_template_columns": null,
            "grid_template_rows": null,
            "height": null,
            "justify_content": null,
            "justify_items": null,
            "left": null,
            "margin": null,
            "max_height": null,
            "max_width": null,
            "min_height": null,
            "min_width": null,
            "object_fit": null,
            "object_position": null,
            "order": null,
            "overflow": null,
            "overflow_x": null,
            "overflow_y": null,
            "padding": null,
            "right": null,
            "top": null,
            "visibility": null,
            "width": null
          }
        },
        "564d7d290e5547029e5b21ec9116c143": {
          "model_module": "@jupyter-widgets/controls",
          "model_module_version": "1.5.0",
          "model_name": "HTMLModel",
          "state": {
            "_dom_classes": [],
            "_model_module": "@jupyter-widgets/controls",
            "_model_module_version": "1.5.0",
            "_model_name": "HTMLModel",
            "_view_count": null,
            "_view_module": "@jupyter-widgets/controls",
            "_view_module_version": "1.5.0",
            "_view_name": "HTMLView",
            "description": "",
            "description_tooltip": null,
            "layout": "IPY_MODEL_857948168c84415ab8df105a0defb365",
            "placeholder": "​",
            "style": "IPY_MODEL_6d2e9f6bcbd3449bba1d62c295ca93b8",
            "value": " 548M/548M [00:04&lt;00:00, 135MB/s]"
          }
        },
        "5d16e3122183496d825838d635c591a4": {
          "model_module": "@jupyter-widgets/base",
          "model_module_version": "1.2.0",
          "model_name": "LayoutModel",
          "state": {
            "_model_module": "@jupyter-widgets/base",
            "_model_module_version": "1.2.0",
            "_model_name": "LayoutModel",
            "_view_count": null,
            "_view_module": "@jupyter-widgets/base",
            "_view_module_version": "1.2.0",
            "_view_name": "LayoutView",
            "align_content": null,
            "align_items": null,
            "align_self": null,
            "border": null,
            "bottom": null,
            "display": null,
            "flex": null,
            "flex_flow": null,
            "grid_area": null,
            "grid_auto_columns": null,
            "grid_auto_flow": null,
            "grid_auto_rows": null,
            "grid_column": null,
            "grid_gap": null,
            "grid_row": null,
            "grid_template_areas": null,
            "grid_template_columns": null,
            "grid_template_rows": null,
            "height": null,
            "justify_content": null,
            "justify_items": null,
            "left": null,
            "margin": null,
            "max_height": null,
            "max_width": null,
            "min_height": null,
            "min_width": null,
            "object_fit": null,
            "object_position": null,
            "order": null,
            "overflow": null,
            "overflow_x": null,
            "overflow_y": null,
            "padding": null,
            "right": null,
            "top": null,
            "visibility": null,
            "width": null
          }
        },
        "5dc63e5860674061aaff46aa4154a134": {
          "model_module": "@jupyter-widgets/base",
          "model_module_version": "1.2.0",
          "model_name": "LayoutModel",
          "state": {
            "_model_module": "@jupyter-widgets/base",
            "_model_module_version": "1.2.0",
            "_model_name": "LayoutModel",
            "_view_count": null,
            "_view_module": "@jupyter-widgets/base",
            "_view_module_version": "1.2.0",
            "_view_name": "LayoutView",
            "align_content": null,
            "align_items": null,
            "align_self": null,
            "border": null,
            "bottom": null,
            "display": null,
            "flex": null,
            "flex_flow": null,
            "grid_area": null,
            "grid_auto_columns": null,
            "grid_auto_flow": null,
            "grid_auto_rows": null,
            "grid_column": null,
            "grid_gap": null,
            "grid_row": null,
            "grid_template_areas": null,
            "grid_template_columns": null,
            "grid_template_rows": null,
            "height": null,
            "justify_content": null,
            "justify_items": null,
            "left": null,
            "margin": null,
            "max_height": null,
            "max_width": null,
            "min_height": null,
            "min_width": null,
            "object_fit": null,
            "object_position": null,
            "order": null,
            "overflow": null,
            "overflow_x": null,
            "overflow_y": null,
            "padding": null,
            "right": null,
            "top": null,
            "visibility": null,
            "width": null
          }
        },
        "5dea80d989b644059fd0043c429dc2f0": {
          "model_module": "@jupyter-widgets/controls",
          "model_module_version": "1.5.0",
          "model_name": "FloatProgressModel",
          "state": {
            "_dom_classes": [],
            "_model_module": "@jupyter-widgets/controls",
            "_model_module_version": "1.5.0",
            "_model_name": "FloatProgressModel",
            "_view_count": null,
            "_view_module": "@jupyter-widgets/controls",
            "_view_module_version": "1.5.0",
            "_view_name": "ProgressView",
            "bar_style": "success",
            "description": "",
            "description_tooltip": null,
            "layout": "IPY_MODEL_24d6b3b322d44a2996464e5b7db67d12",
            "max": 1042301,
            "min": 0,
            "orientation": "horizontal",
            "style": "IPY_MODEL_33d6059fa0aa494695d87e32553e9f6a",
            "value": 1042301
          }
        },
        "635d60319e5a40eba4f6ac14d7e73661": {
          "model_module": "@jupyter-widgets/controls",
          "model_module_version": "1.5.0",
          "model_name": "DescriptionStyleModel",
          "state": {
            "_model_module": "@jupyter-widgets/controls",
            "_model_module_version": "1.5.0",
            "_model_name": "DescriptionStyleModel",
            "_view_count": null,
            "_view_module": "@jupyter-widgets/base",
            "_view_module_version": "1.2.0",
            "_view_name": "StyleView",
            "description_width": ""
          }
        },
        "6d2e9f6bcbd3449bba1d62c295ca93b8": {
          "model_module": "@jupyter-widgets/controls",
          "model_module_version": "1.5.0",
          "model_name": "DescriptionStyleModel",
          "state": {
            "_model_module": "@jupyter-widgets/controls",
            "_model_module_version": "1.5.0",
            "_model_name": "DescriptionStyleModel",
            "_view_count": null,
            "_view_module": "@jupyter-widgets/base",
            "_view_module_version": "1.2.0",
            "_view_name": "StyleView",
            "description_width": ""
          }
        },
        "6d3a3ace308d4ba7ae04e8dd9d627785": {
          "model_module": "@jupyter-widgets/controls",
          "model_module_version": "1.5.0",
          "model_name": "ProgressStyleModel",
          "state": {
            "_model_module": "@jupyter-widgets/controls",
            "_model_module_version": "1.5.0",
            "_model_name": "ProgressStyleModel",
            "_view_count": null,
            "_view_module": "@jupyter-widgets/base",
            "_view_module_version": "1.2.0",
            "_view_name": "StyleView",
            "bar_color": null,
            "description_width": ""
          }
        },
        "71e471d11f56453f9968cd40f649e9b5": {
          "model_module": "@jupyter-widgets/controls",
          "model_module_version": "1.5.0",
          "model_name": "HTMLModel",
          "state": {
            "_dom_classes": [],
            "_model_module": "@jupyter-widgets/controls",
            "_model_module_version": "1.5.0",
            "_model_name": "HTMLModel",
            "_view_count": null,
            "_view_module": "@jupyter-widgets/controls",
            "_view_module_version": "1.5.0",
            "_view_name": "HTMLView",
            "description": "",
            "description_tooltip": null,
            "layout": "IPY_MODEL_a4dc07914b2849a592bf859c2faa9906",
            "placeholder": "​",
            "style": "IPY_MODEL_2c439eba618b49308ec4091cb93dbea2",
            "value": " 456k/456k [00:00&lt;00:00, 6.59MB/s]"
          }
        },
        "765934f12c374ad8b8d08835bf1551e6": {
          "model_module": "@jupyter-widgets/base",
          "model_module_version": "1.2.0",
          "model_name": "LayoutModel",
          "state": {
            "_model_module": "@jupyter-widgets/base",
            "_model_module_version": "1.2.0",
            "_model_name": "LayoutModel",
            "_view_count": null,
            "_view_module": "@jupyter-widgets/base",
            "_view_module_version": "1.2.0",
            "_view_name": "LayoutView",
            "align_content": null,
            "align_items": null,
            "align_self": null,
            "border": null,
            "bottom": null,
            "display": null,
            "flex": null,
            "flex_flow": null,
            "grid_area": null,
            "grid_auto_columns": null,
            "grid_auto_flow": null,
            "grid_auto_rows": null,
            "grid_column": null,
            "grid_gap": null,
            "grid_row": null,
            "grid_template_areas": null,
            "grid_template_columns": null,
            "grid_template_rows": null,
            "height": null,
            "justify_content": null,
            "justify_items": null,
            "left": null,
            "margin": null,
            "max_height": null,
            "max_width": null,
            "min_height": null,
            "min_width": null,
            "object_fit": null,
            "object_position": null,
            "order": null,
            "overflow": null,
            "overflow_x": null,
            "overflow_y": null,
            "padding": null,
            "right": null,
            "top": null,
            "visibility": null,
            "width": null
          }
        },
        "7d40c576a46740988a7580aa9c11676e": {
          "model_module": "@jupyter-widgets/controls",
          "model_module_version": "1.5.0",
          "model_name": "ProgressStyleModel",
          "state": {
            "_model_module": "@jupyter-widgets/controls",
            "_model_module_version": "1.5.0",
            "_model_name": "ProgressStyleModel",
            "_view_count": null,
            "_view_module": "@jupyter-widgets/base",
            "_view_module_version": "1.2.0",
            "_view_name": "StyleView",
            "bar_color": null,
            "description_width": ""
          }
        },
        "84e0add9f08f4bc9a94ad0c7f3a877e7": {
          "model_module": "@jupyter-widgets/controls",
          "model_module_version": "1.5.0",
          "model_name": "ProgressStyleModel",
          "state": {
            "_model_module": "@jupyter-widgets/controls",
            "_model_module_version": "1.5.0",
            "_model_name": "ProgressStyleModel",
            "_view_count": null,
            "_view_module": "@jupyter-widgets/base",
            "_view_module_version": "1.2.0",
            "_view_name": "StyleView",
            "bar_color": null,
            "description_width": ""
          }
        },
        "857948168c84415ab8df105a0defb365": {
          "model_module": "@jupyter-widgets/base",
          "model_module_version": "1.2.0",
          "model_name": "LayoutModel",
          "state": {
            "_model_module": "@jupyter-widgets/base",
            "_model_module_version": "1.2.0",
            "_model_name": "LayoutModel",
            "_view_count": null,
            "_view_module": "@jupyter-widgets/base",
            "_view_module_version": "1.2.0",
            "_view_name": "LayoutView",
            "align_content": null,
            "align_items": null,
            "align_self": null,
            "border": null,
            "bottom": null,
            "display": null,
            "flex": null,
            "flex_flow": null,
            "grid_area": null,
            "grid_auto_columns": null,
            "grid_auto_flow": null,
            "grid_auto_rows": null,
            "grid_column": null,
            "grid_gap": null,
            "grid_row": null,
            "grid_template_areas": null,
            "grid_template_columns": null,
            "grid_template_rows": null,
            "height": null,
            "justify_content": null,
            "justify_items": null,
            "left": null,
            "margin": null,
            "max_height": null,
            "max_width": null,
            "min_height": null,
            "min_width": null,
            "object_fit": null,
            "object_position": null,
            "order": null,
            "overflow": null,
            "overflow_x": null,
            "overflow_y": null,
            "padding": null,
            "right": null,
            "top": null,
            "visibility": null,
            "width": null
          }
        },
        "87158ab8ff12471e99cd519524323534": {
          "model_module": "@jupyter-widgets/controls",
          "model_module_version": "1.5.0",
          "model_name": "HBoxModel",
          "state": {
            "_dom_classes": [],
            "_model_module": "@jupyter-widgets/controls",
            "_model_module_version": "1.5.0",
            "_model_name": "HBoxModel",
            "_view_count": null,
            "_view_module": "@jupyter-widgets/controls",
            "_view_module_version": "1.5.0",
            "_view_name": "HBoxView",
            "box_style": "",
            "children": [
              "IPY_MODEL_b72d0c1c664f43bf815e70e18000840f",
              "IPY_MODEL_a6b0c0b906f9451eae85c47186fc0f0f",
              "IPY_MODEL_564d7d290e5547029e5b21ec9116c143"
            ],
            "layout": "IPY_MODEL_55ddbf1db3df4fd8b34ad688749f98c9"
          }
        },
        "9048d209fd884dd9b2bd21d1dbfb6e7d": {
          "model_module": "@jupyter-widgets/controls",
          "model_module_version": "1.5.0",
          "model_name": "HTMLModel",
          "state": {
            "_dom_classes": [],
            "_model_module": "@jupyter-widgets/controls",
            "_model_module_version": "1.5.0",
            "_model_name": "HTMLModel",
            "_view_count": null,
            "_view_module": "@jupyter-widgets/controls",
            "_view_module_version": "1.5.0",
            "_view_name": "HTMLView",
            "description": "",
            "description_tooltip": null,
            "layout": "IPY_MODEL_487ea35bfd7147bd9fb65b0a8273dc82",
            "placeholder": "​",
            "style": "IPY_MODEL_00c236ff110845aca58acd113c777570",
            "value": " 665/665 [00:00&lt;00:00, 20.6kB/s]"
          }
        },
        "9672a40909aa4fe682799de42f251b36": {
          "model_module": "@jupyter-widgets/controls",
          "model_module_version": "1.5.0",
          "model_name": "HTMLModel",
          "state": {
            "_dom_classes": [],
            "_model_module": "@jupyter-widgets/controls",
            "_model_module_version": "1.5.0",
            "_model_name": "HTMLModel",
            "_view_count": null,
            "_view_module": "@jupyter-widgets/controls",
            "_view_module_version": "1.5.0",
            "_view_name": "HTMLView",
            "description": "",
            "description_tooltip": null,
            "layout": "IPY_MODEL_354f7d74391f44ddae1759979ab72306",
            "placeholder": "​",
            "style": "IPY_MODEL_235a9c1478a74e6599275952b73be444",
            "value": " 26.0/26.0 [00:00&lt;00:00, 455B/s]"
          }
        },
        "97733dcbaed64c899e06d5011056310b": {
          "model_module": "@jupyter-widgets/controls",
          "model_module_version": "1.5.0",
          "model_name": "FloatProgressModel",
          "state": {
            "_dom_classes": [],
            "_model_module": "@jupyter-widgets/controls",
            "_model_module_version": "1.5.0",
            "_model_name": "FloatProgressModel",
            "_view_count": null,
            "_view_module": "@jupyter-widgets/controls",
            "_view_module_version": "1.5.0",
            "_view_name": "ProgressView",
            "bar_style": "success",
            "description": "",
            "description_tooltip": null,
            "layout": "IPY_MODEL_a06f8d151e7149049c13fcbe2030202a",
            "max": 124,
            "min": 0,
            "orientation": "horizontal",
            "style": "IPY_MODEL_7d40c576a46740988a7580aa9c11676e",
            "value": 124
          }
        },
        "9f434d6801c04fbd9ef850631bf76f3b": {
          "model_module": "@jupyter-widgets/controls",
          "model_module_version": "1.5.0",
          "model_name": "FloatProgressModel",
          "state": {
            "_dom_classes": [],
            "_model_module": "@jupyter-widgets/controls",
            "_model_module_version": "1.5.0",
            "_model_name": "FloatProgressModel",
            "_view_count": null,
            "_view_module": "@jupyter-widgets/controls",
            "_view_module_version": "1.5.0",
            "_view_name": "ProgressView",
            "bar_style": "success",
            "description": "",
            "description_tooltip": null,
            "layout": "IPY_MODEL_492ed2ac0a914a45838b1b618ae1f877",
            "max": 26,
            "min": 0,
            "orientation": "horizontal",
            "style": "IPY_MODEL_84e0add9f08f4bc9a94ad0c7f3a877e7",
            "value": 26
          }
        },
        "a06f8d151e7149049c13fcbe2030202a": {
          "model_module": "@jupyter-widgets/base",
          "model_module_version": "1.2.0",
          "model_name": "LayoutModel",
          "state": {
            "_model_module": "@jupyter-widgets/base",
            "_model_module_version": "1.2.0",
            "_model_name": "LayoutModel",
            "_view_count": null,
            "_view_module": "@jupyter-widgets/base",
            "_view_module_version": "1.2.0",
            "_view_name": "LayoutView",
            "align_content": null,
            "align_items": null,
            "align_self": null,
            "border": null,
            "bottom": null,
            "display": null,
            "flex": null,
            "flex_flow": null,
            "grid_area": null,
            "grid_auto_columns": null,
            "grid_auto_flow": null,
            "grid_auto_rows": null,
            "grid_column": null,
            "grid_gap": null,
            "grid_row": null,
            "grid_template_areas": null,
            "grid_template_columns": null,
            "grid_template_rows": null,
            "height": null,
            "justify_content": null,
            "justify_items": null,
            "left": null,
            "margin": null,
            "max_height": null,
            "max_width": null,
            "min_height": null,
            "min_width": null,
            "object_fit": null,
            "object_position": null,
            "order": null,
            "overflow": null,
            "overflow_x": null,
            "overflow_y": null,
            "padding": null,
            "right": null,
            "top": null,
            "visibility": null,
            "width": null
          }
        },
        "a4dc07914b2849a592bf859c2faa9906": {
          "model_module": "@jupyter-widgets/base",
          "model_module_version": "1.2.0",
          "model_name": "LayoutModel",
          "state": {
            "_model_module": "@jupyter-widgets/base",
            "_model_module_version": "1.2.0",
            "_model_name": "LayoutModel",
            "_view_count": null,
            "_view_module": "@jupyter-widgets/base",
            "_view_module_version": "1.2.0",
            "_view_name": "LayoutView",
            "align_content": null,
            "align_items": null,
            "align_self": null,
            "border": null,
            "bottom": null,
            "display": null,
            "flex": null,
            "flex_flow": null,
            "grid_area": null,
            "grid_auto_columns": null,
            "grid_auto_flow": null,
            "grid_auto_rows": null,
            "grid_column": null,
            "grid_gap": null,
            "grid_row": null,
            "grid_template_areas": null,
            "grid_template_columns": null,
            "grid_template_rows": null,
            "height": null,
            "justify_content": null,
            "justify_items": null,
            "left": null,
            "margin": null,
            "max_height": null,
            "max_width": null,
            "min_height": null,
            "min_width": null,
            "object_fit": null,
            "object_position": null,
            "order": null,
            "overflow": null,
            "overflow_x": null,
            "overflow_y": null,
            "padding": null,
            "right": null,
            "top": null,
            "visibility": null,
            "width": null
          }
        },
        "a4e527936ba74059b03314203b2719d7": {
          "model_module": "@jupyter-widgets/controls",
          "model_module_version": "1.5.0",
          "model_name": "DescriptionStyleModel",
          "state": {
            "_model_module": "@jupyter-widgets/controls",
            "_model_module_version": "1.5.0",
            "_model_name": "DescriptionStyleModel",
            "_view_count": null,
            "_view_module": "@jupyter-widgets/base",
            "_view_module_version": "1.2.0",
            "_view_name": "StyleView",
            "description_width": ""
          }
        },
        "a5f96a23df0440fe98f624be34f68230": {
          "model_module": "@jupyter-widgets/controls",
          "model_module_version": "1.5.0",
          "model_name": "DescriptionStyleModel",
          "state": {
            "_model_module": "@jupyter-widgets/controls",
            "_model_module_version": "1.5.0",
            "_model_name": "DescriptionStyleModel",
            "_view_count": null,
            "_view_module": "@jupyter-widgets/base",
            "_view_module_version": "1.2.0",
            "_view_name": "StyleView",
            "description_width": ""
          }
        },
        "a6b0c0b906f9451eae85c47186fc0f0f": {
          "model_module": "@jupyter-widgets/controls",
          "model_module_version": "1.5.0",
          "model_name": "FloatProgressModel",
          "state": {
            "_dom_classes": [],
            "_model_module": "@jupyter-widgets/controls",
            "_model_module_version": "1.5.0",
            "_model_name": "FloatProgressModel",
            "_view_count": null,
            "_view_module": "@jupyter-widgets/controls",
            "_view_module_version": "1.5.0",
            "_view_name": "ProgressView",
            "bar_style": "success",
            "description": "",
            "description_tooltip": null,
            "layout": "IPY_MODEL_2d9b5b7ab0344793bcee553de29fedcc",
            "max": 548105171,
            "min": 0,
            "orientation": "horizontal",
            "style": "IPY_MODEL_0dc6404aeb274054bc494cb017e788a1",
            "value": 548105171
          }
        },
        "af5a1cbe607f4e7180850cbc8a3869a9": {
          "model_module": "@jupyter-widgets/base",
          "model_module_version": "1.2.0",
          "model_name": "LayoutModel",
          "state": {
            "_model_module": "@jupyter-widgets/base",
            "_model_module_version": "1.2.0",
            "_model_name": "LayoutModel",
            "_view_count": null,
            "_view_module": "@jupyter-widgets/base",
            "_view_module_version": "1.2.0",
            "_view_name": "LayoutView",
            "align_content": null,
            "align_items": null,
            "align_self": null,
            "border": null,
            "bottom": null,
            "display": null,
            "flex": null,
            "flex_flow": null,
            "grid_area": null,
            "grid_auto_columns": null,
            "grid_auto_flow": null,
            "grid_auto_rows": null,
            "grid_column": null,
            "grid_gap": null,
            "grid_row": null,
            "grid_template_areas": null,
            "grid_template_columns": null,
            "grid_template_rows": null,
            "height": null,
            "justify_content": null,
            "justify_items": null,
            "left": null,
            "margin": null,
            "max_height": null,
            "max_width": null,
            "min_height": null,
            "min_width": null,
            "object_fit": null,
            "object_position": null,
            "order": null,
            "overflow": null,
            "overflow_x": null,
            "overflow_y": null,
            "padding": null,
            "right": null,
            "top": null,
            "visibility": null,
            "width": null
          }
        },
        "b08f61d5dcaa47a183fe7be037532531": {
          "model_module": "@jupyter-widgets/base",
          "model_module_version": "1.2.0",
          "model_name": "LayoutModel",
          "state": {
            "_model_module": "@jupyter-widgets/base",
            "_model_module_version": "1.2.0",
            "_model_name": "LayoutModel",
            "_view_count": null,
            "_view_module": "@jupyter-widgets/base",
            "_view_module_version": "1.2.0",
            "_view_name": "LayoutView",
            "align_content": null,
            "align_items": null,
            "align_self": null,
            "border": null,
            "bottom": null,
            "display": null,
            "flex": null,
            "flex_flow": null,
            "grid_area": null,
            "grid_auto_columns": null,
            "grid_auto_flow": null,
            "grid_auto_rows": null,
            "grid_column": null,
            "grid_gap": null,
            "grid_row": null,
            "grid_template_areas": null,
            "grid_template_columns": null,
            "grid_template_rows": null,
            "height": null,
            "justify_content": null,
            "justify_items": null,
            "left": null,
            "margin": null,
            "max_height": null,
            "max_width": null,
            "min_height": null,
            "min_width": null,
            "object_fit": null,
            "object_position": null,
            "order": null,
            "overflow": null,
            "overflow_x": null,
            "overflow_y": null,
            "padding": null,
            "right": null,
            "top": null,
            "visibility": null,
            "width": null
          }
        },
        "b23c342ad0594280a07d07616e8d982e": {
          "model_module": "@jupyter-widgets/controls",
          "model_module_version": "1.5.0",
          "model_name": "DescriptionStyleModel",
          "state": {
            "_model_module": "@jupyter-widgets/controls",
            "_model_module_version": "1.5.0",
            "_model_name": "DescriptionStyleModel",
            "_view_count": null,
            "_view_module": "@jupyter-widgets/base",
            "_view_module_version": "1.2.0",
            "_view_name": "StyleView",
            "description_width": ""
          }
        },
        "b72d0c1c664f43bf815e70e18000840f": {
          "model_module": "@jupyter-widgets/controls",
          "model_module_version": "1.5.0",
          "model_name": "HTMLModel",
          "state": {
            "_dom_classes": [],
            "_model_module": "@jupyter-widgets/controls",
            "_model_module_version": "1.5.0",
            "_model_name": "HTMLModel",
            "_view_count": null,
            "_view_module": "@jupyter-widgets/controls",
            "_view_module_version": "1.5.0",
            "_view_name": "HTMLView",
            "description": "",
            "description_tooltip": null,
            "layout": "IPY_MODEL_ecd6d0d5df4c4a48afb1ff238fe8c741",
            "placeholder": "​",
            "style": "IPY_MODEL_bdf2c2bc44ed47549727d605f5441743",
            "value": "model.safetensors: 100%"
          }
        },
        "b8ea490791bb4d31aa1de207c9844fbd": {
          "model_module": "@jupyter-widgets/controls",
          "model_module_version": "1.5.0",
          "model_name": "DescriptionStyleModel",
          "state": {
            "_model_module": "@jupyter-widgets/controls",
            "_model_module_version": "1.5.0",
            "_model_name": "DescriptionStyleModel",
            "_view_count": null,
            "_view_module": "@jupyter-widgets/base",
            "_view_module_version": "1.2.0",
            "_view_name": "StyleView",
            "description_width": ""
          }
        },
        "bdf2c2bc44ed47549727d605f5441743": {
          "model_module": "@jupyter-widgets/controls",
          "model_module_version": "1.5.0",
          "model_name": "DescriptionStyleModel",
          "state": {
            "_model_module": "@jupyter-widgets/controls",
            "_model_module_version": "1.5.0",
            "_model_name": "DescriptionStyleModel",
            "_view_count": null,
            "_view_module": "@jupyter-widgets/base",
            "_view_module_version": "1.2.0",
            "_view_name": "StyleView",
            "description_width": ""
          }
        },
        "c5450069b42b4ea3b06bb059b56c1640": {
          "model_module": "@jupyter-widgets/controls",
          "model_module_version": "1.5.0",
          "model_name": "DescriptionStyleModel",
          "state": {
            "_model_module": "@jupyter-widgets/controls",
            "_model_module_version": "1.5.0",
            "_model_name": "DescriptionStyleModel",
            "_view_count": null,
            "_view_module": "@jupyter-widgets/base",
            "_view_module_version": "1.2.0",
            "_view_name": "StyleView",
            "description_width": ""
          }
        },
        "c8ceb327e1b64ee5913f6652a7254a0b": {
          "model_module": "@jupyter-widgets/base",
          "model_module_version": "1.2.0",
          "model_name": "LayoutModel",
          "state": {
            "_model_module": "@jupyter-widgets/base",
            "_model_module_version": "1.2.0",
            "_model_name": "LayoutModel",
            "_view_count": null,
            "_view_module": "@jupyter-widgets/base",
            "_view_module_version": "1.2.0",
            "_view_name": "LayoutView",
            "align_content": null,
            "align_items": null,
            "align_self": null,
            "border": null,
            "bottom": null,
            "display": null,
            "flex": null,
            "flex_flow": null,
            "grid_area": null,
            "grid_auto_columns": null,
            "grid_auto_flow": null,
            "grid_auto_rows": null,
            "grid_column": null,
            "grid_gap": null,
            "grid_row": null,
            "grid_template_areas": null,
            "grid_template_columns": null,
            "grid_template_rows": null,
            "height": null,
            "justify_content": null,
            "justify_items": null,
            "left": null,
            "margin": null,
            "max_height": null,
            "max_width": null,
            "min_height": null,
            "min_width": null,
            "object_fit": null,
            "object_position": null,
            "order": null,
            "overflow": null,
            "overflow_x": null,
            "overflow_y": null,
            "padding": null,
            "right": null,
            "top": null,
            "visibility": null,
            "width": null
          }
        },
        "ca40461e81d541d083e7312783f4bad7": {
          "model_module": "@jupyter-widgets/base",
          "model_module_version": "1.2.0",
          "model_name": "LayoutModel",
          "state": {
            "_model_module": "@jupyter-widgets/base",
            "_model_module_version": "1.2.0",
            "_model_name": "LayoutModel",
            "_view_count": null,
            "_view_module": "@jupyter-widgets/base",
            "_view_module_version": "1.2.0",
            "_view_name": "LayoutView",
            "align_content": null,
            "align_items": null,
            "align_self": null,
            "border": null,
            "bottom": null,
            "display": null,
            "flex": null,
            "flex_flow": null,
            "grid_area": null,
            "grid_auto_columns": null,
            "grid_auto_flow": null,
            "grid_auto_rows": null,
            "grid_column": null,
            "grid_gap": null,
            "grid_row": null,
            "grid_template_areas": null,
            "grid_template_columns": null,
            "grid_template_rows": null,
            "height": null,
            "justify_content": null,
            "justify_items": null,
            "left": null,
            "margin": null,
            "max_height": null,
            "max_width": null,
            "min_height": null,
            "min_width": null,
            "object_fit": null,
            "object_position": null,
            "order": null,
            "overflow": null,
            "overflow_x": null,
            "overflow_y": null,
            "padding": null,
            "right": null,
            "top": null,
            "visibility": null,
            "width": null
          }
        },
        "cd1e9dcf156e4f85ac22864e32fca01d": {
          "model_module": "@jupyter-widgets/controls",
          "model_module_version": "1.5.0",
          "model_name": "HBoxModel",
          "state": {
            "_dom_classes": [],
            "_model_module": "@jupyter-widgets/controls",
            "_model_module_version": "1.5.0",
            "_model_name": "HBoxModel",
            "_view_count": null,
            "_view_module": "@jupyter-widgets/controls",
            "_view_module_version": "1.5.0",
            "_view_name": "HBoxView",
            "box_style": "",
            "children": [
              "IPY_MODEL_43423441d55346c7ad195c649d474042",
              "IPY_MODEL_2d628fb2314940c2a4032f88812c23f3",
              "IPY_MODEL_9048d209fd884dd9b2bd21d1dbfb6e7d"
            ],
            "layout": "IPY_MODEL_5d16e3122183496d825838d635c591a4"
          }
        },
        "d0651bfffcad49b7b37afa39482c7fd7": {
          "model_module": "@jupyter-widgets/base",
          "model_module_version": "1.2.0",
          "model_name": "LayoutModel",
          "state": {
            "_model_module": "@jupyter-widgets/base",
            "_model_module_version": "1.2.0",
            "_model_name": "LayoutModel",
            "_view_count": null,
            "_view_module": "@jupyter-widgets/base",
            "_view_module_version": "1.2.0",
            "_view_name": "LayoutView",
            "align_content": null,
            "align_items": null,
            "align_self": null,
            "border": null,
            "bottom": null,
            "display": null,
            "flex": null,
            "flex_flow": null,
            "grid_area": null,
            "grid_auto_columns": null,
            "grid_auto_flow": null,
            "grid_auto_rows": null,
            "grid_column": null,
            "grid_gap": null,
            "grid_row": null,
            "grid_template_areas": null,
            "grid_template_columns": null,
            "grid_template_rows": null,
            "height": null,
            "justify_content": null,
            "justify_items": null,
            "left": null,
            "margin": null,
            "max_height": null,
            "max_width": null,
            "min_height": null,
            "min_width": null,
            "object_fit": null,
            "object_position": null,
            "order": null,
            "overflow": null,
            "overflow_x": null,
            "overflow_y": null,
            "padding": null,
            "right": null,
            "top": null,
            "visibility": null,
            "width": null
          }
        },
        "db75343ab08a4aafad34a1fb1133048e": {
          "model_module": "@jupyter-widgets/controls",
          "model_module_version": "1.5.0",
          "model_name": "HTMLModel",
          "state": {
            "_dom_classes": [],
            "_model_module": "@jupyter-widgets/controls",
            "_model_module_version": "1.5.0",
            "_model_name": "HTMLModel",
            "_view_count": null,
            "_view_module": "@jupyter-widgets/controls",
            "_view_module_version": "1.5.0",
            "_view_name": "HTMLView",
            "description": "",
            "description_tooltip": null,
            "layout": "IPY_MODEL_df5b640751ec40e78f2217173875860f",
            "placeholder": "​",
            "style": "IPY_MODEL_a5f96a23df0440fe98f624be34f68230",
            "value": "tokenizer.json: 100%"
          }
        },
        "dc457368fdee41a1bde0cbc04ef39aa0": {
          "model_module": "@jupyter-widgets/controls",
          "model_module_version": "1.5.0",
          "model_name": "HBoxModel",
          "state": {
            "_dom_classes": [],
            "_model_module": "@jupyter-widgets/controls",
            "_model_module_version": "1.5.0",
            "_model_name": "HBoxModel",
            "_view_count": null,
            "_view_module": "@jupyter-widgets/controls",
            "_view_module_version": "1.5.0",
            "_view_name": "HBoxView",
            "box_style": "",
            "children": [
              "IPY_MODEL_e08916a9254e417884258657b7e4446b",
              "IPY_MODEL_9f434d6801c04fbd9ef850631bf76f3b",
              "IPY_MODEL_9672a40909aa4fe682799de42f251b36"
            ],
            "layout": "IPY_MODEL_4288547692614775b8bb4abc1f629a73"
          }
        },
        "df5b640751ec40e78f2217173875860f": {
          "model_module": "@jupyter-widgets/base",
          "model_module_version": "1.2.0",
          "model_name": "LayoutModel",
          "state": {
            "_model_module": "@jupyter-widgets/base",
            "_model_module_version": "1.2.0",
            "_model_name": "LayoutModel",
            "_view_count": null,
            "_view_module": "@jupyter-widgets/base",
            "_view_module_version": "1.2.0",
            "_view_name": "LayoutView",
            "align_content": null,
            "align_items": null,
            "align_self": null,
            "border": null,
            "bottom": null,
            "display": null,
            "flex": null,
            "flex_flow": null,
            "grid_area": null,
            "grid_auto_columns": null,
            "grid_auto_flow": null,
            "grid_auto_rows": null,
            "grid_column": null,
            "grid_gap": null,
            "grid_row": null,
            "grid_template_areas": null,
            "grid_template_columns": null,
            "grid_template_rows": null,
            "height": null,
            "justify_content": null,
            "justify_items": null,
            "left": null,
            "margin": null,
            "max_height": null,
            "max_width": null,
            "min_height": null,
            "min_width": null,
            "object_fit": null,
            "object_position": null,
            "order": null,
            "overflow": null,
            "overflow_x": null,
            "overflow_y": null,
            "padding": null,
            "right": null,
            "top": null,
            "visibility": null,
            "width": null
          }
        },
        "e08916a9254e417884258657b7e4446b": {
          "model_module": "@jupyter-widgets/controls",
          "model_module_version": "1.5.0",
          "model_name": "HTMLModel",
          "state": {
            "_dom_classes": [],
            "_model_module": "@jupyter-widgets/controls",
            "_model_module_version": "1.5.0",
            "_model_name": "HTMLModel",
            "_view_count": null,
            "_view_module": "@jupyter-widgets/controls",
            "_view_module_version": "1.5.0",
            "_view_name": "HTMLView",
            "description": "",
            "description_tooltip": null,
            "layout": "IPY_MODEL_c8ceb327e1b64ee5913f6652a7254a0b",
            "placeholder": "​",
            "style": "IPY_MODEL_635d60319e5a40eba4f6ac14d7e73661",
            "value": "tokenizer_config.json: 100%"
          }
        },
        "e4335883dc4c4c17b62cc1b2afbf38c4": {
          "model_module": "@jupyter-widgets/controls",
          "model_module_version": "1.5.0",
          "model_name": "HTMLModel",
          "state": {
            "_dom_classes": [],
            "_model_module": "@jupyter-widgets/controls",
            "_model_module_version": "1.5.0",
            "_model_name": "HTMLModel",
            "_view_count": null,
            "_view_module": "@jupyter-widgets/controls",
            "_view_module_version": "1.5.0",
            "_view_name": "HTMLView",
            "description": "",
            "description_tooltip": null,
            "layout": "IPY_MODEL_0e51f13d2f384eaa97b8e83a7e71b13a",
            "placeholder": "​",
            "style": "IPY_MODEL_11856c5a061c43e6afe67a3b83f9b3ff",
            "value": " 124/124 [00:00&lt;00:00, 4.49kB/s]"
          }
        },
        "ea656f589b314253bf28bf41fa240e27": {
          "model_module": "@jupyter-widgets/controls",
          "model_module_version": "1.5.0",
          "model_name": "HTMLModel",
          "state": {
            "_dom_classes": [],
            "_model_module": "@jupyter-widgets/controls",
            "_model_module_version": "1.5.0",
            "_model_name": "HTMLModel",
            "_view_count": null,
            "_view_module": "@jupyter-widgets/controls",
            "_view_module_version": "1.5.0",
            "_view_name": "HTMLView",
            "description": "",
            "description_tooltip": null,
            "layout": "IPY_MODEL_765934f12c374ad8b8d08835bf1551e6",
            "placeholder": "​",
            "style": "IPY_MODEL_c5450069b42b4ea3b06bb059b56c1640",
            "value": " 1.04M/1.04M [00:00&lt;00:00, 9.00MB/s]"
          }
        },
        "ecd6d0d5df4c4a48afb1ff238fe8c741": {
          "model_module": "@jupyter-widgets/base",
          "model_module_version": "1.2.0",
          "model_name": "LayoutModel",
          "state": {
            "_model_module": "@jupyter-widgets/base",
            "_model_module_version": "1.2.0",
            "_model_name": "LayoutModel",
            "_view_count": null,
            "_view_module": "@jupyter-widgets/base",
            "_view_module_version": "1.2.0",
            "_view_name": "LayoutView",
            "align_content": null,
            "align_items": null,
            "align_self": null,
            "border": null,
            "bottom": null,
            "display": null,
            "flex": null,
            "flex_flow": null,
            "grid_area": null,
            "grid_auto_columns": null,
            "grid_auto_flow": null,
            "grid_auto_rows": null,
            "grid_column": null,
            "grid_gap": null,
            "grid_row": null,
            "grid_template_areas": null,
            "grid_template_columns": null,
            "grid_template_rows": null,
            "height": null,
            "justify_content": null,
            "justify_items": null,
            "left": null,
            "margin": null,
            "max_height": null,
            "max_width": null,
            "min_height": null,
            "min_width": null,
            "object_fit": null,
            "object_position": null,
            "order": null,
            "overflow": null,
            "overflow_x": null,
            "overflow_y": null,
            "padding": null,
            "right": null,
            "top": null,
            "visibility": null,
            "width": null
          }
        },
        "eeb54ec75ea34d52bf515048412a2b7f": {
          "model_module": "@jupyter-widgets/controls",
          "model_module_version": "1.5.0",
          "model_name": "ProgressStyleModel",
          "state": {
            "_model_module": "@jupyter-widgets/controls",
            "_model_module_version": "1.5.0",
            "_model_name": "ProgressStyleModel",
            "_view_count": null,
            "_view_module": "@jupyter-widgets/base",
            "_view_module_version": "1.2.0",
            "_view_name": "StyleView",
            "bar_color": null,
            "description_width": ""
          }
        },
        "f18ccdb340ac4fa98d683f53a218c898": {
          "model_module": "@jupyter-widgets/base",
          "model_module_version": "1.2.0",
          "model_name": "LayoutModel",
          "state": {
            "_model_module": "@jupyter-widgets/base",
            "_model_module_version": "1.2.0",
            "_model_name": "LayoutModel",
            "_view_count": null,
            "_view_module": "@jupyter-widgets/base",
            "_view_module_version": "1.2.0",
            "_view_name": "LayoutView",
            "align_content": null,
            "align_items": null,
            "align_self": null,
            "border": null,
            "bottom": null,
            "display": null,
            "flex": null,
            "flex_flow": null,
            "grid_area": null,
            "grid_auto_columns": null,
            "grid_auto_flow": null,
            "grid_auto_rows": null,
            "grid_column": null,
            "grid_gap": null,
            "grid_row": null,
            "grid_template_areas": null,
            "grid_template_columns": null,
            "grid_template_rows": null,
            "height": null,
            "justify_content": null,
            "justify_items": null,
            "left": null,
            "margin": null,
            "max_height": null,
            "max_width": null,
            "min_height": null,
            "min_width": null,
            "object_fit": null,
            "object_position": null,
            "order": null,
            "overflow": null,
            "overflow_x": null,
            "overflow_y": null,
            "padding": null,
            "right": null,
            "top": null,
            "visibility": null,
            "width": null
          }
        },
        "f2e60754879c416a8c8ea23ed68756c4": {
          "model_module": "@jupyter-widgets/controls",
          "model_module_version": "1.5.0",
          "model_name": "FloatProgressModel",
          "state": {
            "_dom_classes": [],
            "_model_module": "@jupyter-widgets/controls",
            "_model_module_version": "1.5.0",
            "_model_name": "FloatProgressModel",
            "_view_count": null,
            "_view_module": "@jupyter-widgets/controls",
            "_view_module_version": "1.5.0",
            "_view_name": "ProgressView",
            "bar_style": "success",
            "description": "",
            "description_tooltip": null,
            "layout": "IPY_MODEL_af5a1cbe607f4e7180850cbc8a3869a9",
            "max": 456318,
            "min": 0,
            "orientation": "horizontal",
            "style": "IPY_MODEL_2a2cc12f03a5448ca7a97bf2e1333460",
            "value": 456318
          }
        },
        "f3d8754103494b6cbd258c5c40f7277e": {
          "model_module": "@jupyter-widgets/controls",
          "model_module_version": "1.5.0",
          "model_name": "DescriptionStyleModel",
          "state": {
            "_model_module": "@jupyter-widgets/controls",
            "_model_module_version": "1.5.0",
            "_model_name": "DescriptionStyleModel",
            "_view_count": null,
            "_view_module": "@jupyter-widgets/base",
            "_view_module_version": "1.2.0",
            "_view_name": "StyleView",
            "description_width": ""
          }
        },
        "f4ea65221b394f80931e0a2fe52e87b4": {
          "model_module": "@jupyter-widgets/controls",
          "model_module_version": "1.5.0",
          "model_name": "HBoxModel",
          "state": {
            "_dom_classes": [],
            "_model_module": "@jupyter-widgets/controls",
            "_model_module_version": "1.5.0",
            "_model_name": "HBoxModel",
            "_view_count": null,
            "_view_module": "@jupyter-widgets/controls",
            "_view_module_version": "1.5.0",
            "_view_name": "HBoxView",
            "box_style": "",
            "children": [
              "IPY_MODEL_5438e04cd0d74082964344b63877fc45",
              "IPY_MODEL_97733dcbaed64c899e06d5011056310b",
              "IPY_MODEL_e4335883dc4c4c17b62cc1b2afbf38c4"
            ],
            "layout": "IPY_MODEL_2cad057aa8f74bc6ab103463aed0320d"
          }
        },
        "fafab7d857a248f0ac1796d77af92c0a": {
          "model_module": "@jupyter-widgets/controls",
          "model_module_version": "1.5.0",
          "model_name": "DescriptionStyleModel",
          "state": {
            "_model_module": "@jupyter-widgets/controls",
            "_model_module_version": "1.5.0",
            "_model_name": "DescriptionStyleModel",
            "_view_count": null,
            "_view_module": "@jupyter-widgets/base",
            "_view_module_version": "1.2.0",
            "_view_name": "StyleView",
            "description_width": ""
          }
        },
        "fc35996c99ca491d8ab661a281382127": {
          "model_module": "@jupyter-widgets/controls",
          "model_module_version": "1.5.0",
          "model_name": "FloatProgressModel",
          "state": {
            "_dom_classes": [],
            "_model_module": "@jupyter-widgets/controls",
            "_model_module_version": "1.5.0",
            "_model_name": "FloatProgressModel",
            "_view_count": null,
            "_view_module": "@jupyter-widgets/controls",
            "_view_module_version": "1.5.0",
            "_view_name": "ProgressView",
            "bar_style": "success",
            "description": "",
            "description_tooltip": null,
            "layout": "IPY_MODEL_ca40461e81d541d083e7312783f4bad7",
            "max": 1355256,
            "min": 0,
            "orientation": "horizontal",
            "style": "IPY_MODEL_eeb54ec75ea34d52bf515048412a2b7f",
            "value": 1355256
          }
        }
      }
    }
  },
  "nbformat": 4,
  "nbformat_minor": 0
}
