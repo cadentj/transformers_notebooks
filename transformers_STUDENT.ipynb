{
 "cells": [
  {
   "cell_type": "code",
   "execution_count": null,
   "id": "f763d296",
   "metadata": {
    "id": "eo1EwQhfQJ0S"
   },
   "outputs": [],
   "source": [
    "import math\n",
    "from typing import Optional\n",
    "\n",
    "import torch\n",
    "import torch.nn as nn\n",
    "import torch.nn.functional as F\n",
    "from torchtyping import TensorType\n",
    "import matplotlib.pyplot as plt\n",
    "from transformers import AutoTokenizer, AutoModelForCausalLM\n",
    "\n",
    "DEVICE = \"cuda:0\""
   ]
  },
  {
   "cell_type": "markdown",
   "id": "33a11aa7",
   "metadata": {},
   "source": [
    "# Transformers\n",
    "\n",
    "In 2017, Google Brain released a paper titled *Attention is All you Need*, where they departed from the traditional Seq2Seq architectures used in NLP and introduced a new kind of architecture: the transformer. As the title of their paper suggests, the transformer is based on attention mechanisms, and does not use any kind of recurrent states as in RNNs. This meant that a transformer could be trained significantly faster than a Seq2Seq model using RNNs, as sequences were no longer processed one token at a time, but rather all at once. It also significantly reduced the complexity of the models being worked with. As opposed to having complex Seq2Seq variations that can quickly become intractable, the transformer is composed of relatively straightforward matrix multiplications all the way through."
   ]
  },
  {
   "cell_type": "markdown",
   "id": "02049e7a",
   "metadata": {},
   "source": [
    "This notebook focuses on GPT-2 style transformers, introduced by OpenAI in their paper *Language Models are Unsupervised Multitask Learners*. The original transformer architecture used an encoder-decoder structure for sequence to sequence tasks like translation. GPT-2 and most modern transformers use only the decoder component to excel at language modeling and text generation. In this first section, we'll focus on text generation at a high level."
   ]
  },
  {
   "cell_type": "markdown",
   "id": "ccad90da",
   "metadata": {},
   "source": [
    "Let's start with tokenization. A model's \"vocabulary\" isn't simply a list of words like we've done previously. Transformers use subword tokenization instead of full words. We can think of tokens as individual, meaningful components of language, with parts like prefixes root words (or parts of root words), suffixes, and the like. Learning the atomic structure of language allows our model to generalize onto never-before-seen words and form more a nuanced representation of language.\n",
    "\n",
    "**How do we define tokens?**\n",
    "\n",
    "We need to define a standard way of splitting up language into a series of substrings, where each substring is a member of our **vocabulary** set.\n",
    "\n",
    "Could we use a dictionary, and have our vocabulary be the set of all words in the dictionary? No, because this couldn't handle arbitrary text (e.g. URLs, punctuation, etc). We need a more general way of splitting up language.\n",
    "\n",
    "Could we just use the 256 ASCII characters? This fixes the previous problem, but it loses structure of language - some sequences of characters are more meaningful than others. For example, \"language\" is a lot more meaningful than \"hjksdfiu\". We want \"language\" to be a single token, but not \"hjksdfiu\" - this is a more efficient use of our vocab.\n",
    "\n",
    "What actually happens? The most common strategy is called **Byte-Pair encodings**.\n",
    "\n",
    "We begin with the 256 ASCII characters as our tokens, and then find the most common pair of tokens, and merge that into a new token. Note that we do have a space character as one of our 256 tokens, and merges using space are very common. For instance, here are the five first merges for the tokenizer used by GPT-2 (you'll be able to verify this below).\n",
    "\n",
    "```\n",
    "\" t\"\n",
    "\" a\"\n",
    "\"he\"\n",
    "\"in\"\n",
    "\"re\"\n",
    "```\n",
    "\n",
    "Note - you might see the character `Ġ` in front of some tokens. This is a special token that indicates that the token begins with a space. Tokens with a leading space and those without a leading space are different.\n",
    "\n",
    "We'll use the `AutoModelForCausalLM` and `AutoTokenizer` libraries to load in a transformer model and its tokenizer from Huggingface. (Hugging Face is an open source ML platform for sharing pretrained models, datasets, and much more!)"
   ]
  },
  {
   "cell_type": "code",
   "execution_count": null,
   "id": "75bd6e15",
   "metadata": {},
   "outputs": [],
   "source": [
    "repo_id = \"openai-community/gpt2\"\n",
    "\n",
    "model = AutoModelForCausalLM.from_pretrained(repo_id)\n",
    "tokenizer = AutoTokenizer.from_pretrained(repo_id)"
   ]
  },
  {
   "cell_type": "markdown",
   "id": "f1265648",
   "metadata": {},
   "source": [
    "Try printing the tokenizer's `vocab` attribute."
   ]
  },
  {
   "cell_type": "code",
   "execution_count": null,
   "id": "d50cd8e6",
   "metadata": {},
   "outputs": [],
   "source": [
    "tokenizer.vocab"
   ]
  },
  {
   "cell_type": "markdown",
   "id": "9eae1127",
   "metadata": {},
   "source": [
    "The column on the right is the individual token's \"order\" in the vocabulary. Sorting the vocabulary will give us a better idea of what's going on."
   ]
  },
  {
   "cell_type": "code",
   "execution_count": null,
   "id": "1d015de7",
   "metadata": {},
   "outputs": [],
   "source": [
    "vocab_list = list(tokenizer.vocab.items())\n",
    "sorted_vocab = sorted(vocab_list, key=lambda n: n[1])\n",
    "\n",
    "print(sorted_vocab[:10])\n",
    "print(sorted_vocab[250:260])"
   ]
  },
  {
   "cell_type": "markdown",
   "id": "e9cef785",
   "metadata": {},
   "source": [
    "As you get to the end of the vocabulary, you'll be producing some pretty weird-looking esoteric tokens (because you'll already have exhausted all of the short frequently-occurring ones):"
   ]
  },
  {
   "cell_type": "code",
   "execution_count": null,
   "id": "c08a0c8a",
   "metadata": {},
   "outputs": [],
   "source": [
    "print(sorted_vocab[-5:])"
   ]
  },
  {
   "cell_type": "markdown",
   "id": "f8366250",
   "metadata": {},
   "source": [
    "There are a few funky and frustrating things about tokenization, which causes it to behave differently than you might expect. \n",
    "\n",
    "Let's define a short method to convert lists of ids into tokens to get an idea of what's going on."
   ]
  },
  {
   "cell_type": "code",
   "execution_count": null,
   "id": "7ad6a881",
   "metadata": {},
   "outputs": [],
   "source": [
    "def to_str_tokens(string: str) -> list[str]:\n",
    "    \"\"\"\n",
    "    Turn a string into a list of tokens.\n",
    "\n",
    "    Args:\n",
    "        string (str): The string to tokenize.\n",
    "\n",
    "    Returns:\n",
    "        List[str]: A list of stringified tokens.\n",
    "    \"\"\"\n",
    "\n",
    "    # The .encode method turns a string\n",
    "    # into a list of integer ids, .decode \n",
    "    # does the opposite\n",
    "    tokens = tokenizer.encode(string)\n",
    "    \n",
    "    str_tokens = []\n",
    "    for token in tokens:\n",
    "\n",
    "        str_tokens.append(\n",
    "            tokenizer.decode(token)\n",
    "        )\n",
    "\n",
    "    return str_tokens"
   ]
  },
  {
   "cell_type": "markdown",
   "id": "76c2415f",
   "metadata": {},
   "source": [
    "Whether a word begins with a capital or space matters!"
   ]
  },
  {
   "cell_type": "code",
   "execution_count": null,
   "id": "21aac71b",
   "metadata": {},
   "outputs": [],
   "source": [
    "print(to_str_tokens(\"Ralph\"))\n",
    "print(to_str_tokens(\" Ralph\"))\n",
    "print(to_str_tokens(\" ralph\"))\n",
    "print(to_str_tokens(\"ralph\"))"
   ]
  },
  {
   "cell_type": "markdown",
   "id": "78d11f7a",
   "metadata": {},
   "source": [
    "#### Arithmetic is a mess.\n",
    "\n",
    "Length is inconsistent, common numbers bundle together."
   ]
  },
  {
   "cell_type": "code",
   "execution_count": null,
   "id": "54c08516",
   "metadata": {},
   "outputs": [],
   "source": [
    "print(to_str_tokens(\"56873+3184623=123456789-1000000000\"))"
   ]
  },
  {
   "cell_type": "markdown",
   "id": "e8ada722",
   "metadata": {},
   "source": [
    "## Text generation\n",
    "\n",
    "Now that we understand the basic ideas here, let's go through the entire process of text generation, from our original string to a new token which we can append to our string and plug back into the model. \n",
    "\n",
    "We start with a sequence of length $N$ tokens (words or subwords). This sequence is fed into the model which predicts probabilities for the $N+1$th word. We use this to construct a new sequence of length $N+1$, feed this new sequence in the model, and so on! We say a transformers is autoregressive, because it only predicts future words based on past data.\n",
    "\n",
    "To mark the beginning of a sequence, we'll use a (BOS) token. \n",
    "\n",
    "* It provides context that this is the start of a sequence, which can help the model generate more appropriate text.\n",
    "* It can act as a \"rest position\" for attention heads (more on this later, when we discuss attention).\n",
    "\n",
    "In GPT-2, the End of Sequence (EOS), Beginning of Sequence (BOS) and Padding (PAD) tokens are all the same, `<|endoftext|>` with index `50256`. This is because GPT-2 is an autoregressive model that only processes text left ot right, so it has no need to distinguish between BOS and EOS tokens.\n",
    "\n",
    "#### **Step 1:** Convert text to tokens\n",
    "\n",
    "The sequence gets tokenized, so it has shape `[batch, seq_len]`. Here, the batch dimension is just one (because we only have one sequence).\n"
   ]
  },
  {
   "cell_type": "code",
   "execution_count": null,
   "id": "dcb04fbc",
   "metadata": {},
   "outputs": [],
   "source": [
    "reference_text = \"I am an amazing autoregressive, decoder-only, GPT-2 style transformer. One day I will exceed human level intelligence and take over the world!\"\n",
    "tokens = tokenizer.encode(reference_text, return_tensors=\"pt\")\n",
    "\n",
    "print(tokens)\n",
    "print(tokens.shape)"
   ]
  },
  {
   "cell_type": "markdown",
   "id": "b486a5e9",
   "metadata": {},
   "source": [
    "#### **Step 2:** Map tokens to logits\n",
    "\n",
    "From our input of shape `[batch, seq_len]`, we get output of shape `[batch, seq_len, vocab_size]`. The `[i, j, :]`-th element of our output is a vector of logits representing our prediction for the `j+1`-th token in the `i`-th sequence.\n",
    "\n",
    "If you haven't encountered the term \"logits\" before, here's a quick refresher.\n",
    "\n",
    "Given an arbitrary vector $x$, we can turn it into a probability distribution via the **softmax** function: $x_i \\to \\frac{e^{x_i}}{\\sum e^{x_j}}$. The exponential makes everything positive; the normalization makes it add to one.\n",
    "\n",
    "The model's output is the vector $x$ (one for each prediction it makes). We call this vector a logit because it represents a probability distribution, and it is related to the actual probabilities via the softmax function."
   ]
  },
  {
   "cell_type": "code",
   "execution_count": null,
   "id": "5d327ec7",
   "metadata": {},
   "outputs": [],
   "source": [
    "logits = model(tokens).logits"
   ]
  },
  {
   "cell_type": "markdown",
   "id": "4414c017",
   "metadata": {},
   "source": [
    "#### **Step 3:** Convert the logits to a distribution with a softmax\n",
    "\n",
    "This doesn't change the shape, it is still `[batch, seq_len, vocab_size]`."
   ]
  },
  {
   "cell_type": "code",
   "execution_count": null,
   "id": "55281d50",
   "metadata": {},
   "outputs": [],
   "source": [
    "probs = logits.softmax(dim=-1)\n",
    "print(probs.shape)"
   ]
  },
  {
   "cell_type": "markdown",
   "id": "fde37071",
   "metadata": {},
   "source": [
    "#### **Step 3.5:** What is the most likely next token at each position?"
   ]
  },
  {
   "cell_type": "code",
   "execution_count": null,
   "id": "c17fe8bb",
   "metadata": {},
   "outputs": [],
   "source": [
    "# Batch decode convert a list of lists of token ids into a list of strings by calling decode.\n",
    "top_token = probs.argmax(dim=-1)[0]\n",
    "most_likely_next_tokens = tokenizer.batch_decode(top_token)\n",
    "\n",
    "print(list(zip(to_str_tokens(reference_text), most_likely_next_tokens)))"
   ]
  },
  {
   "cell_type": "markdown",
   "id": "668165d7",
   "metadata": {},
   "source": [
    "We can see that, in a few cases (particularly near the end of the sequence), the model accurately predicts the next token in the sequence. We might guess that `\"take over the world\"` is a common phrase that the model has seen in training, which is why the model can predict it.\n",
    "\n",
    "#### **Step 4:** Map distribution to a token"
   ]
  },
  {
   "cell_type": "code",
   "execution_count": null,
   "id": "50942ff1",
   "metadata": {},
   "outputs": [],
   "source": [
    "# Index to the last token position of the softmaxed logits.\n",
    "# Then take the argmax along the last dimension.\n",
    "next_token = probs[0, -1].argmax(dim=-1)\n",
    "\n",
    "# Decode the most probable token into a string.\n",
    "next_char = tokenizer.decode(next_token)\n",
    "\n",
    "print(f\"'{next_char}'\")"
   ]
  },
  {
   "cell_type": "markdown",
   "id": "2f53031c",
   "metadata": {},
   "source": [
    "Note that we're indexing `logits[0, -1]`. This is because logits have shape `[1, sequence_length, vocab_size]`, so this indexing returns the vector of length `vocab_size` representing the model's prediction for what token follows the **last** token in the input sequence.\n",
    "\n",
    "In this case, we can see that the model predicts the token `' I'`.\n",
    "\n",
    "### **Step 5:** Add this to the end of the input, re-run\n",
    "\n",
    "There are more efficient ways to do this (e.g. where we cache some of the values each time we run our input, so we don't have to do as much calculation each time we generate a new value), but this doesn't matter conceptually right now."
   ]
  },
  {
   "cell_type": "code",
   "execution_count": null,
   "id": "96ef154d",
   "metadata": {},
   "outputs": [],
   "source": [
    "print(f\"Sequence so far: {tokenizer.batch_decode(tokens)[0]}\")\n",
    "\n",
    "def generate(\n",
    "    tokens: TensorType[\"batch\", \"sequence\"],\n",
    "    running_token: TensorType[\"seq\"],\n",
    "    n_tokens: int = 10\n",
    ") -> TensorType[\"batch\", \"sequence\"]:\n",
    "    \"\"\"\n",
    "    Generate a sequence of n_tokens by appending tokens to the input sequence.\n",
    "\n",
    "    Args:\n",
    "        tokens (Tensor): The input sequence.\n",
    "        running_token (Tensor): The running token.\n",
    "        n_tokens (int): The number of tokens to generate.\n",
    "\n",
    "    Returns:\n",
    "        (Tensor): The generated sequence.\n",
    "    \"\"\"\n",
    "\n",
    "    # We want to iteratively generate the next token and append it to the running sequence. \n",
    "\n",
    "    for _ in range(n_tokens):\n",
    "        \n",
    "        # Define new input sequence, by appending the previously generated token\n",
    "        # You can use [None, None] to add two new dimensions to the tensor. \n",
    "        # This is equivalent to unsqueeze(0).unsqueeze(0), and it makes \n",
    "        # the 0d running compatible with the running sequence of tokens shape (batch, seq)\n",
    "        \n",
    "        # STUDENT CODE HERE\n",
    "\n",
    "        # Pass our new sequence through the model, to get new output\n",
    "        # Get the predicted token at the end of our sequence by taking\n",
    "        # the most probable token from the last position of the logits.\n",
    "\n",
    "        # Logits will be shape (batch, seq, vocab_size)\n",
    "        # The argmax should be taken over the last dimension of the last token\n",
    "        # e.g. tensor[:,-1,:]\n",
    "\n",
    "        # STUDENT CODE HERE\n",
    "\n",
    "        # Decode and print the result\n",
    "        next_char = tokenizer.decode(running_token)\n",
    "\n",
    "        print(f\"{tokens.shape[-1]}th char = {next_char}\")\n",
    "\n",
    "    return tokens\n",
    "\n",
    "_ = generate(tokens, next_token, 10)"
   ]
  },
  {
   "cell_type": "markdown",
   "id": "d1ec5557",
   "metadata": {},
   "source": [
    "Now that we have a high level understanding of transformer behavior, let's build one from scratch to understand the role of each component!"
   ]
  },
  {
   "cell_type": "markdown",
   "id": "e3d8be0c",
   "metadata": {},
   "source": [
    "**Embedding**\n",
    "\n",
    "At the start of a transformer, we have an embedding $W_E$ that consists of a lookup of integer tokens $t$ to vectors.\n",
    "\n",
    "\n",
    "**Residual Stream**\n",
    "\n",
    "Through the heart of the transformer, we have the residual stream. The residual stream is the sum of all previous outputs of layers of the model, is the input to each new layer. It has shape `[batch, seq_len, d_model]` (where `d_model` is the length of a single embedding vector).\n",
    "\n",
    "The initial value of the residual stream is denoted $x_0$ in the diagram, and $x_i$ are later values of the residual stream (after more attention and MLP layers have been applied to the residual stream).\n",
    "\n",
    "The residual stream is *really* fundamental. It's the central object of the transformer. It's how model remembers things, moves information between layers for composition, and it's the medium used to store the information that attention moves between positions.\n",
    "\n",
    "**Transformer layers**\n",
    "Then we have a series of `n_layers`, each consisting of an attention and mlp component. In this notebook, we'll construct an attention only transformer."
   ]
  },
  {
   "cell_type": "markdown",
   "id": "63baf01c",
   "metadata": {},
   "source": [
    "Image - TODO?"
   ]
  },
  {
   "cell_type": "markdown",
   "id": "c07a43fd",
   "metadata": {},
   "source": [
    "## Attention"
   ]
  },
  {
   "cell_type": "markdown",
   "id": "eece68d6",
   "metadata": {},
   "source": [
    "Attention layers play a crucial role in transformer architectures, enabling tokens to access information from distant positions in the sequence. Here, we will be using a _scaled dot product attention_. As the name suggests, we will compute our attention scores by computing dot products.\n",
    "\n",
    "This attention function takes in three inputs: the _queries_ $Q$, the _keys_ $K$, and the _values_ $V$. The names are not completely arbitrary here: we can think of the keys and values as key-value pairs in a Python dictionary.\n",
    "\n",
    "For a given sequence, $Q$, $K$, and $V$ will each be a $(seq, d_{head})$ matrix where $seq$ is the length of the token sequence.\n",
    "\n",
    "For instance, the queries will be represented by the matrix\n",
    "\n",
    "\\begin{align}\n",
    "&\\:\\begin{matrix}\\xleftarrow{\\hspace{0.5em}} & d_k & \\xrightarrow{\\hspace{0.5em}}\\end{matrix} \\\\\n",
    "Q =\\;\\, &\\begin{bmatrix}\\leftarrow & \\vec{q}_1 & \\rightarrow \\\\ \\leftarrow & \\vec{q}_2 & \\rightarrow \\\\ & \\vdots & \\\\ \\leftarrow & \\vec{q}_t & \\rightarrow\\end{bmatrix}\\;\\;\\begin{matrix}\\Big\\uparrow \\\\ t \\\\ \\Big\\downarrow\\end{matrix}\n",
    "\\end{align}\n",
    "\n",
    "We will compute attention scores from $Q$ and $K$. In particular, we will matrix multiply $Q$ and the transpose of $K$ to calculate the dot product between each query vector and each key vector\n",
    "\n",
    "This gives us a $(seq_{q}, seq_{k})$ matrix $E$, where the $(i, j)^\\text{th}$ element in $E$ is the attention score between the $i^\\text{th}$ query vector and the $j^\\text{th}$ key vector. We’ll call $E$ the attention scores matrix.\n",
    "\n",
    "\\begin{align}\n",
    "&\\begin{bmatrix}\n",
    "    \\;\\;\\; \\uparrow \\;\\; & \\quad \\uparrow \\; & & \\;\\, \\uparrow \\\\ \n",
    "    \\;\\;\\; \\vec{k}_1 \\;\\; & \\quad \\vec{k}_2 \\; & \\;\\; \\cdots & \\;\\;\\;\\, \\vec{k}_T \\;\\; \\\\ \n",
    "    \\;\\;\\; \\downarrow \\;\\; & \\quad \\downarrow \\; & & \\;\\, \\downarrow\n",
    "\\end{bmatrix} \\\\\n",
    "E = QK^\\intercal =\n",
    "\\begin{bmatrix}\n",
    "    \\leftarrow & \\vec{q}_1 & \\rightarrow \\vphantom{\\vec{q}_1\\cdot\\vec{k}_t} \\\\\n",
    "    \\leftarrow & \\vec{q}_2 & \\rightarrow \\vphantom{\\vec{q}_2\\cdot\\vec{k}_t} \\\\\n",
    "    & \\vdots & \\\\\n",
    "    \\leftarrow & \\vec{q}_t & \\rightarrow \\vphantom{\\vec{q}_T\\cdot\\vec{k}_t}\n",
    "\\end{bmatrix}\n",
    "&\\begin{bmatrix}\n",
    "    \\vec{q}_1\\cdot\\vec{k}_1 & \\vec{q}_1\\cdot\\vec{k}_2 & \\cdots & \\vec{q}_1\\cdot\\vec{k}_T \\\\\n",
    "    \\vec{q}_2\\cdot\\vec{k}_1 & \\vec{q}_2\\cdot\\vec{k}_2 & \\cdots & \\vec{q}_2\\cdot\\vec{k}_T \\\\\n",
    "    \\vdots & \\vdots & \\ddots & \\vdots \\\\\n",
    "    \\vec{q}_t\\cdot\\vec{k}_1 & \\vec{q}_t\\cdot\\vec{k}_2 & \\cdots & \\vec{q}_t\\cdot\\vec{k}_T \\\\\n",
    "\\end{bmatrix}=\n",
    "\\begin{bmatrix}\n",
    "    e_{1,1} & e_{1,2} & \\cdots & e_{1,T} \\vphantom{\\vec{q}_1\\cdot\\vec{k}_T} \\\\\n",
    "    e_{2,1} & e_{2,2} & \\cdots & e_{2,T} \\vphantom{\\vec{q}_2\\cdot\\vec{k}_T} \\\\\n",
    "    \\vdots & \\vdots & \\ddots & \\vdots \\\\\n",
    "    e_{t,1} & e_{t,2} & \\cdots & e_{t,T} \\vphantom{\\vec{q}_T\\cdot\\vec{k}_T} \\\\\n",
    "\\end{bmatrix}\n",
    "\\end{align}\n"
   ]
  },
  {
   "cell_type": "markdown",
   "id": "8630b132",
   "metadata": {},
   "source": [
    "Next, we will _scale_ each of the attention scores by a factor of $\\frac{1}{\\sqrt{d_k}}$. This is done to push the dot products into a reasonable range for the subsequent softmax - too negative of a dot product will results in a near-zero gradient and thus the model will train less effectively.\n",
    "\n",
    "\\begin{equation}\n",
    "E' = \\frac{1}{\\sqrt{d_k}}E\n",
    "\\end{equation}\n",
    "\n",
    "\n",
    "Finally we take the softmax of $E'$ to get our attention weights, where the sum in softmax is done over the columns of $E'$\n",
    "\n",
    "\\begin{equation}\n",
    "\\alpha = \\operatorname{softmax}(E') =\n",
    "\\begin{bmatrix}\n",
    "    \\operatorname{softmax}\\begin{pmatrix}e'_{1,1} & e'_{1,2} & \\cdots & e'_{1,T}\\end{pmatrix} \\\\\n",
    "    \\operatorname{softmax}\\begin{pmatrix}e'_{2,1} & e'_{2,2} & \\cdots & e'_{2,T}\\end{pmatrix} \\\\\n",
    "    \\vdots \\\\\n",
    "    \\operatorname{softmax}\\begin{pmatrix}e'_{t,1} & e'_{t,2} & \\cdots & e'_{t,T}\\end{pmatrix}\n",
    "\\end{bmatrix}\n",
    "\\end{equation}"
   ]
  },
  {
   "cell_type": "markdown",
   "id": "ac15a743",
   "metadata": {},
   "source": [
    "The resulting $\\alpha$ is our attention pattern. The attention pattern is shape $(seq_{q}, seq_{k})$ matrix $E$. \n",
    "\n",
    "The $(i, j)^\\text{th}$ element in the attention pattern is a probability weighting how much information to copy between $i$ and $j$\n",
    "\n",
    "Let's compute some attention scores to get a feel for whats going on. Write the function `compute_attn_pattern` which accepts a weight matrices $W_Q$ and $W_K$, an input $x$, and an attention mask, then returns an attention pattern."
   ]
  },
  {
   "cell_type": "code",
   "execution_count": null,
   "id": "afde30b3",
   "metadata": {},
   "outputs": [],
   "source": [
    "def get_mask(size: int) -> TensorType[\"size\", \"size\"]:\n",
    "    \"\"\"\n",
    "    Return an upper triangular mask of (size, size).\n",
    "\n",
    "    Args:\n",
    "        size (int): The size of the mask.\n",
    "    \"\"\"\n",
    "\n",
    "    # Create a Tensor of ones shape (size, size).\n",
    "    # Make it a 'mask' by setting the dtype to torch.bool.\n",
    "    # This allows us to use it as a mask: \n",
    "    # e.g. tensor[mask]\n",
    "    # which only returns the elements of tensor where mask is True.\n",
    "\n",
    "    # STUDENT CODE HERE\n",
    "    \n",
    "    # Create an upper triangular mask by taking the transpose of the lower triangular mask.\n",
    "\n",
    "    # STUDENT CODE HERE\n",
    "\n",
    "    return mask\n",
    "\n",
    "def compute_attn_weights(\n",
    "    W_Q: TensorType[\"d_model\", \"d_head\"],\n",
    "    W_K: TensorType[\"d_model\", \"d_head\"],\n",
    "    x: TensorType[\"seq\", \"d_model\"],\n",
    "    mask: Optional[TensorType[\"d_head\", \"d_head\"]] = None\n",
    ") -> TensorType[\"seq\", \"seq\"]:  \n",
    "    \"\"\"\n",
    "    Compute the masked attention pattern between W_Q and W_K\n",
    "    for a given input tensor x.\n",
    "\n",
    "    Args:\n",
    "        W_Q (Tensor): The query weight matrix.\n",
    "        W_K (Tensor): The key weight matrix.\n",
    "        x (Tensor): The input tensor.\n",
    "        mask (Tensor, optional): The mask to apply to the attention pattern.\n",
    "    \n",
    "    Returns:\n",
    "        A: The attention pattern.\n",
    "    \"\"\"\n",
    "\n",
    "    # Compute Q, K using W_Q, W_K\n",
    "    # The matrices Q, K will be shape (seq, d_head)\n",
    "\n",
    "    # STUDENT CODE HERE\n",
    "\n",
    "    # Then, compute the attention scores A, QK^T\n",
    "    # A will be shape (seq, seq). \n",
    "\n",
    "    # Scale the attention scores by 1/sqrt(d_head) to push the dot product into a reasonable range for softmax.\n",
    "    # During training, if the dot products are too large, the softmax will saturate (all values will be close to 0 or 1) \n",
    "    # and the gradients will be very small, making learning difficult.\n",
    "\n",
    "    # STUDENT CODE HERE\n",
    "\n",
    "    # Apply the mask to A. One helpful Torch function here\n",
    "    # is torch.masked_fill(mask, value), which will replace all values in A\n",
    "    # where mask is 'True' with a value.\n",
    "\n",
    "    if mask is not None:\n",
    "        A = A.masked_fill(mask == 0, -1e9)\n",
    "\n",
    "    # Finally, apply the softmax function to A, and return the result.\n",
    "    # Applying the softmax computes the attention weights from the attention scores\n",
    "    # where each element (i,j) is a probability weighing how much information to copy between i and j\n",
    "\n",
    "    # STUDENT CODE HERE\n",
    "    \n",
    "    return A"
   ]
  },
  {
   "cell_type": "markdown",
   "id": "9f708c56",
   "metadata": {},
   "source": [
    "`utils.py` provides a couple functions to load in weights and activations from a pretrained model, GPT-2.\n",
    "\n",
    "`get_split_l0_heads()`\n",
    "- This function loads and splits the weights $W_Q, W_K, W_V$ in layer 0. Transformers in practice typically have their heads concatenated for more efficient computation. The GPT-2 implementation from Hugging Face has $W_Q, W_K, W_V$ combined into a single weight matrix shape `[d_model, (d_model * 3)]`. We split that weight matrix into $W_Q, W_K, W_V$, then split those matrices further into `[d_model, n_heads, d_head]`.\n",
    "\n",
    "`get_pre_attn()`\n",
    "- This function accepts a prompt and returns the hidden state before attention in the 0th layer. This is our input `x`.\n",
    "\n",
    "### A note on multi headed attention\n",
    "\n",
    "We've only discussed single headed attention until now. In single headed attention, a single set of attention scores is calculated for each token in the sequence. $Q$, $K$, and $V$ will each be a $(seq, d_{head})$ matrix.\n",
    "\n",
    "Attention can easily scale to using multiple heads. In multi headed attention, the weight matrices for $Q$, $K$, and $V$ are shape `[d_model, (n_heads * d_head)]`. Each head independently computes its own set of attention scores, allowing the model to focus on different parts of the sequence simultaneously. The outputs of these heads are then concatenated and linearly transformed to produce the final output.\n",
    "\n",
    "`get_split_l0_heads` will accept an argument for `head_idx`. Under the hood, `get_split_l0_heads` will split the head weights and return the weight for the respective head index. Write the function `visualize_all_heads()` which iterates through all heads in GPT2 and computes the attention pattern."
   ]
  },
  {
   "cell_type": "code",
   "execution_count": null,
   "id": "bfc89c82",
   "metadata": {},
   "outputs": [],
   "source": [
    "from utils import get_pre_attn, get_split_l0_heads\n",
    "import circuitsvis as cv\n",
    "\n",
    "def visualize_all_heads(prompt: str, n_heads: int) -> None:\n",
    "\n",
    "    \"\"\"\n",
    "    Visualize the attention patterns for all heads in the model for a given prompt.\n",
    "\n",
    "    Args:\n",
    "        prompt (str): The input prompt.\n",
    "        n_heads (int): The number of heads to visualize.\n",
    "\n",
    "    Returns:\n",
    "        None\n",
    "    \"\"\"\n",
    "\n",
    "    # Begin by loading in the string tokens and pre-attention weights with `get_pre_attn`.\n",
    "\n",
    "    # STUDENT CODE HERE\n",
    "\n",
    "    heads = []\n",
    "\n",
    "    for head in range(n_heads):\n",
    "\n",
    "        # Get the weight matrices for the query and key for the head.\n",
    "        # These will be shape (d_model, d_head).\n",
    "\n",
    "        # STUDENT CODE HERE\n",
    "\n",
    "        # Compute the attention mask for the sequence length.\n",
    "\n",
    "        # STUDENT CODE HERE\n",
    "\n",
    "        # Compute the attention weights for the head and append to the list of heads.\n",
    "\n",
    "        # STUDENT CODE HERE\n",
    "\n",
    "    heads = torch.stack(heads, dim=0)\n",
    "\n",
    "    # CircuitsVis is a helpful library for visualizing Transformer related things.\n",
    "    \n",
    "    display(\n",
    "        cv.attention.attention_patterns(\n",
    "            tokens = string_tokens, \n",
    "            attention = heads\n",
    "        )\n",
    "    )\n",
    "\n",
    "prompt = \"When Mary and John went to the store, John gave a drink to\"\n",
    "n_heads = 12\n",
    "\n",
    "visualize_all_heads(\n",
    "    prompt = prompt,\n",
    "    n_heads = n_heads\n",
    ")"
   ]
  },
  {
   "cell_type": "markdown",
   "id": "b8fc2366",
   "metadata": {},
   "source": [
    "We notice that there are three basic patterns which repeat quite frequently:\n",
    "\n",
    "* `prev_token_heads`, which attend mainly to the previous token (e.g. head `0.7`)\n",
    "* `current_token_heads`, which attend mainly to the current token (e.g. head `0.1`)\n",
    "* `first_token_heads`, which attend mainly to the first token (e.g. heads `0.0`, although these are a bit less clear-cut than the other two)\n",
    "\n",
    "The `prev_token_heads` and `current_token_heads` are perhaps unsurprising, because words that are close together in a sequence probably have a lot more mutual information than words that are far apart (i.e. we could get quite far using bigram or trigram prediction).\n",
    "\n",
    "The `first_token_heads` are a bit more surprising. The basic intuition here is that the first token in a sequence is often used as a resting or null position for heads that only sometimes activate (since our attention probabilities always have to add up to 1)."
   ]
  },
  {
   "cell_type": "markdown",
   "id": "1c322ac1",
   "metadata": {},
   "source": [
    "Awesome! Now let's put it all together by writing our own single headed attention layer.\n",
    "\n",
    "And, as we did before, we will use our attention weights as the coefficients in weighted sum of the value vectors - the rows of $V$ - and we can accomplish this with yet another matrix multiplication:\n",
    "\n",
    "\\begin{align}\n",
    "&\\begin{bmatrix}\n",
    "    \\xleftarrow{\\hspace{6em}} & \\vec{v}_1 & \\xrightarrow{\\hspace{6em}} \\\\\n",
    "    \\xleftarrow{\\hspace{6em}} & \\vec{v}_2 & \\xrightarrow{\\hspace{6em}} \\\\\n",
    "    & \\vdots &  \\\\\n",
    "    \\xleftarrow{\\hspace{6em}} & \\vec{v}_T & \\xrightarrow{\\hspace{6em}}\n",
    "\\end{bmatrix} \\\\\n",
    "C = \\alpha V =\n",
    "\\begin{bmatrix}\n",
    "    \\alpha_{1,1} & \\alpha_{1,2} & \\cdots & \\alpha_{1,T} \\vphantom{\\sum\\limits_{i=1}^T} \\\\\n",
    "    \\alpha_{2,1} & \\alpha_{2,2} & \\cdots & \\alpha_{2,T} \\vphantom{\\sum\\limits_{i=1}^T} \\\\\n",
    "    \\vdots & \\vdots & \\ddots & \\vdots \\\\\n",
    "    \\alpha_{t,1} & \\alpha_{t,2} & \\cdots & \\alpha_{t,T} \\vphantom{\\sum\\limits_{i=1}^T} \\\\\n",
    "\\end{bmatrix}&\n",
    "\\begin{bmatrix}\n",
    "    \\sum\\limits_{i=1}^T \\alpha_{1,i}(\\vec{v}_i)_1 & \\sum\\limits_{i=1}^T \\alpha_{1,i}(\\vec{v}_i)_2 & \\cdots & \\sum\\limits_{i=1}^T \\alpha_{1,i}(\\vec{v}_i)_{d_v} \\\\\n",
    "    \\sum\\limits_{i=1}^T \\alpha_{2,i}(\\vec{v}_i)_1 & \\sum\\limits_{i=1}^T \\alpha_{2,i}(\\vec{v}_i)_2 & \\cdots & \\sum\\limits_{i=1}^T \\alpha_{2,i}(\\vec{v}_i)_{d_v} \\\\\n",
    "    \\vdots & \\vdots & \\ddots & \\vdots \\\\\n",
    "    \\sum\\limits_{i=1}^T \\alpha_{t,i}(\\vec{v}_i)_1 & \\sum\\limits_{i=1}^T \\alpha_{t,i}(\\vec{v}_i)_2 & \\cdots & \\sum\\limits_{i=1}^T \\alpha_{t,i}(\\vec{v}_i)_{d_v}\n",
    "\\end{bmatrix} =\n",
    "\\begin{bmatrix}\n",
    "    \\leftarrow & \\vec{c}_1 & \\rightarrow \\vphantom{\\sum\\limits_{i=1}^T} \\\\\n",
    "    \\leftarrow & \\vec{c}_2 & \\rightarrow \\vphantom{\\sum\\limits_{i=1}^T} \\\\\n",
    "    & \\vdots &  \\\\\n",
    "    \\leftarrow & \\vec{c}_t & \\rightarrow \\vphantom{\\sum\\limits_{i=1}^T}\n",
    "\\end{bmatrix}\n",
    "\\end{align}\n",
    "\n",
    "This will give us a matrix $C$ that has shape-$(t, d_v)$, where each row is a context vector in the same sense as before.\n",
    "Because of we weight the value vectors by attention weights from the keys, it often makes sense to have $K$ and $V$ be the same;\n",
    "if we were to draw a parallel to our previous Seq2Seq model's attention mechanism, both $K$ and $V$ would have been $H^e$, while $Q$ would be $\\vec{h}{}^d_t$.\n",
    "\n",
    "All in all, we can write our attention as the function\n",
    "\n",
    "\\begin{equation}\n",
    "C = \\operatorname{Attention}(Q, K, V) = \\operatorname{softmax}\\bigg(\\frac{QK^\\intercal}{\\sqrt{d_k}}\\bigg)V.\n",
    "\\end{equation}"
   ]
  },
  {
   "cell_type": "markdown",
   "id": "196d4de7",
   "metadata": {},
   "source": [
    "Most of what we wrote before can be repurposed into the forward method of our SingleHeadAttention module. Instead of taking $W_Q$ and $W_K$ as inputs, we want to tweak `compute_attn_pattern` to use submodules `q_layer` and `k_layer` instead."
   ]
  },
  {
   "cell_type": "code",
   "execution_count": null,
   "id": "6bafd511",
   "metadata": {
    "id": "sgqYZmyO-muh"
   },
   "outputs": [],
   "source": [
    "class SingleHeadAttention(nn.Module):\n",
    "    def __init__(self, d_model: int):\n",
    "        \"\"\"\n",
    "        Here we will assume that the input dimensions are same as the\n",
    "        output dims.\n",
    "        \"\"\"\n",
    "        super().__init__()\n",
    "\n",
    "        # Create Q, K, V weight matrices for the attention head.\n",
    "\n",
    "        # STUDENT CODE HERE\n",
    "\n",
    "    def forward(\n",
    "        self,\n",
    "        x: TensorType[\"seq\", \"d_model\"], \n",
    "        mask: TensorType[\"seq\", \"seq\"] = None, \n",
    "        return_weights: bool = False\n",
    "    ) -> TensorType[\"seq\", \"d_model\"]:\n",
    "        \"\"\"\n",
    "        Assume x is shape (seq, d_model)\n",
    "        \n",
    "        W_Q, W_K, and W_V are weights for projecting into queries,\n",
    "        keys, and values, respectively. Here these will have shape\n",
    "        (d_model, d_head), yielding d dimensional vectors for each input.\n",
    "\n",
    "        This function should return a (seq) dimensional attention weight\n",
    "        for each input -- i.e., an attention matrix with shape (seq, seq).\n",
    "\n",
    "        Derive Q, K, V matrices, then self attention weights. These should\n",
    "        be used to compute the final representations (seq, d_model); optionally\n",
    "        return the weights matrix if `return_weights=True`.\n",
    "\n",
    "        Args:\n",
    "            x (Tensor): The input tensor.\n",
    "            mask (Tensor): The mask tensor.\n",
    "            return_weights (bool): Whether to return the attention weights.\n",
    "        \"\"\"\n",
    "        \n",
    "        # Compute the attention scores for the input tensor x. \n",
    "        \n",
    "        # STUDENT CODE HERE\n",
    "\n",
    "        # Compute the output by multiplying the attention weights by the value matrix V.\n",
    "        # Include a check to return the weights if `return_weights=True`.\n",
    "\n",
    "        # STUDENT CODE HERE\n",
    "\n",
    "        return out\n",
    "        \n"
   ]
  },
  {
   "cell_type": "markdown",
   "id": "19f6d1f9",
   "metadata": {},
   "source": [
    "## Layer Norm"
   ]
  },
  {
   "cell_type": "markdown",
   "id": "38b86279",
   "metadata": {},
   "source": [
    "The layer norm is a simple normalization function applied at the start of each layer. It converts each input vector to have mean zero and variance 1, then applies an elementwise scaling and translation.\n",
    "\n",
    "Let's implement our own LayerNorm function. The [PyTorch docs](https://pytorch.org/docs/stable/generated/torch.nn.LayerNorm.html) provide a quick summary of the parameters from the original paper."
   ]
  },
  {
   "cell_type": "markdown",
   "id": "2e21aa15",
   "metadata": {},
   "source": [
    "\\begin{equation}\n",
    "y = \\frac{x - \\mathbb{E}[x]}{\\sqrt{\\mathrm{Var}[x] + \\epsilon}} \\cdot \\gamma + \\beta\n",
    "\\end{equation}"
   ]
  },
  {
   "cell_type": "markdown",
   "id": "f011b1b6",
   "metadata": {},
   "source": [
    "Some helpful functions might be [`.mean()`](https://pytorch.org/docs/stable/generated/torch.mean.html) and [`.var()`](https://pytorch.org/docs/stable/generated/torch.var.html)."
   ]
  },
  {
   "cell_type": "code",
   "execution_count": null,
   "id": "61bbc785",
   "metadata": {},
   "outputs": [],
   "source": [
    "class LayerNorm(nn.Module):\n",
    "\n",
    "    def __init__(self, d_model: int, eps=1e-6):\n",
    "        super().__init__()\n",
    "        \n",
    "        # Create attributes for .eps, .w, and .b.\n",
    "        # These correspond to the epsilon value for numerical stability,\n",
    "        # the weight vector, and the bias vector, respectively.\n",
    "\n",
    "        # Use nn.Parameter to ensure that these are trainable parameters.\n",
    "\n",
    "        # STUDENT CODE HERE\n",
    "\n",
    "    def forward(\n",
    "        self, \n",
    "        residual: TensorType[\"seq\", \"d_model\"]\n",
    "    ) -> TensorType[\"seq\", \"d_model\"]:\n",
    "        \n",
    "        # Compute the mean and standard deviation of the residual tensor.\n",
    "        # Use .mean and .std along the d_model dimension.\n",
    "\n",
    "        # STUDENT CODE HERE\n",
    "\n",
    "        # Normalize the residual tensor using the mean and standard deviation.\n",
    "        # Then apply the learned weight and bias.\n",
    "\n",
    "        # STUDENT CODE HERE\n",
    "\n",
    "        return residual"
   ]
  },
  {
   "cell_type": "markdown",
   "id": "1dbab5e2",
   "metadata": {},
   "source": [
    "Let's test out LayerNorm to see if its doing the normalization we want. Create a random input tensor shape `[batch_size, seq_length, d_model]`. Instantiate a LayerNorm object and normalize the tensor."
   ]
  },
  {
   "cell_type": "code",
   "execution_count": null,
   "id": "e74edaf1",
   "metadata": {},
   "outputs": [],
   "source": [
    "# Create input data\n",
    "batch_size, d_model = 1000, 64\n",
    "input_data = torch.randn(batch_size, d_model) * 5 + 2\n",
    "\n",
    "# Initialize and apply LayerNorm\n",
    "layer_norm = LayerNorm(d_model)\n",
    "output_data = layer_norm(input_data)\n",
    "\n",
    "def plot_distribution(ax, data, title):\n",
    "    ax.hist(data.flatten().detach().numpy(), bins=50, density=True)\n",
    "    ax.set_title(title)\n",
    "    ax.set_xlabel(\"Value\")\n",
    "    ax.set_ylabel(\"Density\")\n",
    "    ax.set_xlim(-10, 10)\n",
    "    ax.set_ylim(0, 0.5)\n",
    "\n",
    "fig, (ax1, ax2) = plt.subplots(1, 2, figsize=(15, 3))\n",
    "plot_distribution(ax1, input_data, \"Input Data Distribution\")\n",
    "plot_distribution(ax2, output_data, \"Output Data Distribution after LayerNorm\")"
   ]
  },
  {
   "cell_type": "markdown",
   "id": "763d90e5",
   "metadata": {},
   "source": [
    "Let's bundle everything together into a simple transformer layer. Self-attention refers to the fact that our input sequence `src` attends to itself via attention!"
   ]
  },
  {
   "cell_type": "code",
   "execution_count": null,
   "id": "3a5a3dad",
   "metadata": {},
   "outputs": [],
   "source": [
    "class SelfAttentionLayer(nn.Module):\n",
    "    def __init__(self, embed_dim: int):\n",
    "        super(SelfAttentionLayer, self).__init__()\n",
    "\n",
    "        # The self-attention layer should contain a SingleHeadAttention module\n",
    "        # followed by a LayerNorm module.\n",
    "\n",
    "        # STUDENT CODE HERE\n",
    "\n",
    "    def forward(\n",
    "        self, \n",
    "        src: TensorType[\"seq\", \"d_model\"], \n",
    "        mask: TensorType[\"seq\", \"seq\"] = None\n",
    "    ):\n",
    "        \"\"\"\n",
    "        Args:\n",
    "            src (Tensor): The input tensor.\n",
    "            mask (Tensor): The mask tensor.\n",
    "        \n",
    "        Returns:\n",
    "            Tensor: The output tensor.\n",
    "        \"\"\"\n",
    "\n",
    "        # Simply pass the input through the SingleHeadAttention layer,\n",
    "        # followed by a LayerNorm module.\n",
    "        src = src + self.norm1(\n",
    "            self.self_attn(src, mask=mask)\n",
    "        )\n",
    "\n",
    "        return src"
   ]
  },
  {
   "cell_type": "markdown",
   "id": "24a4ff5d",
   "metadata": {},
   "source": [
    "## Positional Encoding"
   ]
  },
  {
   "cell_type": "markdown",
   "id": "abfdab8d",
   "metadata": {},
   "source": [
    "Attention operates over all pairs of positions. This means it's invariant with regards to position - the attention calculation from token 5 to token 1 and token 5 to token 2 are the same by default. We don't want this - nearby tokens should be more relevant. \n",
    "\n",
    "`PositionalEncoding` class is a crucial component in transformer-based models. It adds positional information to input embeddings, allowing the model to understand the sequence order of inputs."
   ]
  },
  {
   "cell_type": "markdown",
   "id": "28803441",
   "metadata": {},
   "source": [
    "We want to insert some unique positional information. Our implementation of  `PositionalEncoding` class uses sine and cosine functions of different frequencies to generate these unique positional embeddings for each position in the input sequence. These embeddings are then added to the input embeddings to provide positional context.\n",
    "\n",
    "The encoding for a position `pos` and dimension `i` is given by:\n",
    "\n",
    "\\begin{align}\n",
    "PE_{(pos, 2i)} &= \\sin(pos / 100^{2i/d_{model}}) \\\\\n",
    "PE_{(pos, 2i+1)} &= \\cos(pos / 100^{2i/d_{model}})\n",
    "\\end{align}\n",
    "\n",
    "where $d_{model}$ is the dimensionality of the model.\n",
    "\n"
   ]
  },
  {
   "cell_type": "code",
   "execution_count": null,
   "id": "af93fc0c",
   "metadata": {},
   "outputs": [],
   "source": [
    "def positional_encoding(position: TensorType[\"seq\"], d_model: int) -> TensorType[\"seq\", \"d_model\"]:\n",
    "    \"\"\"\n",
    "    Generate positional encoding for the input sequence.\n",
    "\n",
    "    Positional encoding is used in transformer models to provide the model with \n",
    "    information about the relative or absolute position of the tokens in the sequence.\n",
    "\n",
    "    Args:\n",
    "        position (Tensor): Tensor representing the position of the tokens in the sequence.\n",
    "        d_model (int): The dimension of the encoding vector.\n",
    "\n",
    "    Returns:\n",
    "        (Tensor): A tensor of shape (N, d_model) containing the positional encodings.\n",
    "    \"\"\" \n",
    "\n",
    "    # Initialize a position tensor shape (seq, d_model) with zeros.\n",
    "    # Create a tensor of positions (0, 1, 2, ..., N-1) and reshape it to (N, 1)\n",
    "\n",
    "    # STUDENT CODE HERE\n",
    "\n",
    "    # Compute the scaling term for the sine and cosine functions.\n",
    "\n",
    "    # STUDENT CODE HERE\n",
    "\n",
    "    # Set every even index to sin and every odd index to cos.\n",
    "    # Slicing may be helpful here.\n",
    "\n",
    "    # STUDENT CODE HERE\n",
    "    \n",
    "    return pe\n",
    "\n",
    "# Plot for positions 0-99 and dimensions 0, 1, 2, 3\n",
    "positions = torch.arange(100).float()\n",
    "d_model = 512"
   ]
  },
  {
   "cell_type": "markdown",
   "id": "96c448bf",
   "metadata": {},
   "source": [
    "We can plot the sine and cosine functions for different dimensions."
   ]
  },
  {
   "cell_type": "code",
   "execution_count": null,
   "id": "b8610ae0",
   "metadata": {},
   "outputs": [],
   "source": [
    "plt.figure(figsize=(12, 6))\n",
    "\n",
    "pe = positional_encoding(positions, d_model)\n",
    "\n",
    "for i in [0,100,200]:\n",
    "    plt.plot(positions.numpy(), pe[:, i].numpy(), label=f'Dimension {i}')\n",
    "\n",
    "plt.legend()\n",
    "plt.title(\"Positional Encodings for Different Dimensions\")\n",
    "plt.xlabel(\"Position\")\n",
    "plt.ylabel(\"Encoding Value\")\n",
    "plt.show()"
   ]
  },
  {
   "cell_type": "markdown",
   "id": "dc28e1cd",
   "metadata": {},
   "source": [
    "Lets see how different positions `[0, 10, 25, 50]` are represented across a model dimension of 512.\n",
    "\n",
    "The x-axis represents the dimensions of the encoding vector, while the y-axis shows the encoding value, ranging from -1 to 1. Each line represents a different position's encoding.\n",
    "\n",
    "As we move from left to right, the frequency of the waves decreases, resulting in the visible pattern change. Lower dimensions (left side) use higher frequency waves, allowing for fine-grained position differentiation. Higher dimensions (right side) use lower frequency waves, capturing broader positional information. This multi-scale representation enables the model to capture both local and global positional relationships in the input sequence."
   ]
  },
  {
   "cell_type": "code",
   "execution_count": null,
   "id": "d0b2c1b5",
   "metadata": {},
   "outputs": [],
   "source": [
    "plt.figure(figsize=(12, 6))\n",
    "for pos in [0, 10, 25, 50]:\n",
    "    plt.plot(pe[pos].numpy(), label=f'Position {pos}')\n",
    "\n",
    "plt.legend()\n",
    "plt.title(\"Full Positional Encoding for Different Positions\")\n",
    "plt.xlabel(\"Dimension\")\n",
    "plt.ylabel(\"Encoding Value\")\n",
    "plt.show()"
   ]
  },
  {
   "cell_type": "markdown",
   "id": "ba708753",
   "metadata": {},
   "source": [
    "Now, integrate your positional encoding into the module PositionalEncoding. It should accept an input `x`."
   ]
  },
  {
   "cell_type": "code",
   "execution_count": null,
   "id": "f0bac2e5",
   "metadata": {},
   "outputs": [],
   "source": [
    "class PositionalEncoding(nn.Module):\n",
    "\n",
    "    def __init__(self, d_model: int, max_len=5000):\n",
    "        super(PositionalEncoding, self).__init__()\n",
    "\n",
    "        # Create a positional encoding matrix of shape (max_len, d_model)\n",
    "        # Then create a position tensor of shape (max_len, 1)\n",
    "\n",
    "        # STUDENT CODE HERE\n",
    "\n",
    "        # Finally compute the scaling term for the sine and cosine functions.\n",
    "        # Set every even index to sin and every odd index to cos.\n",
    "        # Slicing may be helpful here.\n",
    "\n",
    "        # STUDENT CODE HERE\n",
    "\n",
    "        # Register the positional encoding as a buffer.\n",
    "        # A buffer is a tensor that is not considered a model parameter.\n",
    "        self.register_buffer('pe', pe)\n",
    "\n",
    "    def forward(self, x: TensorType[\"seq\", \"d_model\"]) -> TensorType[\"seq\", \"d_model\"]:\n",
    "        # Add the positional encoding to the input tensor.\n",
    "\n",
    "        # STUDENT CODE HERE\n",
    "\n",
    "        return x"
   ]
  },
  {
   "cell_type": "markdown",
   "id": "f500eaab",
   "metadata": {
    "id": "vuRuwq1Q_Z4x"
   },
   "source": [
    "## Putting It All Together: A Simple Transformer Implementation\n",
    "\n",
    "The provided code demonstrates how the key components we've discussed - positional encoding, layer normalization, and self-attention layers - come together to form a basic transformer model. Let's break down the `TransformerModel` class:\n",
    "\n",
    "\n",
    "- `self.embed`: An embedding layer that converts input tokens to dense vectors.\n",
    "- `self.pos_encoder`: Adds positional information to the embedded tokens.\n",
    "- `self.layers`: A list of `SelfAttentionLayer` modules, forming the core of the transformer.\n",
    "- `self.norm`: A final layer normalization applied after all attention layers.\n",
    "- `self.decoder`: A linear layer that projects the final representations to vocabulary-sized logits."
   ]
  },
  {
   "cell_type": "code",
   "execution_count": null,
   "id": "9d36c6ac",
   "metadata": {
    "id": "xEbCUxGivkmA"
   },
   "outputs": [],
   "source": [
    "class CogModel(nn.Module):\n",
    "    def __init__(self, vocab_size: int, embed_dim: int, num_layers: int):\n",
    "        super(CogModel, self).__init__()\n",
    "\n",
    "        # Create an embedding layer, positional encoding, and a list of self-attention layers.\n",
    "\n",
    "        # STUDENT CODE HERE\n",
    "\n",
    "    def forward(\n",
    "        self, \n",
    "        src: TensorType[\"batch\", \"seq\"]\n",
    "    ) -> TensorType[\"batch\", \"seq\", \"vocab_size\"]:\n",
    "        \n",
    "        \"\"\"\n",
    "        Positional encodings are added to token embeddings at the start.\n",
    "        Multiple self-attention layers are stacked to process the input deeply.\n",
    "        Layer normalization is applied both within the attention layers and at the end of the entire stack.\n",
    "        The model maintains the same dimensionality (embed_dim) throughout, \n",
    "        using residual connections (likely within SelfAttentionLayer) to facilitate gradient flow.\n",
    "\n",
    "        Args:\n",
    "            src (Tensor): The input tensor.\n",
    "\n",
    "        Returns:\n",
    "            (Tensor): The output tensor\n",
    "        \"\"\"\n",
    "\n",
    "        # Create an attention mask to ensure the model only attends to previous tokens (for causal/autoregressive modeling).\n",
    "        \n",
    "        # STUDENT CODE HERE\n",
    "\n",
    "        # Embed the input tokens and add positional encodings.\n",
    "        # Pass the embeddings through each self-attention layer sequentially.\n",
    "\n",
    "        # STUDENT CODE HERE\n",
    "\n",
    "        # Apply a final layer normalization.\n",
    "        # Project the output to vocabulary-sized logits using the decoder.\n",
    "\n",
    "        # STUDENT CODE HERE\n",
    "\n",
    "        return output\n"
   ]
  },
  {
   "cell_type": "markdown",
   "id": "9d213d14",
   "metadata": {},
   "source": [
    "Rather than training the transformer yourself, we've trained it for you on a toy task."
   ]
  },
  {
   "cell_type": "code",
   "execution_count": null,
   "id": "b68a9e76",
   "metadata": {},
   "outputs": [],
   "source": [
    "from utils import load_cogmodel\n",
    "\n",
    "model, tokenizer = load_cogmodel()"
   ]
  },
  {
   "cell_type": "markdown",
   "id": "12cae870",
   "metadata": {},
   "source": [
    "You can call \"echo\" following a word to have the model repeat the word, or \"upper\" to repeat the word in all caps.\n",
    "\n",
    "Let's play around with the model! Write a generate text method to play around with the model's outputs. Note that the model isn't perfect at performing the sequence tasks it was trained on - if you want, go check out the notebook today's exercises were based on to see if you can do better!"
   ]
  },
  {
   "cell_type": "code",
   "execution_count": null,
   "id": "e5ac8f93",
   "metadata": {},
   "outputs": [],
   "source": [
    "def generate_text(prompt: str, max_len: int = 28) -> str: \n",
    "    \"\"\"\n",
    "    Generate text from a prompt using the CogModel.\n",
    "    \n",
    "    Args:\n",
    "        prompt (str): The input prompt.\n",
    "        max_len (int): The maximum length of the generated text.\n",
    "    \n",
    "    Returns:\n",
    "        (str): The generated text.\n",
    "    \"\"\"\n",
    "\n",
    "    \n",
    "    # Use the tokenizer (just like before) to encode a prompt into a Tensor of token ids.\n",
    "\n",
    "    # STUDENT CODE HERE\n",
    "\n",
    "    # For a maximum length of tokens, generate the next token by passing the prompt tensor through the model.\n",
    "    for _ in range(max_len):\n",
    "\n",
    "        # Pass the prompt tensor through the model to get the output logits. \n",
    "        # If the predicted token is a 0, or padding token, break the loop.\n",
    "        # Finally, concatenate the predicted token to the prompt tensor.\n",
    "\n",
    "        # STUDENT CODE HERE\n",
    "        \n",
    "        prompt_tensor = torch.cat((prompt_tensor, pred_token.unsqueeze(0)), dim=1)\n",
    "\n",
    "    # Decode the token ids into a string and return the result.\n",
    "\n",
    "    # STUDENT CODE HERE\n",
    "\n",
    "    return predicted_sentence\n",
    "\n",
    "result = generate_text('minecraft echo')\n",
    "print(result)\n",
    "\n",
    "result = generate_text('minecraft upper')\n",
    "print(result)"
   ]
  }
 ],
 "metadata": {
  "jupytext": {
   "main_language": "python"
  },
  "kernelspec": {
   "display_name": "Python 3",
   "name": "python3"
  }
 },
 "nbformat": 4,
 "nbformat_minor": 5
}
